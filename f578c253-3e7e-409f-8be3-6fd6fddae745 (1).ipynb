{
 "cells": [
  {
   "cell_type": "markdown",
   "metadata": {},
   "source": [
    "<div class=\"alert alert-warning\"> <b>Team Lead comment:</b> Hi! thanks for submitting decomposition! It's a good start, but we have smth missing) Can you please pay more attention to the product range analysis itself?) Please see my comments below. Thanks!\n",
    "   \n",
    "</div>"
   ]
  },
  {
   "cell_type": "markdown",
   "metadata": {},
   "source": [
    "<div class=\"alert alert-success\"> <b>Team Lead comment:</b> Thank you so much) Now we have everything!\n",
    "   \n",
    "</div>"
   ]
  },
  {
   "cell_type": "markdown",
   "id": "6dff0dd4",
   "metadata": {},
   "source": [
    "# Task: E-Commerce Product Range Analysis"
   ]
  },
  {
   "cell_type": "markdown",
   "id": "11d963b4",
   "metadata": {},
   "source": [
    "#### data descripion "
   ]
  },
  {
   "cell_type": "markdown",
   "id": "49e26c65",
   "metadata": {},
   "source": [
    "The dataset contains the transaction history of an online store that sells household goods.\n",
    "\n",
    "The file `ecommerce_dataset_us.csv` contains the following columns:\n",
    "\n",
    "`InvoiceNo` — order identifier\n",
    "\n",
    "`StockCode` — item identifier\n",
    "\n",
    "`Description` — item name\n",
    "\n",
    "`Quantity`\n",
    "\n",
    "`InvoiceDate` — order date\n",
    "\n",
    "`UnitPrice` — price per item\n",
    "\n",
    "`CustomerID`"
   ]
  },
  {
   "cell_type": "markdown",
   "id": "e42cfe0e",
   "metadata": {},
   "source": [
    "***objective: finding out trands in product sells, prediction of product sells based on clusters***"
   ]
  },
  {
   "cell_type": "markdown",
   "id": "f3bdea27",
   "metadata": {},
   "source": [
    "## mandatory stages of analysis ##"
   ]
  },
  {
   "cell_type": "markdown",
   "id": "510e4393",
   "metadata": {},
   "source": [
    "### Step 1. Download the data and neaded libraries/tools"
   ]
  },
  {
   "cell_type": "markdown",
   "id": "323905a1",
   "metadata": {},
   "source": [
    "### Step 2. Exploratory data analysis (EDA)"
   ]
  },
  {
   "cell_type": "markdown",
   "id": "fcffdd7d",
   "metadata": {},
   "source": [
    "#### 2.1 Study missing valuesand deal with missing values (remove or replace)"
   ]
  },
  {
   "cell_type": "markdown",
   "id": "f9c582e3",
   "metadata": {},
   "source": [
    "#### 2.2 Study type correspondence and convert data types"
   ]
  },
  {
   "cell_type": "markdown",
   "id": "ee2e4d66",
   "metadata": {},
   "source": [
    "#### 2.3 Study duplicate values and remove duplicates"
   ]
  },
  {
   "cell_type": "markdown",
   "id": "265fc89a",
   "metadata": {},
   "source": [
    "## Calculate metrics and make charts/Analyze the product range"
   ]
  },
  {
   "cell_type": "markdown",
   "id": "e4136e00",
   "metadata": {},
   "source": [
    "### Step 1. check for anomalies and outliers"
   ]
  },
  {
   "cell_type": "markdown",
   "id": "21057b4c",
   "metadata": {},
   "source": [
    "### Step 2. devide products by type categories (toys, cutlery, lighting, ornamrnts, clocks, etc ...) and unit prices (cheap(Q1), affordable(Q2), pricey(Q3), luxury(Q4))"
   ]
  },
  {
   "cell_type": "markdown",
   "metadata": {},
   "source": [
    "#### 2.1 Check the unique values of product description"
   ]
  },
  {
   "cell_type": "markdown",
   "metadata": {},
   "source": [
    "#### 2.2 Create lemmas list and lemmatization function"
   ]
  },
  {
   "cell_type": "markdown",
   "metadata": {},
   "source": [
    "#### 2.3 View summary statistics for unit price and create function for categorizing into different numerical categories "
   ]
  },
  {
   "cell_type": "markdown",
   "metadata": {},
   "source": [
    "<div class=\"alert alert-warning\"> <b>Team Lead comment:</b> What would you use as categorization criteria? what would be the main factor for splitting products?\n",
    "   \n",
    "</div>"
   ]
  },
  {
   "cell_type": "markdown",
   "id": "8fc7562e",
   "metadata": {},
   "source": [
    "### Step 3. check ditrebution of products by season (month or year qurtile) and category"
   ]
  },
  {
   "cell_type": "markdown",
   "id": "24018d73",
   "metadata": {},
   "source": [
    "### Step 4. check for correlatins "
   ]
  },
  {
   "cell_type": "markdown",
   "id": "9597ffcb",
   "metadata": {},
   "source": [
    "## Statistical analysis"
   ]
  },
  {
   "cell_type": "markdown",
   "metadata": {},
   "source": [
    "### Step 1. cheaper pruducts have better sells online then more costly ones"
   ]
  },
  {
   "cell_type": "markdown",
   "metadata": {},
   "source": [
    "### Step 2. sells of  product types differ in seasons (toys and blankets in winter, ornaments in spring,  towels and air fans in summer, tea mugs in automn. or something of the sort)"
   ]
  },
  {
   "cell_type": "markdown",
   "metadata": {},
   "source": [
    "<div class=\"alert alert-danger\"> <b>Team Lead comment:</b>Can you please formulate hypothesis? It should look like Null hypothesis :) We would test it later using statistical tests\n",
    "   \n",
    "</div>"
   ]
  },
  {
   "cell_type": "markdown",
   "metadata": {},
   "source": [
    "<div class=\"alert alert-warning\"> <b>Team Lead comment:</b> Not clear based on what you'll do clustering? On products? On customers? If on products, then based on what parameters?\n",
    "   \n",
    "</div>"
   ]
  },
  {
   "cell_type": "markdown",
   "metadata": {},
   "source": [
    "### Step 3. Create clusters based on keywords in product description (by Kmeans) and see what defines each cluster "
   ]
  },
  {
   "cell_type": "markdown",
   "metadata": {},
   "source": [
    "#### 3.1 build a matrix of distances based on the standardized feature matrix and plot a dendrogram."
   ]
  },
  {
   "cell_type": "markdown",
   "metadata": {},
   "source": [
    "#### 3.2 Train the clustering model with the K-means algorithm and predict product clusters."
   ]
  },
  {
   "cell_type": "markdown",
   "metadata": {},
   "source": [
    "#### 3.3 Plot distributions of features for the clusters, to see what defines each cluster¶"
   ]
  },
  {
   "cell_type": "markdown",
   "id": "a90c40e5",
   "metadata": {},
   "source": [
    "## Project conclusions/recomindations"
   ]
  },
  {
   "cell_type": "markdown",
   "id": "38a72c8d",
   "metadata": {},
   "source": [
    "### Step 1. conclusions"
   ]
  },
  {
   "cell_type": "markdown",
   "id": "e5587cbb",
   "metadata": {},
   "source": [
    "### Step 2. recomindations"
   ]
  },
  {
   "cell_type": "markdown",
   "metadata": {},
   "source": [
    "<div class=\"alert alert-block alert-info\">\n",
    "<b>Juniors answer.</b> <a class=\"tocSkip\"></a>\n",
    "\n",
    "Hello! \n",
    "Thank you very much for the feedback. \n",
    "Hope now it's better.\n",
    "</div>"
   ]
  },
  {
   "cell_type": "code",
   "execution_count": null,
   "metadata": {},
   "outputs": [],
   "source": []
  }
 ],
 "metadata": {
  "ExecuteTimeLog": [
   {
    "duration": 55,
    "start_time": "2022-06-08T17:49:23.016Z"
   },
   {
    "duration": 27,
    "start_time": "2022-06-08T17:49:35.045Z"
   }
  ],
  "kernelspec": {
   "display_name": "Python 3",
   "language": "python",
   "name": "python3"
  },
  "language_info": {
   "codemirror_mode": {
    "name": "ipython",
    "version": 3
   },
   "file_extension": ".py",
   "mimetype": "text/x-python",
   "name": "python",
   "nbconvert_exporter": "python",
   "pygments_lexer": "ipython3",
   "version": "3.8.8"
  },
  "toc": {
   "base_numbering": 1,
   "nav_menu": {},
   "number_sections": true,
   "sideBar": true,
   "skip_h1_title": true,
   "title_cell": "Table of Contents",
   "title_sidebar": "Contents",
   "toc_cell": false,
   "toc_position": {},
   "toc_section_display": true,
   "toc_window_display": false
  }
 },
 "nbformat": 4,
 "nbformat_minor": 2
}
