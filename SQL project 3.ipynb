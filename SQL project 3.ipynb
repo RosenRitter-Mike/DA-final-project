{
 "cells": [
  {
   "cell_type": "markdown",
   "id": "1963b769",
   "metadata": {},
   "source": [
    "# Project Title: book club app"
   ]
  },
  {
   "cell_type": "markdown",
   "id": "92a0d9ab",
   "metadata": {},
   "source": [
    "***Description***\n",
    "\n",
    "The coronavirus took the entire world by surprise, changing everyone's daily routine. City dwellers no longer spent their free time outside, going to cafes and malls; more people were at home, reading books. That attracted the attention of startups that rushed to develop new apps for book lovers. \n",
    "\n",
    "You've been given a database of one of the services competing in this market. It contains data on books, publishers, authors, and customer ratings and reviews of books. This information will be used to generate a value proposition for a new product."
   ]
  },
  {
   "cell_type": "markdown",
   "id": "cc74e1a2",
   "metadata": {},
   "source": [
    "## Goals of the study: Use data to generate a value proposition for books"
   ]
  },
  {
   "cell_type": "markdown",
   "id": "5ccddd87",
   "metadata": {},
   "source": [
    "## Connect to the Data Base"
   ]
  },
  {
   "cell_type": "code",
   "execution_count": 2,
   "id": "2304d0fa",
   "metadata": {},
   "outputs": [
    {
     "name": "stdout",
     "output_type": "stream",
     "text": [
      "Requirement already satisfied: psycopg2 in c:\\users\\user\\anaconda3\\lib\\site-packages (2.9.3)\n"
     ]
    }
   ],
   "source": [
    "# import libraries\n",
    "!python -m pip install psycopg2\n",
    "import pandas as pd\n",
    "from sqlalchemy import create_engine\n",
    "\n",
    "\n",
    "db_config = {'user': 'praktikum_student',         # user name\n",
    "             'pwd': 'Sdf4$2;d-d30pp', # password\n",
    "             'host': 'rc1b-wcoijxj3yxfsf3fs.mdb.yandexcloud.net',\n",
    "             'port': 6432,              # connection port\n",
    "             'db': 'data-analyst-final-project-db'}          # the name of the data base\n",
    "\n",
    "connection_string = 'postgresql://{}:{}@{}:{}/{}'.format(db_config['user'],\n",
    "                                                                     db_config['pwd'],\n",
    "                                                                       db_config['host'],\n",
    "                                                                       db_config['port'],\n",
    "                                                                       db_config['db'])\n",
    "\n",
    "engine = create_engine(connection_string, connect_args={'sslmode':'require'})"
   ]
  },
  {
   "cell_type": "markdown",
   "id": "2aadef5a",
   "metadata": {},
   "source": [
    "### Study the tables"
   ]
  },
  {
   "cell_type": "code",
   "execution_count": 3,
   "id": "38a02325",
   "metadata": {},
   "outputs": [],
   "source": [
    "query = ''' SELECT *\n",
    "            FROM books\n",
    "        '''"
   ]
  },
  {
   "cell_type": "code",
   "execution_count": 4,
   "id": "5c795079",
   "metadata": {},
   "outputs": [
    {
     "name": "stdout",
     "output_type": "stream",
     "text": [
      "   book_id  author_id                                              title  \\\n",
      "0        1        546                                       'Salem's Lot   \n",
      "1        2        465                 1 000 Places to See Before You Die   \n",
      "2        3        407  13 Little Blue Envelopes (Little Blue Envelope...   \n",
      "3        4         82  1491: New Revelations of the Americas Before C...   \n",
      "4        5        125                                               1776   \n",
      "\n",
      "   num_pages publication_date  publisher_id  \n",
      "0        594       2005-11-01            93  \n",
      "1        992       2003-05-22           336  \n",
      "2        322       2010-12-21           135  \n",
      "3        541       2006-10-10           309  \n",
      "4        386       2006-07-04           268  \n"
     ]
    }
   ],
   "source": [
    "books = pd.io.sql.read_sql(query, con = engine)\n",
    "print(books.head())"
   ]
  },
  {
   "cell_type": "code",
   "execution_count": 5,
   "id": "8ecb762b",
   "metadata": {},
   "outputs": [
    {
     "name": "stdout",
     "output_type": "stream",
     "text": [
      "   author_id                          author\n",
      "0          1                      A.S. Byatt\n",
      "1          2  Aesop/Laura Harris/Laura Gibbs\n",
      "2          3                 Agatha Christie\n",
      "3          4                   Alan Brennert\n",
      "4          5        Alan Moore/David   Lloyd\n"
     ]
    }
   ],
   "source": [
    "query = ''' SELECT *\n",
    "            FROM authors\n",
    "        '''\n",
    "authors = pd.io.sql.read_sql(query, con = engine)\n",
    "print(authors.head())"
   ]
  },
  {
   "cell_type": "code",
   "execution_count": 6,
   "id": "a273c001",
   "metadata": {},
   "outputs": [
    {
     "name": "stdout",
     "output_type": "stream",
     "text": [
      "   publisher_id                          publisher\n",
      "0             1                                Ace\n",
      "1             2                           Ace Book\n",
      "2             3                          Ace Books\n",
      "3             4                      Ace Hardcover\n",
      "4             5  Addison Wesley Publishing Company\n"
     ]
    }
   ],
   "source": [
    "query = ''' SELECT *\n",
    "            FROM publishers\n",
    "        '''\n",
    "publishers = pd.io.sql.read_sql(query, con = engine)\n",
    "print(publishers.head())"
   ]
  },
  {
   "cell_type": "code",
   "execution_count": 7,
   "id": "f9308ffa",
   "metadata": {},
   "outputs": [
    {
     "name": "stdout",
     "output_type": "stream",
     "text": [
      "   rating_id  book_id       username  rating\n",
      "0          1        1     ryanfranco       4\n",
      "1          2        1  grantpatricia       2\n",
      "2          3        1   brandtandrea       5\n",
      "3          4        2       lorichen       3\n",
      "4          5        2    mariokeller       2\n"
     ]
    }
   ],
   "source": [
    "query = ''' SELECT *\n",
    "            FROM ratings\n",
    "        '''\n",
    "ratings = pd.io.sql.read_sql(query, con = engine)\n",
    "print(ratings.head())"
   ]
  },
  {
   "cell_type": "code",
   "execution_count": 8,
   "id": "eaf5e7f4",
   "metadata": {},
   "outputs": [
    {
     "name": "stdout",
     "output_type": "stream",
     "text": [
      "   review_id  book_id       username  \\\n",
      "0          1        1   brandtandrea   \n",
      "1          2        1     ryanfranco   \n",
      "2          3        2       lorichen   \n",
      "3          4        3  johnsonamanda   \n",
      "4          5        3    scotttamara   \n",
      "\n",
      "                                                text  \n",
      "0  Mention society tell send professor analysis. ...  \n",
      "1  Foot glass pretty audience hit themselves. Amo...  \n",
      "2  Listen treat keep worry. Miss husband tax but ...  \n",
      "3  Finally month interesting blue could nature cu...  \n",
      "4  Nation purpose heavy give wait song will. List...  \n"
     ]
    }
   ],
   "source": [
    "query = ''' SELECT *\n",
    "            FROM reviews\n",
    "        '''\n",
    "reviews = pd.io.sql.read_sql(query, con = engine)\n",
    "print(reviews.head())"
   ]
  },
  {
   "cell_type": "markdown",
   "id": "ed5ba972",
   "metadata": {},
   "source": [
    "## Tasks"
   ]
  },
  {
   "cell_type": "markdown",
   "id": "7fd53a1f",
   "metadata": {},
   "source": [
    "### Find the number of books released after January 1, 2000."
   ]
  },
  {
   "cell_type": "code",
   "execution_count": 9,
   "id": "5d4f88f8",
   "metadata": {},
   "outputs": [
    {
     "name": "stdout",
     "output_type": "stream",
     "text": [
      "   num_books\n",
      "0        819\n"
     ]
    }
   ],
   "source": [
    "query = ''' SELECT count(book_id) num_books\n",
    "            FROM books\n",
    "            WHERE EXTRACT(YEAR FROM CAST(publication_date AS date)) > 2000\n",
    "                or (EXTRACT(YEAR FROM CAST(publication_date AS date)) = 2000 \n",
    "                and EXTRACT(DOY FROM CAST(publication_date AS date))!= 1)\n",
    "        '''\n",
    "library_df = pd.io.sql.read_sql(query, con = engine)\n",
    "print(library_df)"
   ]
  },
  {
   "cell_type": "markdown",
   "id": "c68626f5",
   "metadata": {},
   "source": [
    "#### conclusions"
   ]
  },
  {
   "cell_type": "markdown",
   "id": "8dbc2b0d",
   "metadata": {},
   "source": [
    "- 819 books were released after January 1, 2000."
   ]
  },
  {
   "cell_type": "markdown",
   "id": "c8d43d45",
   "metadata": {},
   "source": [
    "### Find the number of user reviews and the average rating for each book."
   ]
  },
  {
   "cell_type": "code",
   "execution_count": 11,
   "id": "05c1687c",
   "metadata": {},
   "outputs": [
    {
     "name": "stdout",
     "output_type": "stream",
     "text": [
      "      id  num_rev  avg_rt\n",
      "0    972        2    5.00\n",
      "1    513        2    5.00\n",
      "2    901        2    5.00\n",
      "3    136        2    5.00\n",
      "4     86        2    5.00\n",
      "..   ...      ...     ...\n",
      "989  915        3    2.25\n",
      "990  371        2    2.00\n",
      "991  316        2    2.00\n",
      "992  202        3    2.00\n",
      "993  303        2    1.50\n",
      "\n",
      "[994 rows x 3 columns]\n"
     ]
    }
   ],
   "source": [
    "query = ''' SELECT rt.book_id id,\n",
    "                   count(DISTINCT rw.review_id) num_rev,\n",
    "                   avg(rt.rating) avg_rt\n",
    "            FROM ratings as rt\n",
    "            inner join reviews as rw on rt.book_id = rw.book_id \n",
    "            group by rt.book_id\n",
    "            order by avg_rt desc\n",
    "        '''\n",
    "library_df = pd.io.sql.read_sql(query, con = engine)\n",
    "print(library_df)"
   ]
  },
  {
   "cell_type": "markdown",
   "id": "3d2d753e",
   "metadata": {},
   "source": [
    "### Identify the publisher that has released the greatest number of books with more than 50 pages"
   ]
  },
  {
   "cell_type": "code",
   "execution_count": 12,
   "id": "e75aefcf",
   "metadata": {},
   "outputs": [
    {
     "name": "stdout",
     "output_type": "stream",
     "text": [
      "       publisher\n",
      "0  Penguin Books\n"
     ]
    }
   ],
   "source": [
    "query = ''' SELECT publisher\n",
    "            FROM publishers\n",
    "            where publisher_id = (SELECT bk.publisher_id   \n",
    "            FROM books as bk\n",
    "            inner join publishers as pub on bk.publisher_id = pub.publisher_id\n",
    "            where bk.num_pages > 50\n",
    "            group by bk.publisher_id\n",
    "            order by count(bk.book_id) desc\n",
    "            limit 1)\n",
    "        '''\n",
    "library_df = pd.io.sql.read_sql(query, con = engine)\n",
    "print(library_df)"
   ]
  },
  {
   "cell_type": "markdown",
   "id": "bda87301",
   "metadata": {},
   "source": [
    "#### conclusions"
   ]
  },
  {
   "cell_type": "markdown",
   "id": "2cd0e350",
   "metadata": {},
   "source": [
    "- The publisher that has released the greatest number of books with more than 50 pages, is Penguin Books."
   ]
  },
  {
   "cell_type": "markdown",
   "id": "43077a1e",
   "metadata": {},
   "source": [
    "### Identify the author with the highest average book rating (look only at books with at least 50 ratings)."
   ]
  },
  {
   "cell_type": "code",
   "execution_count": 13,
   "id": "63f8a202",
   "metadata": {},
   "outputs": [
    {
     "name": "stdout",
     "output_type": "stream",
     "text": [
      "                       author\n",
      "0  J.K. Rowling/Mary GrandPré\n"
     ]
    }
   ],
   "source": [
    "query = ''' SELECT author\n",
    "            FROM authors\n",
    "            where author_id = (SELECT bk.author_id author\n",
    "                               FROM books as bk\n",
    "                               inner join ratings as rt on bk.book_id = rt.book_id\n",
    "                               WHERE bk.book_id IN (SELECT bk.book_id bk_id\n",
    "                                                    FROM books as bk\n",
    "                                                    inner join ratings as rt on bk.book_id = rt.book_id \n",
    "                                                    group by bk.book_id\n",
    "                                                    having count(rating_id) >= 50)\n",
    "                               group by bk.author_id\n",
    "                               order by avg(rt.rating) desc\n",
    "                               limit 1)\n",
    "        '''\n",
    "library_df = pd.io.sql.read_sql(query, con = engine)\n",
    "print(library_df)"
   ]
  },
  {
   "cell_type": "markdown",
   "id": "abe16fc0",
   "metadata": {},
   "source": [
    "#### conclusions"
   ]
  },
  {
   "cell_type": "markdown",
   "id": "7854a26d",
   "metadata": {},
   "source": [
    "- The author with the highest average book rating (among authors with books, with at least 50 ratings), is the duo J.K. Rowling/Mary GrandPré (J.K. Rowling is the author, while Mary GrandPré is the illustrator of her books)."
   ]
  },
  {
   "cell_type": "markdown",
   "id": "f50bb274",
   "metadata": {},
   "source": [
    "### Find the average number of text reviews among users who rated more than 50 books. "
   ]
  },
  {
   "cell_type": "code",
   "execution_count": 14,
   "id": "c29e6ede",
   "metadata": {},
   "outputs": [
    {
     "name": "stdout",
     "output_type": "stream",
     "text": [
      "         avg\n",
      "0  24.333333\n"
     ]
    }
   ],
   "source": [
    "query = ''' SELECT AVG(tex_rw)\n",
    "            FROM (SELECT username uname,\n",
    "                  COUNT(text) tex_rw\n",
    "                  FROM reviews as rw \n",
    "                  WHERE username IN (SELECT username uname               \n",
    "                                     FROM ratings as rt\n",
    "                                     GROUP BY username\n",
    "                                     HAVING count(rating_id) > 50)\n",
    "                  GROUP BY username) AS r50t                   \n",
    "        '''\n",
    "library_df = pd.io.sql.read_sql(query, con = engine)\n",
    "print(library_df)"
   ]
  },
  {
   "cell_type": "markdown",
   "id": "8ee5c9e3",
   "metadata": {},
   "source": [
    "#### conclusions"
   ]
  },
  {
   "cell_type": "markdown",
   "id": "05b1e09f",
   "metadata": {},
   "source": [
    "- The average number of text reviews among users who rated more than 50 books, is about 24 (24.333) text reviews."
   ]
  },
  {
   "cell_type": "markdown",
   "id": "aa07e14c",
   "metadata": {},
   "source": [
    "## Overall conclusions"
   ]
  },
  {
   "cell_type": "markdown",
   "id": "fcbbec88",
   "metadata": {},
   "source": [
    "- 819 books were released after January 1, 2000.\n",
    "\n",
    "- The publisher that has released the greatest number of books with more than 50 pages, is Penguin Books.\n",
    "\n",
    "- The author with the highest average book rating (among authors with books, with at least 50 ratings), is the duo J.K. Rowling/Mary GrandPré (J.K. Rowling is the author, while Mary GrandPré is the illustrator of her books).\n",
    "\n",
    "- The average number of text reviews among users who rated more than 50 books, is about 24 (24.333) text reviews."
   ]
  },
  {
   "cell_type": "code",
   "execution_count": null,
   "id": "4f12f346",
   "metadata": {},
   "outputs": [],
   "source": []
  }
 ],
 "metadata": {
  "kernelspec": {
   "display_name": "Python 3",
   "language": "python",
   "name": "python3"
  },
  "language_info": {
   "codemirror_mode": {
    "name": "ipython",
    "version": 3
   },
   "file_extension": ".py",
   "mimetype": "text/x-python",
   "name": "python",
   "nbconvert_exporter": "python",
   "pygments_lexer": "ipython3",
   "version": "3.8.8"
  }
 },
 "nbformat": 4,
 "nbformat_minor": 5
}
