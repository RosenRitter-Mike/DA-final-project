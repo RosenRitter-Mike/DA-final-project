{
 "cells": [
  {
   "cell_type": "markdown",
   "metadata": {},
   "source": [
    "# Task: Testing changes related to the introduction of an improved recommendation system #"
   ]
  },
  {
   "cell_type": "markdown",
   "metadata": {},
   "source": [
    "## hypotheses: there will be at least a 10% increase in conversion rate ##\n",
    "***That means there is a significant difference between the proportions of the groups, movemant through the event funnel is significantly different between the groups.(rejection of null hypotesis)***"
   ]
  },
  {
   "cell_type": "markdown",
   "metadata": {},
   "source": [
    "### Technical description ##\n",
    "\n",
    "- Test name: `recommender_system_test`\n",
    "- Groups: А (control), B (new payment funnel)\n",
    "- Launch date: 2020-12-07\n",
    "- The date when they stopped taking up new users: 2020-12-21\n",
    "- End date: 2021-01-01\n",
    "- Audience: 15% of the new users from the EU region\n",
    "- Purpose of the test: testing changes related to the introduction of an improved recommendation system\n",
    "- Expected result: within 14 days of signing up, users will show better conversion into product page views (the `product_page` event), product card views (`product_card`) and purchases (`purchase`). At each of the stage of the funnel `product_page → product_card → purchase`, there will be at least a 10% increase.\n",
    "- Expected number of test participants: 6000\n"
   ]
  },
  {
   "cell_type": "markdown",
   "metadata": {},
   "source": [
    "### Data description ###\n",
    "Structure of `ab_project_marketing_events_us.csv`:\n",
    "\n",
    "- `name` — the name of the marketing event\n",
    "- `regions` — regions where the ad campaign will be held\n",
    "- `start_dt` — campaign start date\n",
    "- `finish_dt` — campaign end date\n",
    "\n",
    "Structure of `final_ab_new_users_upd.csv`:\n",
    "\n",
    "- `user_id`\n",
    "- `first_date` — sign-up date\n",
    "- `region`\n",
    "- `device` — device used to sign up\n",
    "\n",
    "Structure of `final_ab_events_upd.csv`:\n",
    "\n",
    "- `user_id`\n",
    "- `event_dt` — event date and time\n",
    "- `event_name` — event type name\n",
    "- `details` — additional data on the event (for instance, the order total in USD for `purchase` events)\n",
    "\n",
    "Structure of `final_ab_participants_upd.csv`:\n",
    "\n",
    "- `user_id`\n",
    "- `ab_test` — test name\n",
    "- `group` — the test group the user belonged to"
   ]
  },
  {
   "cell_type": "markdown",
   "metadata": {},
   "source": [
    "## mandatory stages of analysis ##"
   ]
  },
  {
   "cell_type": "markdown",
   "metadata": {},
   "source": [
    "### Step 1. Download the data and neaded libraries/tools"
   ]
  },
  {
   "cell_type": "code",
   "execution_count": 2,
   "metadata": {},
   "outputs": [
    {
     "name": "stdout",
     "output_type": "stream",
     "text": [
      "Requirement already satisfied: pip in /opt/conda/lib/python3.9/site-packages (21.1.3)\n",
      "Collecting pip\n",
      "  Downloading pip-22.1.2-py3-none-any.whl (2.1 MB)\n",
      "\u001b[K     |████████████████████████████████| 2.1 MB 1.9 MB/s eta 0:00:01\n",
      "\u001b[?25hInstalling collected packages: pip\n",
      "  Attempting uninstall: pip\n",
      "    Found existing installation: pip 21.1.3\n",
      "    Uninstalling pip-21.1.3:\n",
      "      Successfully uninstalled pip-21.1.3\n",
      "Successfully installed pip-22.1.2\n",
      "Collecting sidetable\n",
      "  Downloading sidetable-0.9.0-py3-none-any.whl (17 kB)\n",
      "Requirement already satisfied: pandas>=1.0 in /opt/conda/lib/python3.9/site-packages (from sidetable) (1.2.4)\n",
      "Requirement already satisfied: python-dateutil>=2.7.3 in /opt/conda/lib/python3.9/site-packages (from pandas>=1.0->sidetable) (2.8.1)\n",
      "Requirement already satisfied: pytz>=2017.3 in /opt/conda/lib/python3.9/site-packages (from pandas>=1.0->sidetable) (2021.1)\n",
      "Requirement already satisfied: numpy>=1.16.5 in /opt/conda/lib/python3.9/site-packages (from pandas>=1.0->sidetable) (1.21.1)\n",
      "Requirement already satisfied: six>=1.5 in /opt/conda/lib/python3.9/site-packages (from python-dateutil>=2.7.3->pandas>=1.0->sidetable) (1.16.0)\n",
      "Installing collected packages: sidetable\n",
      "Successfully installed sidetable-0.9.0\n",
      "Requirement already satisfied: seaborn in /opt/conda/lib/python3.9/site-packages (0.11.1)\n",
      "Collecting seaborn\n",
      "  Downloading seaborn-0.11.2-py3-none-any.whl (292 kB)\n",
      "\u001b[2K     \u001b[90m━━━━━━━━━━━━━━━━━━━━━━━━━━━━━━━━━━━━━━━\u001b[0m \u001b[32m292.8/292.8 kB\u001b[0m \u001b[31m4.2 MB/s\u001b[0m eta \u001b[36m0:00:00\u001b[0ma \u001b[36m0:00:01\u001b[0m\n",
      "\u001b[?25hRequirement already satisfied: scipy>=1.0 in /opt/conda/lib/python3.9/site-packages (from seaborn) (1.8.0)\n",
      "Requirement already satisfied: numpy>=1.15 in /opt/conda/lib/python3.9/site-packages (from seaborn) (1.21.1)\n",
      "Requirement already satisfied: matplotlib>=2.2 in /opt/conda/lib/python3.9/site-packages (from seaborn) (3.3.4)\n",
      "Requirement already satisfied: pandas>=0.23 in /opt/conda/lib/python3.9/site-packages (from seaborn) (1.2.4)\n",
      "Requirement already satisfied: cycler>=0.10 in /opt/conda/lib/python3.9/site-packages (from matplotlib>=2.2->seaborn) (0.11.0)\n",
      "Requirement already satisfied: pyparsing!=2.0.4,!=2.1.2,!=2.1.6,>=2.0.3 in /opt/conda/lib/python3.9/site-packages (from matplotlib>=2.2->seaborn) (2.4.7)\n",
      "Requirement already satisfied: kiwisolver>=1.0.1 in /opt/conda/lib/python3.9/site-packages (from matplotlib>=2.2->seaborn) (1.4.2)\n",
      "Requirement already satisfied: python-dateutil>=2.1 in /opt/conda/lib/python3.9/site-packages (from matplotlib>=2.2->seaborn) (2.8.1)\n",
      "Requirement already satisfied: pillow>=6.2.0 in /opt/conda/lib/python3.9/site-packages (from matplotlib>=2.2->seaborn) (8.4.0)\n",
      "Requirement already satisfied: pytz>=2017.3 in /opt/conda/lib/python3.9/site-packages (from pandas>=0.23->seaborn) (2021.1)\n",
      "Requirement already satisfied: six>=1.5 in /opt/conda/lib/python3.9/site-packages (from python-dateutil>=2.1->matplotlib>=2.2->seaborn) (1.16.0)\n",
      "Installing collected packages: seaborn\n",
      "  Attempting uninstall: seaborn\n",
      "    Found existing installation: seaborn 0.11.1\n",
      "    Uninstalling seaborn-0.11.1:\n",
      "      Successfully uninstalled seaborn-0.11.1\n",
      "Successfully installed seaborn-0.11.2\n"
     ]
    }
   ],
   "source": [
    "!python -m pip install --upgrade pip\n",
    "!python -m pip install sidetable -U\n",
    "!python -m pip install -U seaborn "
   ]
  },
  {
   "cell_type": "code",
   "execution_count": 3,
   "metadata": {},
   "outputs": [],
   "source": [
    "# Loading all the libraries\n",
    "\n",
    "import pandas as pd\n",
    "import numpy as np\n",
    "from scipy import stats as st\n",
    "import datetime as dt\n",
    "import seaborn as sns\n",
    "import matplotlib.pyplot as plt\n",
    "import sidetable as stb\n",
    "import plotly.express as px\n",
    "import plotly.graph_objects as go\n",
    "import math \n",
    "from functools import reduce\n",
    "from statsmodels.stats.proportion import proportions_ztest\n",
    "\n",
    "%matplotlib inline\n",
    "\n",
    "pd.options.display.float_format = '{:.3f}'.format\n",
    "pd.options.display.max_colwidth = 200  "
   ]
  },
  {
   "cell_type": "code",
   "execution_count": 4,
   "metadata": {},
   "outputs": [
    {
     "data": {
      "text/html": [
       "<div>\n",
       "<style scoped>\n",
       "    .dataframe tbody tr th:only-of-type {\n",
       "        vertical-align: middle;\n",
       "    }\n",
       "\n",
       "    .dataframe tbody tr th {\n",
       "        vertical-align: top;\n",
       "    }\n",
       "\n",
       "    .dataframe thead th {\n",
       "        text-align: right;\n",
       "    }\n",
       "</style>\n",
       "<table border=\"1\" class=\"dataframe\">\n",
       "  <thead>\n",
       "    <tr style=\"text-align: right;\">\n",
       "      <th></th>\n",
       "      <th>name</th>\n",
       "      <th>regions</th>\n",
       "      <th>start_dt</th>\n",
       "      <th>finish_dt</th>\n",
       "    </tr>\n",
       "  </thead>\n",
       "  <tbody>\n",
       "    <tr>\n",
       "      <th>0</th>\n",
       "      <td>Christmas&amp;New Year Promo</td>\n",
       "      <td>EU, N.America</td>\n",
       "      <td>2020-12-25</td>\n",
       "      <td>2021-01-03</td>\n",
       "    </tr>\n",
       "    <tr>\n",
       "      <th>1</th>\n",
       "      <td>St. Valentine's Day Giveaway</td>\n",
       "      <td>EU, CIS, APAC, N.America</td>\n",
       "      <td>2020-02-14</td>\n",
       "      <td>2020-02-16</td>\n",
       "    </tr>\n",
       "    <tr>\n",
       "      <th>2</th>\n",
       "      <td>St. Patric's Day Promo</td>\n",
       "      <td>EU, N.America</td>\n",
       "      <td>2020-03-17</td>\n",
       "      <td>2020-03-19</td>\n",
       "    </tr>\n",
       "    <tr>\n",
       "      <th>3</th>\n",
       "      <td>Easter Promo</td>\n",
       "      <td>EU, CIS, APAC, N.America</td>\n",
       "      <td>2020-04-12</td>\n",
       "      <td>2020-04-19</td>\n",
       "    </tr>\n",
       "    <tr>\n",
       "      <th>4</th>\n",
       "      <td>4th of July Promo</td>\n",
       "      <td>N.America</td>\n",
       "      <td>2020-07-04</td>\n",
       "      <td>2020-07-11</td>\n",
       "    </tr>\n",
       "  </tbody>\n",
       "</table>\n",
       "</div>"
      ],
      "text/plain": [
       "                           name                   regions   start_dt  \\\n",
       "0      Christmas&New Year Promo             EU, N.America 2020-12-25   \n",
       "1  St. Valentine's Day Giveaway  EU, CIS, APAC, N.America 2020-02-14   \n",
       "2        St. Patric's Day Promo             EU, N.America 2020-03-17   \n",
       "3                  Easter Promo  EU, CIS, APAC, N.America 2020-04-12   \n",
       "4             4th of July Promo                 N.America 2020-07-04   \n",
       "\n",
       "   finish_dt  \n",
       "0 2021-01-03  \n",
       "1 2020-02-16  \n",
       "2 2020-03-19  \n",
       "3 2020-04-19  \n",
       "4 2020-07-11  "
      ]
     },
     "metadata": {},
     "output_type": "display_data"
    },
    {
     "data": {
      "text/plain": [
       "14"
      ]
     },
     "metadata": {},
     "output_type": "display_data"
    }
   ],
   "source": [
    "# Load the data files into a DataFrame\n",
    "\n",
    "try: \n",
    "    marketing_events = pd.read_csv('ab_project_marketing_events_us.csv', parse_dates=['start_dt', 'finish_dt'])         \n",
    "    \n",
    "except:\n",
    "    marketing_events = pd.read_csv('/datasets/ab_project_marketing_events_us.csv', parse_dates=['start_dt', 'finish_dt'])\n",
    "   \n",
    "\n",
    " \n",
    "display(marketing_events.head(), len(marketing_events))"
   ]
  },
  {
   "cell_type": "code",
   "execution_count": 5,
   "metadata": {},
   "outputs": [
    {
     "name": "stdout",
     "output_type": "stream",
     "text": [
      "<class 'pandas.core.frame.DataFrame'>\n",
      "RangeIndex: 14 entries, 0 to 13\n",
      "Data columns (total 4 columns):\n",
      " #   Column     Non-Null Count  Dtype         \n",
      "---  ------     --------------  -----         \n",
      " 0   name       14 non-null     object        \n",
      " 1   regions    14 non-null     object        \n",
      " 2   start_dt   14 non-null     datetime64[ns]\n",
      " 3   finish_dt  14 non-null     datetime64[ns]\n",
      "dtypes: datetime64[ns](2), object(2)\n",
      "memory usage: 576.0+ bytes\n"
     ]
    }
   ],
   "source": [
    "marketing_events.info()"
   ]
  },
  {
   "cell_type": "markdown",
   "metadata": {},
   "source": [
    "***ab_project_marketing_events_us.csv — the calendar of marketing events for 2020***\n",
    "\n",
    "Structure of `ab_project_marketing_events_us.csv`:\n",
    "\n",
    "- `name` — the name of the marketing event\n",
    "- `regions` — regions where the ad campaign will be held\n",
    "- `start_dt` — campaign start date\n",
    "- `finish_dt` — campaign end date"
   ]
  },
  {
   "cell_type": "code",
   "execution_count": 6,
   "metadata": {},
   "outputs": [
    {
     "data": {
      "text/html": [
       "<div>\n",
       "<style scoped>\n",
       "    .dataframe tbody tr th:only-of-type {\n",
       "        vertical-align: middle;\n",
       "    }\n",
       "\n",
       "    .dataframe tbody tr th {\n",
       "        vertical-align: top;\n",
       "    }\n",
       "\n",
       "    .dataframe thead th {\n",
       "        text-align: right;\n",
       "    }\n",
       "</style>\n",
       "<table border=\"1\" class=\"dataframe\">\n",
       "  <thead>\n",
       "    <tr style=\"text-align: right;\">\n",
       "      <th></th>\n",
       "      <th>user_id</th>\n",
       "      <th>first_date</th>\n",
       "      <th>region</th>\n",
       "      <th>device</th>\n",
       "    </tr>\n",
       "  </thead>\n",
       "  <tbody>\n",
       "    <tr>\n",
       "      <th>0</th>\n",
       "      <td>D72A72121175D8BE</td>\n",
       "      <td>2020-12-07</td>\n",
       "      <td>EU</td>\n",
       "      <td>PC</td>\n",
       "    </tr>\n",
       "    <tr>\n",
       "      <th>1</th>\n",
       "      <td>F1C668619DFE6E65</td>\n",
       "      <td>2020-12-07</td>\n",
       "      <td>N.America</td>\n",
       "      <td>Android</td>\n",
       "    </tr>\n",
       "    <tr>\n",
       "      <th>2</th>\n",
       "      <td>2E1BF1D4C37EA01F</td>\n",
       "      <td>2020-12-07</td>\n",
       "      <td>EU</td>\n",
       "      <td>PC</td>\n",
       "    </tr>\n",
       "    <tr>\n",
       "      <th>3</th>\n",
       "      <td>50734A22C0C63768</td>\n",
       "      <td>2020-12-07</td>\n",
       "      <td>EU</td>\n",
       "      <td>iPhone</td>\n",
       "    </tr>\n",
       "    <tr>\n",
       "      <th>4</th>\n",
       "      <td>E1BDDCE0DAFA2679</td>\n",
       "      <td>2020-12-07</td>\n",
       "      <td>N.America</td>\n",
       "      <td>iPhone</td>\n",
       "    </tr>\n",
       "  </tbody>\n",
       "</table>\n",
       "</div>"
      ],
      "text/plain": [
       "            user_id first_date     region   device\n",
       "0  D72A72121175D8BE 2020-12-07         EU       PC\n",
       "1  F1C668619DFE6E65 2020-12-07  N.America  Android\n",
       "2  2E1BF1D4C37EA01F 2020-12-07         EU       PC\n",
       "3  50734A22C0C63768 2020-12-07         EU   iPhone\n",
       "4  E1BDDCE0DAFA2679 2020-12-07  N.America   iPhone"
      ]
     },
     "metadata": {},
     "output_type": "display_data"
    },
    {
     "data": {
      "text/plain": [
       "58703"
      ]
     },
     "metadata": {},
     "output_type": "display_data"
    }
   ],
   "source": [
    "try: \n",
    "    users = pd.read_csv('final_ab_new_users_upd_us.csv', parse_dates=['first_date'])         \n",
    "    \n",
    "except:\n",
    "    users = pd.read_csv('/datasets/final_ab_new_users_upd_us.csv', parse_dates=['first_date'])\n",
    "   \n",
    "\n",
    " \n",
    "display(users.head(), len(users))"
   ]
  },
  {
   "cell_type": "code",
   "execution_count": 7,
   "metadata": {},
   "outputs": [
    {
     "name": "stdout",
     "output_type": "stream",
     "text": [
      "<class 'pandas.core.frame.DataFrame'>\n",
      "RangeIndex: 58703 entries, 0 to 58702\n",
      "Data columns (total 4 columns):\n",
      " #   Column      Non-Null Count  Dtype         \n",
      "---  ------      --------------  -----         \n",
      " 0   user_id     58703 non-null  object        \n",
      " 1   first_date  58703 non-null  datetime64[ns]\n",
      " 2   region      58703 non-null  object        \n",
      " 3   device      58703 non-null  object        \n",
      "dtypes: datetime64[ns](1), object(3)\n",
      "memory usage: 1.8+ MB\n"
     ]
    }
   ],
   "source": [
    "users.info()"
   ]
  },
  {
   "cell_type": "markdown",
   "metadata": {},
   "source": [
    "***final_ab_new_users_upd.csv — all users who signed up in the online store from December 7 to 21, 2020***\n",
    "\n",
    "Structure of `final_ab_new_users_upd.csv`:\n",
    "\n",
    "- `user_id`\n",
    "- `first_date` — sign-up date\n",
    "- `region`\n",
    "- `device` — device used to sign up"
   ]
  },
  {
   "cell_type": "code",
   "execution_count": 8,
   "metadata": {},
   "outputs": [
    {
     "data": {
      "text/html": [
       "<div>\n",
       "<style scoped>\n",
       "    .dataframe tbody tr th:only-of-type {\n",
       "        vertical-align: middle;\n",
       "    }\n",
       "\n",
       "    .dataframe tbody tr th {\n",
       "        vertical-align: top;\n",
       "    }\n",
       "\n",
       "    .dataframe thead th {\n",
       "        text-align: right;\n",
       "    }\n",
       "</style>\n",
       "<table border=\"1\" class=\"dataframe\">\n",
       "  <thead>\n",
       "    <tr style=\"text-align: right;\">\n",
       "      <th></th>\n",
       "      <th>user_id</th>\n",
       "      <th>event_dt</th>\n",
       "      <th>event_name</th>\n",
       "      <th>details</th>\n",
       "    </tr>\n",
       "  </thead>\n",
       "  <tbody>\n",
       "    <tr>\n",
       "      <th>0</th>\n",
       "      <td>E1BDDCE0DAFA2679</td>\n",
       "      <td>2020-12-07 20:22:03</td>\n",
       "      <td>purchase</td>\n",
       "      <td>99.990</td>\n",
       "    </tr>\n",
       "    <tr>\n",
       "      <th>1</th>\n",
       "      <td>7B6452F081F49504</td>\n",
       "      <td>2020-12-07 09:22:53</td>\n",
       "      <td>purchase</td>\n",
       "      <td>9.990</td>\n",
       "    </tr>\n",
       "    <tr>\n",
       "      <th>2</th>\n",
       "      <td>9CD9F34546DF254C</td>\n",
       "      <td>2020-12-07 12:59:29</td>\n",
       "      <td>purchase</td>\n",
       "      <td>4.990</td>\n",
       "    </tr>\n",
       "    <tr>\n",
       "      <th>3</th>\n",
       "      <td>96F27A054B191457</td>\n",
       "      <td>2020-12-07 04:02:40</td>\n",
       "      <td>purchase</td>\n",
       "      <td>4.990</td>\n",
       "    </tr>\n",
       "    <tr>\n",
       "      <th>4</th>\n",
       "      <td>1FD7660FDF94CA1F</td>\n",
       "      <td>2020-12-07 10:15:09</td>\n",
       "      <td>purchase</td>\n",
       "      <td>4.990</td>\n",
       "    </tr>\n",
       "  </tbody>\n",
       "</table>\n",
       "</div>"
      ],
      "text/plain": [
       "            user_id            event_dt event_name  details\n",
       "0  E1BDDCE0DAFA2679 2020-12-07 20:22:03   purchase   99.990\n",
       "1  7B6452F081F49504 2020-12-07 09:22:53   purchase    9.990\n",
       "2  9CD9F34546DF254C 2020-12-07 12:59:29   purchase    4.990\n",
       "3  96F27A054B191457 2020-12-07 04:02:40   purchase    4.990\n",
       "4  1FD7660FDF94CA1F 2020-12-07 10:15:09   purchase    4.990"
      ]
     },
     "metadata": {},
     "output_type": "display_data"
    },
    {
     "data": {
      "text/plain": [
       "423761"
      ]
     },
     "metadata": {},
     "output_type": "display_data"
    }
   ],
   "source": [
    "try: \n",
    "    user_events = pd.read_csv('final_ab_events_upd_us.csv', parse_dates=['event_dt'])        \n",
    "    \n",
    "except:\n",
    "    user_events = pd.read_csv('/datasets/final_ab_events_upd_us.csv', parse_dates=['event_dt'])\n",
    "   \n",
    "\n",
    " \n",
    "display(user_events.head(), len(user_events))"
   ]
  },
  {
   "cell_type": "code",
   "execution_count": 9,
   "metadata": {},
   "outputs": [
    {
     "name": "stdout",
     "output_type": "stream",
     "text": [
      "<class 'pandas.core.frame.DataFrame'>\n",
      "RangeIndex: 423761 entries, 0 to 423760\n",
      "Data columns (total 4 columns):\n",
      " #   Column      Non-Null Count   Dtype         \n",
      "---  ------      --------------   -----         \n",
      " 0   user_id     423761 non-null  object        \n",
      " 1   event_dt    423761 non-null  datetime64[ns]\n",
      " 2   event_name  423761 non-null  object        \n",
      " 3   details     60314 non-null   float64       \n",
      "dtypes: datetime64[ns](1), float64(1), object(2)\n",
      "memory usage: 12.9+ MB\n"
     ]
    }
   ],
   "source": [
    "user_events.info()"
   ]
  },
  {
   "cell_type": "markdown",
   "metadata": {},
   "source": [
    "***final_ab_events_upd.csv — all events of the new users within the period from December 7, 2020 to January 1, 2021***\n",
    "\n",
    "Structure of `final_ab_events_upd.csv`:\n",
    "\n",
    "- `user_id`\n",
    "- `event_dt` — event date and time\n",
    "- `event_name` — event type name\n",
    "- `details` — additional data on the event (for instance, the order total in USD for `purchase` events)"
   ]
  },
  {
   "cell_type": "code",
   "execution_count": 10,
   "metadata": {},
   "outputs": [
    {
     "data": {
      "text/html": [
       "<div>\n",
       "<style scoped>\n",
       "    .dataframe tbody tr th:only-of-type {\n",
       "        vertical-align: middle;\n",
       "    }\n",
       "\n",
       "    .dataframe tbody tr th {\n",
       "        vertical-align: top;\n",
       "    }\n",
       "\n",
       "    .dataframe thead th {\n",
       "        text-align: right;\n",
       "    }\n",
       "</style>\n",
       "<table border=\"1\" class=\"dataframe\">\n",
       "  <thead>\n",
       "    <tr style=\"text-align: right;\">\n",
       "      <th></th>\n",
       "      <th>user_id</th>\n",
       "      <th>group</th>\n",
       "      <th>ab_test</th>\n",
       "    </tr>\n",
       "  </thead>\n",
       "  <tbody>\n",
       "    <tr>\n",
       "      <th>0</th>\n",
       "      <td>D1ABA3E2887B6A73</td>\n",
       "      <td>A</td>\n",
       "      <td>recommender_system_test</td>\n",
       "    </tr>\n",
       "    <tr>\n",
       "      <th>1</th>\n",
       "      <td>A7A3664BD6242119</td>\n",
       "      <td>A</td>\n",
       "      <td>recommender_system_test</td>\n",
       "    </tr>\n",
       "    <tr>\n",
       "      <th>2</th>\n",
       "      <td>DABC14FDDFADD29E</td>\n",
       "      <td>A</td>\n",
       "      <td>recommender_system_test</td>\n",
       "    </tr>\n",
       "    <tr>\n",
       "      <th>3</th>\n",
       "      <td>04988C5DF189632E</td>\n",
       "      <td>A</td>\n",
       "      <td>recommender_system_test</td>\n",
       "    </tr>\n",
       "    <tr>\n",
       "      <th>4</th>\n",
       "      <td>4FF2998A348C484F</td>\n",
       "      <td>A</td>\n",
       "      <td>recommender_system_test</td>\n",
       "    </tr>\n",
       "  </tbody>\n",
       "</table>\n",
       "</div>"
      ],
      "text/plain": [
       "            user_id group                  ab_test\n",
       "0  D1ABA3E2887B6A73     A  recommender_system_test\n",
       "1  A7A3664BD6242119     A  recommender_system_test\n",
       "2  DABC14FDDFADD29E     A  recommender_system_test\n",
       "3  04988C5DF189632E     A  recommender_system_test\n",
       "4  4FF2998A348C484F     A  recommender_system_test"
      ]
     },
     "metadata": {},
     "output_type": "display_data"
    },
    {
     "data": {
      "text/plain": [
       "14525"
      ]
     },
     "metadata": {},
     "output_type": "display_data"
    }
   ],
   "source": [
    "try: \n",
    "    participants = pd.read_csv('final_ab_participants_upd_us.csv')        \n",
    "    \n",
    "except:\n",
    "    participants = pd.read_csv('/datasets/final_ab_participants_upd_us.csv')\n",
    "   \n",
    "\n",
    " \n",
    "display(participants.head(), len(participants))"
   ]
  },
  {
   "cell_type": "code",
   "execution_count": 11,
   "metadata": {},
   "outputs": [
    {
     "name": "stdout",
     "output_type": "stream",
     "text": [
      "<class 'pandas.core.frame.DataFrame'>\n",
      "RangeIndex: 14525 entries, 0 to 14524\n",
      "Data columns (total 3 columns):\n",
      " #   Column   Non-Null Count  Dtype \n",
      "---  ------   --------------  ----- \n",
      " 0   user_id  14525 non-null  object\n",
      " 1   group    14525 non-null  object\n",
      " 2   ab_test  14525 non-null  object\n",
      "dtypes: object(3)\n",
      "memory usage: 340.6+ KB\n"
     ]
    }
   ],
   "source": [
    "participants.info()"
   ]
  },
  {
   "cell_type": "markdown",
   "metadata": {},
   "source": [
    "***final_ab_participants_upd.csv — table containing test participants***\n",
    "\n",
    "Structure of `final_ab_participants_upd.csv`:\n",
    "\n",
    "- `user_id`\n",
    "- `ab_test` — test name\n",
    "- `group` — the test group the user belonged to"
   ]
  },
  {
   "cell_type": "markdown",
   "metadata": {},
   "source": [
    "### Step 2. Exploratory data analysis (EDA)"
   ]
  },
  {
   "cell_type": "markdown",
   "metadata": {},
   "source": [
    "#### Study missing valuesand deal with missing values (remove or replace)"
   ]
  },
  {
   "cell_type": "code",
   "execution_count": 12,
   "metadata": {},
   "outputs": [
    {
     "data": {
      "text/html": [
       "<style  type=\"text/css\" >\n",
       "</style><table id=\"T_214fb_\" ><thead>    <tr>        <th class=\"blank level0\" ></th>        <th class=\"col_heading level0 col0\" >missing</th>        <th class=\"col_heading level0 col1\" >total</th>        <th class=\"col_heading level0 col2\" >percent</th>    </tr></thead><tbody>\n",
       "                <tr>\n",
       "                        <th id=\"T_214fb_level0_row0\" class=\"row_heading level0 row0\" >name</th>\n",
       "                        <td id=\"T_214fb_row0_col0\" class=\"data row0 col0\" >0</td>\n",
       "                        <td id=\"T_214fb_row0_col1\" class=\"data row0 col1\" >14</td>\n",
       "                        <td id=\"T_214fb_row0_col2\" class=\"data row0 col2\" >0.00%</td>\n",
       "            </tr>\n",
       "            <tr>\n",
       "                        <th id=\"T_214fb_level0_row1\" class=\"row_heading level0 row1\" >regions</th>\n",
       "                        <td id=\"T_214fb_row1_col0\" class=\"data row1 col0\" >0</td>\n",
       "                        <td id=\"T_214fb_row1_col1\" class=\"data row1 col1\" >14</td>\n",
       "                        <td id=\"T_214fb_row1_col2\" class=\"data row1 col2\" >0.00%</td>\n",
       "            </tr>\n",
       "            <tr>\n",
       "                        <th id=\"T_214fb_level0_row2\" class=\"row_heading level0 row2\" >start_dt</th>\n",
       "                        <td id=\"T_214fb_row2_col0\" class=\"data row2 col0\" >0</td>\n",
       "                        <td id=\"T_214fb_row2_col1\" class=\"data row2 col1\" >14</td>\n",
       "                        <td id=\"T_214fb_row2_col2\" class=\"data row2 col2\" >0.00%</td>\n",
       "            </tr>\n",
       "            <tr>\n",
       "                        <th id=\"T_214fb_level0_row3\" class=\"row_heading level0 row3\" >finish_dt</th>\n",
       "                        <td id=\"T_214fb_row3_col0\" class=\"data row3 col0\" >0</td>\n",
       "                        <td id=\"T_214fb_row3_col1\" class=\"data row3 col1\" >14</td>\n",
       "                        <td id=\"T_214fb_row3_col2\" class=\"data row3 col2\" >0.00%</td>\n",
       "            </tr>\n",
       "    </tbody></table>"
      ],
      "text/plain": [
       "<pandas.io.formats.style.Styler at 0x7f485925c550>"
      ]
     },
     "execution_count": 12,
     "metadata": {},
     "output_type": "execute_result"
    }
   ],
   "source": [
    "marketing_events.stb.missing(style=True)"
   ]
  },
  {
   "cell_type": "markdown",
   "metadata": {},
   "source": [
    "No misssing values."
   ]
  },
  {
   "cell_type": "code",
   "execution_count": 13,
   "metadata": {},
   "outputs": [
    {
     "data": {
      "text/html": [
       "<style  type=\"text/css\" >\n",
       "</style><table id=\"T_b00ee_\" ><thead>    <tr>        <th class=\"blank level0\" ></th>        <th class=\"col_heading level0 col0\" >missing</th>        <th class=\"col_heading level0 col1\" >total</th>        <th class=\"col_heading level0 col2\" >percent</th>    </tr></thead><tbody>\n",
       "                <tr>\n",
       "                        <th id=\"T_b00ee_level0_row0\" class=\"row_heading level0 row0\" >user_id</th>\n",
       "                        <td id=\"T_b00ee_row0_col0\" class=\"data row0 col0\" >0</td>\n",
       "                        <td id=\"T_b00ee_row0_col1\" class=\"data row0 col1\" >58,703</td>\n",
       "                        <td id=\"T_b00ee_row0_col2\" class=\"data row0 col2\" >0.00%</td>\n",
       "            </tr>\n",
       "            <tr>\n",
       "                        <th id=\"T_b00ee_level0_row1\" class=\"row_heading level0 row1\" >first_date</th>\n",
       "                        <td id=\"T_b00ee_row1_col0\" class=\"data row1 col0\" >0</td>\n",
       "                        <td id=\"T_b00ee_row1_col1\" class=\"data row1 col1\" >58,703</td>\n",
       "                        <td id=\"T_b00ee_row1_col2\" class=\"data row1 col2\" >0.00%</td>\n",
       "            </tr>\n",
       "            <tr>\n",
       "                        <th id=\"T_b00ee_level0_row2\" class=\"row_heading level0 row2\" >region</th>\n",
       "                        <td id=\"T_b00ee_row2_col0\" class=\"data row2 col0\" >0</td>\n",
       "                        <td id=\"T_b00ee_row2_col1\" class=\"data row2 col1\" >58,703</td>\n",
       "                        <td id=\"T_b00ee_row2_col2\" class=\"data row2 col2\" >0.00%</td>\n",
       "            </tr>\n",
       "            <tr>\n",
       "                        <th id=\"T_b00ee_level0_row3\" class=\"row_heading level0 row3\" >device</th>\n",
       "                        <td id=\"T_b00ee_row3_col0\" class=\"data row3 col0\" >0</td>\n",
       "                        <td id=\"T_b00ee_row3_col1\" class=\"data row3 col1\" >58,703</td>\n",
       "                        <td id=\"T_b00ee_row3_col2\" class=\"data row3 col2\" >0.00%</td>\n",
       "            </tr>\n",
       "    </tbody></table>"
      ],
      "text/plain": [
       "<pandas.io.formats.style.Styler at 0x7f48a5313af0>"
      ]
     },
     "execution_count": 13,
     "metadata": {},
     "output_type": "execute_result"
    }
   ],
   "source": [
    "users.stb.missing(style=True)"
   ]
  },
  {
   "cell_type": "markdown",
   "metadata": {},
   "source": [
    "No misssing values."
   ]
  },
  {
   "cell_type": "code",
   "execution_count": 14,
   "metadata": {},
   "outputs": [
    {
     "data": {
      "text/html": [
       "<style  type=\"text/css\" >\n",
       "</style><table id=\"T_5bfa7_\" ><thead>    <tr>        <th class=\"blank level0\" ></th>        <th class=\"col_heading level0 col0\" >missing</th>        <th class=\"col_heading level0 col1\" >total</th>        <th class=\"col_heading level0 col2\" >percent</th>    </tr></thead><tbody>\n",
       "                <tr>\n",
       "                        <th id=\"T_5bfa7_level0_row0\" class=\"row_heading level0 row0\" >details</th>\n",
       "                        <td id=\"T_5bfa7_row0_col0\" class=\"data row0 col0\" >363,447</td>\n",
       "                        <td id=\"T_5bfa7_row0_col1\" class=\"data row0 col1\" >423,761</td>\n",
       "                        <td id=\"T_5bfa7_row0_col2\" class=\"data row0 col2\" >85.77%</td>\n",
       "            </tr>\n",
       "            <tr>\n",
       "                        <th id=\"T_5bfa7_level0_row1\" class=\"row_heading level0 row1\" >user_id</th>\n",
       "                        <td id=\"T_5bfa7_row1_col0\" class=\"data row1 col0\" >0</td>\n",
       "                        <td id=\"T_5bfa7_row1_col1\" class=\"data row1 col1\" >423,761</td>\n",
       "                        <td id=\"T_5bfa7_row1_col2\" class=\"data row1 col2\" >0.00%</td>\n",
       "            </tr>\n",
       "            <tr>\n",
       "                        <th id=\"T_5bfa7_level0_row2\" class=\"row_heading level0 row2\" >event_dt</th>\n",
       "                        <td id=\"T_5bfa7_row2_col0\" class=\"data row2 col0\" >0</td>\n",
       "                        <td id=\"T_5bfa7_row2_col1\" class=\"data row2 col1\" >423,761</td>\n",
       "                        <td id=\"T_5bfa7_row2_col2\" class=\"data row2 col2\" >0.00%</td>\n",
       "            </tr>\n",
       "            <tr>\n",
       "                        <th id=\"T_5bfa7_level0_row3\" class=\"row_heading level0 row3\" >event_name</th>\n",
       "                        <td id=\"T_5bfa7_row3_col0\" class=\"data row3 col0\" >0</td>\n",
       "                        <td id=\"T_5bfa7_row3_col1\" class=\"data row3 col1\" >423,761</td>\n",
       "                        <td id=\"T_5bfa7_row3_col2\" class=\"data row3 col2\" >0.00%</td>\n",
       "            </tr>\n",
       "    </tbody></table>"
      ],
      "text/plain": [
       "<pandas.io.formats.style.Styler at 0x7f48a4c90550>"
      ]
     },
     "execution_count": 14,
     "metadata": {},
     "output_type": "execute_result"
    }
   ],
   "source": [
    "user_events.stb.missing(style=True)"
   ]
  },
  {
   "cell_type": "markdown",
   "metadata": {},
   "source": [
    "About 86% of rows have missing values in the details column, the column containing the additional data on the event for example the order sum in purcherse events. "
   ]
  },
  {
   "cell_type": "code",
   "execution_count": 15,
   "metadata": {},
   "outputs": [
    {
     "data": {
      "text/html": [
       "<div>\n",
       "<style scoped>\n",
       "    .dataframe tbody tr th:only-of-type {\n",
       "        vertical-align: middle;\n",
       "    }\n",
       "\n",
       "    .dataframe tbody tr th {\n",
       "        vertical-align: top;\n",
       "    }\n",
       "\n",
       "    .dataframe thead th {\n",
       "        text-align: right;\n",
       "    }\n",
       "</style>\n",
       "<table border=\"1\" class=\"dataframe\">\n",
       "  <thead>\n",
       "    <tr style=\"text-align: right;\">\n",
       "      <th></th>\n",
       "      <th>details</th>\n",
       "    </tr>\n",
       "    <tr>\n",
       "      <th>event_name</th>\n",
       "      <th></th>\n",
       "    </tr>\n",
       "  </thead>\n",
       "  <tbody>\n",
       "    <tr>\n",
       "      <th>login</th>\n",
       "      <td>NaN</td>\n",
       "    </tr>\n",
       "    <tr>\n",
       "      <th>product_cart</th>\n",
       "      <td>NaN</td>\n",
       "    </tr>\n",
       "    <tr>\n",
       "      <th>product_page</th>\n",
       "      <td>NaN</td>\n",
       "    </tr>\n",
       "    <tr>\n",
       "      <th>purchase</th>\n",
       "      <td>4.990</td>\n",
       "    </tr>\n",
       "  </tbody>\n",
       "</table>\n",
       "</div>"
      ],
      "text/plain": [
       "              details\n",
       "event_name           \n",
       "login             NaN\n",
       "product_cart      NaN\n",
       "product_page      NaN\n",
       "purchase        4.990"
      ]
     },
     "execution_count": 15,
     "metadata": {},
     "output_type": "execute_result"
    }
   ],
   "source": [
    "user_events.groupby('event_name').median()"
   ]
  },
  {
   "cell_type": "markdown",
   "metadata": {},
   "source": [
    "The rows with missing details column are of the events other then purchase, thus having no purchase details or purchase sum. \n",
    "\n",
    "Which makes sense.  "
   ]
  },
  {
   "cell_type": "code",
   "execution_count": 16,
   "metadata": {},
   "outputs": [
    {
     "data": {
      "text/html": [
       "<style  type=\"text/css\" >\n",
       "</style><table id=\"T_c6ad4_\" ><thead>    <tr>        <th class=\"blank level0\" ></th>        <th class=\"col_heading level0 col0\" >missing</th>        <th class=\"col_heading level0 col1\" >total</th>        <th class=\"col_heading level0 col2\" >percent</th>    </tr></thead><tbody>\n",
       "                <tr>\n",
       "                        <th id=\"T_c6ad4_level0_row0\" class=\"row_heading level0 row0\" >user_id</th>\n",
       "                        <td id=\"T_c6ad4_row0_col0\" class=\"data row0 col0\" >0</td>\n",
       "                        <td id=\"T_c6ad4_row0_col1\" class=\"data row0 col1\" >14,525</td>\n",
       "                        <td id=\"T_c6ad4_row0_col2\" class=\"data row0 col2\" >0.00%</td>\n",
       "            </tr>\n",
       "            <tr>\n",
       "                        <th id=\"T_c6ad4_level0_row1\" class=\"row_heading level0 row1\" >group</th>\n",
       "                        <td id=\"T_c6ad4_row1_col0\" class=\"data row1 col0\" >0</td>\n",
       "                        <td id=\"T_c6ad4_row1_col1\" class=\"data row1 col1\" >14,525</td>\n",
       "                        <td id=\"T_c6ad4_row1_col2\" class=\"data row1 col2\" >0.00%</td>\n",
       "            </tr>\n",
       "            <tr>\n",
       "                        <th id=\"T_c6ad4_level0_row2\" class=\"row_heading level0 row2\" >ab_test</th>\n",
       "                        <td id=\"T_c6ad4_row2_col0\" class=\"data row2 col0\" >0</td>\n",
       "                        <td id=\"T_c6ad4_row2_col1\" class=\"data row2 col1\" >14,525</td>\n",
       "                        <td id=\"T_c6ad4_row2_col2\" class=\"data row2 col2\" >0.00%</td>\n",
       "            </tr>\n",
       "    </tbody></table>"
      ],
      "text/plain": [
       "<pandas.io.formats.style.Styler at 0x7f485925c5e0>"
      ]
     },
     "execution_count": 16,
     "metadata": {},
     "output_type": "execute_result"
    }
   ],
   "source": [
    "participants.stb.missing(style=True)"
   ]
  },
  {
   "cell_type": "markdown",
   "metadata": {},
   "source": [
    "No misssing values."
   ]
  },
  {
   "cell_type": "markdown",
   "metadata": {},
   "source": [
    "#### Study type correspondence and convert data types"
   ]
  },
  {
   "cell_type": "code",
   "execution_count": 17,
   "metadata": {},
   "outputs": [
    {
     "name": "stdout",
     "output_type": "stream",
     "text": [
      "<class 'pandas.core.frame.DataFrame'>\n",
      "RangeIndex: 14 entries, 0 to 13\n",
      "Data columns (total 4 columns):\n",
      " #   Column     Non-Null Count  Dtype         \n",
      "---  ------     --------------  -----         \n",
      " 0   name       14 non-null     object        \n",
      " 1   regions    14 non-null     object        \n",
      " 2   start_dt   14 non-null     datetime64[ns]\n",
      " 3   finish_dt  14 non-null     datetime64[ns]\n",
      "dtypes: datetime64[ns](2), object(2)\n",
      "memory usage: 576.0+ bytes\n"
     ]
    }
   ],
   "source": [
    "marketing_events.info()"
   ]
  },
  {
   "cell_type": "code",
   "execution_count": 18,
   "metadata": {},
   "outputs": [
    {
     "name": "stdout",
     "output_type": "stream",
     "text": [
      "<class 'pandas.core.frame.DataFrame'>\n",
      "RangeIndex: 58703 entries, 0 to 58702\n",
      "Data columns (total 4 columns):\n",
      " #   Column      Non-Null Count  Dtype         \n",
      "---  ------      --------------  -----         \n",
      " 0   user_id     58703 non-null  object        \n",
      " 1   first_date  58703 non-null  datetime64[ns]\n",
      " 2   region      58703 non-null  object        \n",
      " 3   device      58703 non-null  object        \n",
      "dtypes: datetime64[ns](1), object(3)\n",
      "memory usage: 1.8+ MB\n"
     ]
    }
   ],
   "source": [
    "users.info()"
   ]
  },
  {
   "cell_type": "code",
   "execution_count": 19,
   "metadata": {},
   "outputs": [
    {
     "name": "stdout",
     "output_type": "stream",
     "text": [
      "<class 'pandas.core.frame.DataFrame'>\n",
      "RangeIndex: 423761 entries, 0 to 423760\n",
      "Data columns (total 4 columns):\n",
      " #   Column      Non-Null Count   Dtype         \n",
      "---  ------      --------------   -----         \n",
      " 0   user_id     423761 non-null  object        \n",
      " 1   event_dt    423761 non-null  datetime64[ns]\n",
      " 2   event_name  423761 non-null  object        \n",
      " 3   details     60314 non-null   float64       \n",
      "dtypes: datetime64[ns](1), float64(1), object(2)\n",
      "memory usage: 12.9+ MB\n"
     ]
    }
   ],
   "source": [
    "user_events.info()"
   ]
  },
  {
   "cell_type": "code",
   "execution_count": 20,
   "metadata": {},
   "outputs": [
    {
     "name": "stdout",
     "output_type": "stream",
     "text": [
      "<class 'pandas.core.frame.DataFrame'>\n",
      "RangeIndex: 14525 entries, 0 to 14524\n",
      "Data columns (total 3 columns):\n",
      " #   Column   Non-Null Count  Dtype \n",
      "---  ------   --------------  ----- \n",
      " 0   user_id  14525 non-null  object\n",
      " 1   group    14525 non-null  object\n",
      " 2   ab_test  14525 non-null  object\n",
      "dtypes: object(3)\n",
      "memory usage: 340.6+ KB\n"
     ]
    }
   ],
   "source": [
    "participants.info()"
   ]
  },
  {
   "cell_type": "markdown",
   "metadata": {},
   "source": [
    "All data types match the contents of the columns."
   ]
  },
  {
   "cell_type": "markdown",
   "metadata": {},
   "source": [
    "#### Study duplicate values and remove duplicates"
   ]
  },
  {
   "cell_type": "code",
   "execution_count": 21,
   "metadata": {},
   "outputs": [
    {
     "data": {
      "text/plain": [
       "0"
      ]
     },
     "execution_count": 21,
     "metadata": {},
     "output_type": "execute_result"
    }
   ],
   "source": [
    "marketing_events.duplicated().sum()"
   ]
  },
  {
   "cell_type": "code",
   "execution_count": 22,
   "metadata": {},
   "outputs": [
    {
     "data": {
      "text/plain": [
       "0"
      ]
     },
     "execution_count": 22,
     "metadata": {},
     "output_type": "execute_result"
    }
   ],
   "source": [
    "users.duplicated().sum()"
   ]
  },
  {
   "cell_type": "code",
   "execution_count": 23,
   "metadata": {},
   "outputs": [
    {
     "data": {
      "text/plain": [
       "0"
      ]
     },
     "execution_count": 23,
     "metadata": {},
     "output_type": "execute_result"
    }
   ],
   "source": [
    "user_events.duplicated().sum()"
   ]
  },
  {
   "cell_type": "code",
   "execution_count": 24,
   "metadata": {},
   "outputs": [
    {
     "data": {
      "text/plain": [
       "0"
      ]
     },
     "execution_count": 24,
     "metadata": {},
     "output_type": "execute_result"
    }
   ],
   "source": [
    "participants.duplicated().sum()"
   ]
  },
  {
   "cell_type": "markdown",
   "metadata": {},
   "source": [
    "No duplicate​s found."
   ]
  },
  {
   "cell_type": "markdown",
   "metadata": {},
   "source": [
    "#### Make sure that there are no users assigned to multiple groups, if such users are present remove data from the data used in A/B testing"
   ]
  },
  {
   "cell_type": "code",
   "execution_count": 25,
   "metadata": {},
   "outputs": [
    {
     "name": "stdout",
     "output_type": "stream",
     "text": [
      "            user_id group                  ab_test\n",
      "0  D1ABA3E2887B6A73     A  recommender_system_test\n",
      "1  A7A3664BD6242119     A  recommender_system_test\n",
      "2  DABC14FDDFADD29E     A  recommender_system_test\n",
      "3  04988C5DF189632E     A  recommender_system_test\n",
      "4  4FF2998A348C484F     A  recommender_system_test\n"
     ]
    }
   ],
   "source": [
    "print(participants.head())"
   ]
  },
  {
   "cell_type": "code",
   "execution_count": 26,
   "metadata": {},
   "outputs": [
    {
     "data": {
      "text/plain": [
       "user_id    441\n",
       "group      441\n",
       "ab_test    441\n",
       "dtype: int64"
      ]
     },
     "execution_count": 26,
     "metadata": {},
     "output_type": "execute_result"
    }
   ],
   "source": [
    "orders_a = participants.query('group == \"A\"')\n",
    "orders_b = participants.query('group == \"B\"')\n",
    "\n",
    "dual = orders_a[orders_a.user_id.isin(orders_b.user_id)]\n",
    "dual.count()"
   ]
  },
  {
   "cell_type": "code",
   "execution_count": 27,
   "metadata": {},
   "outputs": [
    {
     "data": {
      "text/plain": [
       "0.030361445783132532"
      ]
     },
     "execution_count": 27,
     "metadata": {},
     "output_type": "execute_result"
    }
   ],
   "source": [
    "dual.user_id.count()/participants.user_id.count()"
   ]
  },
  {
   "cell_type": "markdown",
   "metadata": {},
   "source": [
    "only 3% of data are insignificant and tus can be droped. "
   ]
  },
  {
   "cell_type": "code",
   "execution_count": 28,
   "metadata": {},
   "outputs": [
    {
     "data": {
      "text/plain": [
       "user_id    0\n",
       "group      0\n",
       "ab_test    0\n",
       "dtype: int64"
      ]
     },
     "execution_count": 28,
     "metadata": {},
     "output_type": "execute_result"
    }
   ],
   "source": [
    "participants = participants[~participants.user_id.isin(dual.user_id)]\n",
    "\n",
    "orders_a = participants.query('group == \"A\"')\n",
    "orders_b = participants.query('group == \"B\"')\n",
    "\n",
    "dual = orders_a[orders_a.user_id.isin(orders_b.user_id)]\n",
    "dual.count()"
   ]
  },
  {
   "cell_type": "markdown",
   "metadata": {},
   "source": [
    " No more users assigned to multiple groups, in the test."
   ]
  },
  {
   "cell_type": "markdown",
   "metadata": {},
   "source": [
    "### Test name: recommender_system_test is the test used and users from the EU are the ones being tested"
   ]
  },
  {
   "cell_type": "markdown",
   "metadata": {},
   "source": [
    "#### Filter by test (recommender_system_test)"
   ]
  },
  {
   "cell_type": "code",
   "execution_count": 76,
   "metadata": {},
   "outputs": [
    {
     "data": {
      "text/html": [
       "<div>\n",
       "<style scoped>\n",
       "    .dataframe tbody tr th:only-of-type {\n",
       "        vertical-align: middle;\n",
       "    }\n",
       "\n",
       "    .dataframe tbody tr th {\n",
       "        vertical-align: top;\n",
       "    }\n",
       "\n",
       "    .dataframe thead th {\n",
       "        text-align: right;\n",
       "    }\n",
       "</style>\n",
       "<table border=\"1\" class=\"dataframe\">\n",
       "  <thead>\n",
       "    <tr style=\"text-align: right;\">\n",
       "      <th></th>\n",
       "      <th>user_id</th>\n",
       "      <th>group</th>\n",
       "      <th>ab_test</th>\n",
       "    </tr>\n",
       "  </thead>\n",
       "  <tbody>\n",
       "    <tr>\n",
       "      <th>0</th>\n",
       "      <td>D1ABA3E2887B6A73</td>\n",
       "      <td>A</td>\n",
       "      <td>recommender_system_test</td>\n",
       "    </tr>\n",
       "    <tr>\n",
       "      <th>1</th>\n",
       "      <td>A7A3664BD6242119</td>\n",
       "      <td>A</td>\n",
       "      <td>recommender_system_test</td>\n",
       "    </tr>\n",
       "    <tr>\n",
       "      <th>2</th>\n",
       "      <td>DABC14FDDFADD29E</td>\n",
       "      <td>A</td>\n",
       "      <td>recommender_system_test</td>\n",
       "    </tr>\n",
       "    <tr>\n",
       "      <th>3</th>\n",
       "      <td>04988C5DF189632E</td>\n",
       "      <td>A</td>\n",
       "      <td>recommender_system_test</td>\n",
       "    </tr>\n",
       "    <tr>\n",
       "      <th>4</th>\n",
       "      <td>4FF2998A348C484F</td>\n",
       "      <td>A</td>\n",
       "      <td>recommender_system_test</td>\n",
       "    </tr>\n",
       "  </tbody>\n",
       "</table>\n",
       "</div>"
      ],
      "text/plain": [
       "            user_id group                  ab_test\n",
       "0  D1ABA3E2887B6A73     A  recommender_system_test\n",
       "1  A7A3664BD6242119     A  recommender_system_test\n",
       "2  DABC14FDDFADD29E     A  recommender_system_test\n",
       "3  04988C5DF189632E     A  recommender_system_test\n",
       "4  4FF2998A348C484F     A  recommender_system_test"
      ]
     },
     "metadata": {},
     "output_type": "display_data"
    },
    {
     "data": {
      "text/plain": [
       "3234"
      ]
     },
     "metadata": {},
     "output_type": "display_data"
    }
   ],
   "source": [
    "par = participants.query('ab_test == \"recommender_system_test\"')\n",
    "display(par.head(), len(par))"
   ]
  },
  {
   "cell_type": "markdown",
   "metadata": {},
   "source": [
    "#### Filter by region (EU)"
   ]
  },
  {
   "cell_type": "code",
   "execution_count": 77,
   "metadata": {},
   "outputs": [
    {
     "data": {
      "text/html": [
       "<div>\n",
       "<style scoped>\n",
       "    .dataframe tbody tr th:only-of-type {\n",
       "        vertical-align: middle;\n",
       "    }\n",
       "\n",
       "    .dataframe tbody tr th {\n",
       "        vertical-align: top;\n",
       "    }\n",
       "\n",
       "    .dataframe thead th {\n",
       "        text-align: right;\n",
       "    }\n",
       "</style>\n",
       "<table border=\"1\" class=\"dataframe\">\n",
       "  <thead>\n",
       "    <tr style=\"text-align: right;\">\n",
       "      <th></th>\n",
       "      <th>user_id</th>\n",
       "      <th>first_date</th>\n",
       "      <th>region</th>\n",
       "      <th>device</th>\n",
       "    </tr>\n",
       "  </thead>\n",
       "  <tbody>\n",
       "    <tr>\n",
       "      <th>0</th>\n",
       "      <td>D72A72121175D8BE</td>\n",
       "      <td>2020-12-07</td>\n",
       "      <td>EU</td>\n",
       "      <td>PC</td>\n",
       "    </tr>\n",
       "    <tr>\n",
       "      <th>2</th>\n",
       "      <td>2E1BF1D4C37EA01F</td>\n",
       "      <td>2020-12-07</td>\n",
       "      <td>EU</td>\n",
       "      <td>PC</td>\n",
       "    </tr>\n",
       "    <tr>\n",
       "      <th>3</th>\n",
       "      <td>50734A22C0C63768</td>\n",
       "      <td>2020-12-07</td>\n",
       "      <td>EU</td>\n",
       "      <td>iPhone</td>\n",
       "    </tr>\n",
       "    <tr>\n",
       "      <th>7</th>\n",
       "      <td>8942E64218C9A1ED</td>\n",
       "      <td>2020-12-07</td>\n",
       "      <td>EU</td>\n",
       "      <td>PC</td>\n",
       "    </tr>\n",
       "    <tr>\n",
       "      <th>9</th>\n",
       "      <td>FFCEA1179C253104</td>\n",
       "      <td>2020-12-07</td>\n",
       "      <td>EU</td>\n",
       "      <td>Android</td>\n",
       "    </tr>\n",
       "  </tbody>\n",
       "</table>\n",
       "</div>"
      ],
      "text/plain": [
       "            user_id first_date region   device\n",
       "0  D72A72121175D8BE 2020-12-07     EU       PC\n",
       "2  2E1BF1D4C37EA01F 2020-12-07     EU       PC\n",
       "3  50734A22C0C63768 2020-12-07     EU   iPhone\n",
       "7  8942E64218C9A1ED 2020-12-07     EU       PC\n",
       "9  FFCEA1179C253104 2020-12-07     EU  Android"
      ]
     },
     "metadata": {},
     "output_type": "display_data"
    },
    {
     "data": {
      "text/plain": [
       "43396"
      ]
     },
     "metadata": {},
     "output_type": "display_data"
    }
   ],
   "source": [
    "users1 = users.query('region == \"EU\"')\n",
    "display(users1.head(), len(users1))"
   ]
  },
  {
   "cell_type": "markdown",
   "metadata": {},
   "source": [
    "## Calculate metrics and make charts"
   ]
  },
  {
   "cell_type": "markdown",
   "metadata": {},
   "source": [
    "### check for anomalies and outliers"
   ]
  },
  {
   "cell_type": "markdown",
   "metadata": {},
   "source": [
    "The only place where anomalies and outliers can exist is the details column of user_events, because all other data is not numerical."
   ]
  },
  {
   "cell_type": "code",
   "execution_count": 29,
   "metadata": {},
   "outputs": [
    {
     "data": {
      "text/plain": [
       "array([ 99.99,  99.99, 499.99])"
      ]
     },
     "execution_count": 29,
     "metadata": {},
     "output_type": "execute_result"
    }
   ],
   "source": [
    "purcheses = user_events.query('event_name == \"purchase\"')\n",
    "np.percentile(purcheses['details'], [90, 95, 99])"
   ]
  },
  {
   "cell_type": "markdown",
   "metadata": {},
   "source": [
    "### Study conversion at different funnel stages"
   ]
  },
  {
   "cell_type": "code",
   "execution_count": 78,
   "metadata": {},
   "outputs": [
    {
     "data": {
      "text/html": [
       "<div>\n",
       "<style scoped>\n",
       "    .dataframe tbody tr th:only-of-type {\n",
       "        vertical-align: middle;\n",
       "    }\n",
       "\n",
       "    .dataframe tbody tr th {\n",
       "        vertical-align: top;\n",
       "    }\n",
       "\n",
       "    .dataframe thead th {\n",
       "        text-align: right;\n",
       "    }\n",
       "</style>\n",
       "<table border=\"1\" class=\"dataframe\">\n",
       "  <thead>\n",
       "    <tr style=\"text-align: right;\">\n",
       "      <th></th>\n",
       "      <th>user_id</th>\n",
       "      <th>group</th>\n",
       "      <th>ab_test</th>\n",
       "      <th>first_date</th>\n",
       "      <th>region</th>\n",
       "      <th>device</th>\n",
       "    </tr>\n",
       "  </thead>\n",
       "  <tbody>\n",
       "    <tr>\n",
       "      <th>0</th>\n",
       "      <td>D1ABA3E2887B6A73</td>\n",
       "      <td>A</td>\n",
       "      <td>recommender_system_test</td>\n",
       "      <td>2020-12-07</td>\n",
       "      <td>EU</td>\n",
       "      <td>PC</td>\n",
       "    </tr>\n",
       "    <tr>\n",
       "      <th>1</th>\n",
       "      <td>A7A3664BD6242119</td>\n",
       "      <td>A</td>\n",
       "      <td>recommender_system_test</td>\n",
       "      <td>2020-12-20</td>\n",
       "      <td>EU</td>\n",
       "      <td>iPhone</td>\n",
       "    </tr>\n",
       "    <tr>\n",
       "      <th>2</th>\n",
       "      <td>DABC14FDDFADD29E</td>\n",
       "      <td>A</td>\n",
       "      <td>recommender_system_test</td>\n",
       "      <td>2020-12-08</td>\n",
       "      <td>EU</td>\n",
       "      <td>Mac</td>\n",
       "    </tr>\n",
       "    <tr>\n",
       "      <th>3</th>\n",
       "      <td>04988C5DF189632E</td>\n",
       "      <td>A</td>\n",
       "      <td>recommender_system_test</td>\n",
       "      <td>2020-12-14</td>\n",
       "      <td>EU</td>\n",
       "      <td>iPhone</td>\n",
       "    </tr>\n",
       "    <tr>\n",
       "      <th>4</th>\n",
       "      <td>4FF2998A348C484F</td>\n",
       "      <td>A</td>\n",
       "      <td>recommender_system_test</td>\n",
       "      <td>2020-12-20</td>\n",
       "      <td>EU</td>\n",
       "      <td>Mac</td>\n",
       "    </tr>\n",
       "  </tbody>\n",
       "</table>\n",
       "</div>"
      ],
      "text/plain": [
       "            user_id group                  ab_test first_date region  device\n",
       "0  D1ABA3E2887B6A73     A  recommender_system_test 2020-12-07     EU      PC\n",
       "1  A7A3664BD6242119     A  recommender_system_test 2020-12-20     EU  iPhone\n",
       "2  DABC14FDDFADD29E     A  recommender_system_test 2020-12-08     EU     Mac\n",
       "3  04988C5DF189632E     A  recommender_system_test 2020-12-14     EU  iPhone\n",
       "4  4FF2998A348C484F     A  recommender_system_test 2020-12-20     EU     Mac"
      ]
     },
     "execution_count": 78,
     "metadata": {},
     "output_type": "execute_result"
    }
   ],
   "source": [
    "subjects = par.merge(users1, on=['user_id'], how='inner')\n",
    "subjects.head()"
   ]
  },
  {
   "cell_type": "code",
   "execution_count": 82,
   "metadata": {},
   "outputs": [
    {
     "data": {
      "text/html": [
       "<div>\n",
       "<style scoped>\n",
       "    .dataframe tbody tr th:only-of-type {\n",
       "        vertical-align: middle;\n",
       "    }\n",
       "\n",
       "    .dataframe tbody tr th {\n",
       "        vertical-align: top;\n",
       "    }\n",
       "\n",
       "    .dataframe thead th {\n",
       "        text-align: right;\n",
       "    }\n",
       "</style>\n",
       "<table border=\"1\" class=\"dataframe\">\n",
       "  <thead>\n",
       "    <tr style=\"text-align: right;\">\n",
       "      <th></th>\n",
       "      <th>user_id</th>\n",
       "      <th>group</th>\n",
       "      <th>ab_test</th>\n",
       "      <th>first_date</th>\n",
       "      <th>region</th>\n",
       "      <th>device</th>\n",
       "      <th>event_dt</th>\n",
       "      <th>event_name</th>\n",
       "      <th>details</th>\n",
       "    </tr>\n",
       "  </thead>\n",
       "  <tbody>\n",
       "    <tr>\n",
       "      <th>0</th>\n",
       "      <td>D1ABA3E2887B6A73</td>\n",
       "      <td>A</td>\n",
       "      <td>recommender_system_test</td>\n",
       "      <td>2020-12-07</td>\n",
       "      <td>EU</td>\n",
       "      <td>PC</td>\n",
       "      <td>2020-12-07 14:43:27</td>\n",
       "      <td>purchase</td>\n",
       "      <td>99.990</td>\n",
       "    </tr>\n",
       "    <tr>\n",
       "      <th>1</th>\n",
       "      <td>D1ABA3E2887B6A73</td>\n",
       "      <td>A</td>\n",
       "      <td>recommender_system_test</td>\n",
       "      <td>2020-12-07</td>\n",
       "      <td>EU</td>\n",
       "      <td>PC</td>\n",
       "      <td>2020-12-07 14:43:29</td>\n",
       "      <td>product_cart</td>\n",
       "      <td>NaN</td>\n",
       "    </tr>\n",
       "    <tr>\n",
       "      <th>2</th>\n",
       "      <td>D1ABA3E2887B6A73</td>\n",
       "      <td>A</td>\n",
       "      <td>recommender_system_test</td>\n",
       "      <td>2020-12-07</td>\n",
       "      <td>EU</td>\n",
       "      <td>PC</td>\n",
       "      <td>2020-12-07 14:43:27</td>\n",
       "      <td>product_page</td>\n",
       "      <td>NaN</td>\n",
       "    </tr>\n",
       "    <tr>\n",
       "      <th>3</th>\n",
       "      <td>D1ABA3E2887B6A73</td>\n",
       "      <td>A</td>\n",
       "      <td>recommender_system_test</td>\n",
       "      <td>2020-12-07</td>\n",
       "      <td>EU</td>\n",
       "      <td>PC</td>\n",
       "      <td>2020-12-07 14:43:27</td>\n",
       "      <td>login</td>\n",
       "      <td>NaN</td>\n",
       "    </tr>\n",
       "    <tr>\n",
       "      <th>4</th>\n",
       "      <td>A7A3664BD6242119</td>\n",
       "      <td>A</td>\n",
       "      <td>recommender_system_test</td>\n",
       "      <td>2020-12-20</td>\n",
       "      <td>EU</td>\n",
       "      <td>iPhone</td>\n",
       "      <td>2020-12-20 15:46:06</td>\n",
       "      <td>product_page</td>\n",
       "      <td>NaN</td>\n",
       "    </tr>\n",
       "  </tbody>\n",
       "</table>\n",
       "</div>"
      ],
      "text/plain": [
       "            user_id group                  ab_test first_date region  device  \\\n",
       "0  D1ABA3E2887B6A73     A  recommender_system_test 2020-12-07     EU      PC   \n",
       "1  D1ABA3E2887B6A73     A  recommender_system_test 2020-12-07     EU      PC   \n",
       "2  D1ABA3E2887B6A73     A  recommender_system_test 2020-12-07     EU      PC   \n",
       "3  D1ABA3E2887B6A73     A  recommender_system_test 2020-12-07     EU      PC   \n",
       "4  A7A3664BD6242119     A  recommender_system_test 2020-12-20     EU  iPhone   \n",
       "\n",
       "             event_dt    event_name  details  \n",
       "0 2020-12-07 14:43:27      purchase   99.990  \n",
       "1 2020-12-07 14:43:29  product_cart      NaN  \n",
       "2 2020-12-07 14:43:27  product_page      NaN  \n",
       "3 2020-12-07 14:43:27         login      NaN  \n",
       "4 2020-12-20 15:46:06  product_page      NaN  "
      ]
     },
     "execution_count": 82,
     "metadata": {},
     "output_type": "execute_result"
    }
   ],
   "source": [
    "merged1 = subjects.merge(user_events,on=['user_id'],how='inner')\n",
    "merged1.head()"
   ]
  },
  {
   "cell_type": "code",
   "execution_count": 83,
   "metadata": {},
   "outputs": [
    {
     "data": {
      "text/plain": [
       "event_name\n",
       "login           9014\n",
       "product_page    5578\n",
       "purchase        2728\n",
       "product_cart    2663\n",
       "Name: user_id, dtype: int64"
      ]
     },
     "execution_count": 83,
     "metadata": {},
     "output_type": "execute_result"
    }
   ],
   "source": [
    "merged1.groupby(['event_name'])['user_id'].count().sort_values(ascending=False)"
   ]
  },
  {
   "cell_type": "code",
   "execution_count": 84,
   "metadata": {},
   "outputs": [
    {
     "data": {
      "text/plain": [
       "event_name\n",
       "login          1.000\n",
       "product_page   0.627\n",
       "purchase       0.314\n",
       "product_cart   0.296\n",
       "Name: user_id, dtype: float64"
      ]
     },
     "execution_count": 84,
     "metadata": {},
     "output_type": "execute_result"
    }
   ],
   "source": [
    "merged1.groupby(['event_name'])['user_id'].nunique().sort_values(ascending=False)/merged1.user_id.nunique()"
   ]
  },
  {
   "cell_type": "markdown",
   "metadata": {},
   "source": [
    "- All users entred via login page\n",
    "\n",
    "- 62.7% of them used the product page\n",
    "\n",
    "- 29.6% of them used the product cart \n",
    "\n",
    "- 31.4% of them made a purchase"
   ]
  },
  {
   "cell_type": "code",
   "execution_count": 85,
   "metadata": {},
   "outputs": [
    {
     "data": {
      "text/html": [
       "<div>\n",
       "<style scoped>\n",
       "    .dataframe tbody tr th:only-of-type {\n",
       "        vertical-align: middle;\n",
       "    }\n",
       "\n",
       "    .dataframe tbody tr th {\n",
       "        vertical-align: top;\n",
       "    }\n",
       "\n",
       "    .dataframe thead th {\n",
       "        text-align: right;\n",
       "    }\n",
       "</style>\n",
       "<table border=\"1\" class=\"dataframe\">\n",
       "  <thead>\n",
       "    <tr style=\"text-align: right;\">\n",
       "      <th></th>\n",
       "      <th>user_id</th>\n",
       "      <th>group</th>\n",
       "      <th>ab_test</th>\n",
       "      <th>first_date</th>\n",
       "      <th>region</th>\n",
       "      <th>device</th>\n",
       "      <th>event_dt</th>\n",
       "      <th>event_name</th>\n",
       "      <th>details</th>\n",
       "    </tr>\n",
       "  </thead>\n",
       "  <tbody>\n",
       "    <tr>\n",
       "      <th>9791</th>\n",
       "      <td>313EDFD0B02DB143</td>\n",
       "      <td>A</td>\n",
       "      <td>recommender_system_test</td>\n",
       "      <td>2020-12-14</td>\n",
       "      <td>EU</td>\n",
       "      <td>iPhone</td>\n",
       "      <td>2020-12-14 06:30:35</td>\n",
       "      <td>product_page</td>\n",
       "      <td>NaN</td>\n",
       "    </tr>\n",
       "    <tr>\n",
       "      <th>17932</th>\n",
       "      <td>18926530B5F5BCDD</td>\n",
       "      <td>A</td>\n",
       "      <td>recommender_system_test</td>\n",
       "      <td>2020-12-20</td>\n",
       "      <td>EU</td>\n",
       "      <td>Android</td>\n",
       "      <td>2020-12-20 06:23:22</td>\n",
       "      <td>product_cart</td>\n",
       "      <td>NaN</td>\n",
       "    </tr>\n",
       "    <tr>\n",
       "      <th>6064</th>\n",
       "      <td>983E7021DDC7E0FA</td>\n",
       "      <td>A</td>\n",
       "      <td>recommender_system_test</td>\n",
       "      <td>2020-12-21</td>\n",
       "      <td>EU</td>\n",
       "      <td>Mac</td>\n",
       "      <td>2020-12-21 15:38:02</td>\n",
       "      <td>product_page</td>\n",
       "      <td>NaN</td>\n",
       "    </tr>\n",
       "    <tr>\n",
       "      <th>6151</th>\n",
       "      <td>0E450AE02863F478</td>\n",
       "      <td>A</td>\n",
       "      <td>recommender_system_test</td>\n",
       "      <td>2020-12-17</td>\n",
       "      <td>EU</td>\n",
       "      <td>Android</td>\n",
       "      <td>2020-12-21 13:17:45</td>\n",
       "      <td>product_cart</td>\n",
       "      <td>NaN</td>\n",
       "    </tr>\n",
       "    <tr>\n",
       "      <th>18997</th>\n",
       "      <td>E18160F4BCA5344E</td>\n",
       "      <td>A</td>\n",
       "      <td>recommender_system_test</td>\n",
       "      <td>2020-12-19</td>\n",
       "      <td>EU</td>\n",
       "      <td>iPhone</td>\n",
       "      <td>2020-12-20 05:31:06</td>\n",
       "      <td>login</td>\n",
       "      <td>NaN</td>\n",
       "    </tr>\n",
       "    <tr>\n",
       "      <th>7646</th>\n",
       "      <td>C6CFFE9F0D5BC0BF</td>\n",
       "      <td>B</td>\n",
       "      <td>recommender_system_test</td>\n",
       "      <td>2020-12-09</td>\n",
       "      <td>EU</td>\n",
       "      <td>Mac</td>\n",
       "      <td>2020-12-09 23:15:30</td>\n",
       "      <td>product_cart</td>\n",
       "      <td>NaN</td>\n",
       "    </tr>\n",
       "    <tr>\n",
       "      <th>4938</th>\n",
       "      <td>568C35FDE36F7C26</td>\n",
       "      <td>A</td>\n",
       "      <td>recommender_system_test</td>\n",
       "      <td>2020-12-15</td>\n",
       "      <td>EU</td>\n",
       "      <td>Android</td>\n",
       "      <td>2020-12-15 05:11:29</td>\n",
       "      <td>purchase</td>\n",
       "      <td>9.990</td>\n",
       "    </tr>\n",
       "    <tr>\n",
       "      <th>1187</th>\n",
       "      <td>B8BA68A40CCA2F92</td>\n",
       "      <td>A</td>\n",
       "      <td>recommender_system_test</td>\n",
       "      <td>2020-12-17</td>\n",
       "      <td>EU</td>\n",
       "      <td>Android</td>\n",
       "      <td>2020-12-17 05:17:42</td>\n",
       "      <td>login</td>\n",
       "      <td>NaN</td>\n",
       "    </tr>\n",
       "    <tr>\n",
       "      <th>18227</th>\n",
       "      <td>DABC08CC80316871</td>\n",
       "      <td>A</td>\n",
       "      <td>recommender_system_test</td>\n",
       "      <td>2020-12-10</td>\n",
       "      <td>EU</td>\n",
       "      <td>PC</td>\n",
       "      <td>2020-12-29 20:09:54</td>\n",
       "      <td>login</td>\n",
       "      <td>NaN</td>\n",
       "    </tr>\n",
       "    <tr>\n",
       "      <th>16074</th>\n",
       "      <td>A244B2AA7F792F5B</td>\n",
       "      <td>B</td>\n",
       "      <td>recommender_system_test</td>\n",
       "      <td>2020-12-07</td>\n",
       "      <td>EU</td>\n",
       "      <td>PC</td>\n",
       "      <td>2020-12-09 15:24:54</td>\n",
       "      <td>product_page</td>\n",
       "      <td>NaN</td>\n",
       "    </tr>\n",
       "  </tbody>\n",
       "</table>\n",
       "</div>"
      ],
      "text/plain": [
       "                user_id group                  ab_test first_date region  \\\n",
       "9791   313EDFD0B02DB143     A  recommender_system_test 2020-12-14     EU   \n",
       "17932  18926530B5F5BCDD     A  recommender_system_test 2020-12-20     EU   \n",
       "6064   983E7021DDC7E0FA     A  recommender_system_test 2020-12-21     EU   \n",
       "6151   0E450AE02863F478     A  recommender_system_test 2020-12-17     EU   \n",
       "18997  E18160F4BCA5344E     A  recommender_system_test 2020-12-19     EU   \n",
       "7646   C6CFFE9F0D5BC0BF     B  recommender_system_test 2020-12-09     EU   \n",
       "4938   568C35FDE36F7C26     A  recommender_system_test 2020-12-15     EU   \n",
       "1187   B8BA68A40CCA2F92     A  recommender_system_test 2020-12-17     EU   \n",
       "18227  DABC08CC80316871     A  recommender_system_test 2020-12-10     EU   \n",
       "16074  A244B2AA7F792F5B     B  recommender_system_test 2020-12-07     EU   \n",
       "\n",
       "        device            event_dt    event_name  details  \n",
       "9791    iPhone 2020-12-14 06:30:35  product_page      NaN  \n",
       "17932  Android 2020-12-20 06:23:22  product_cart      NaN  \n",
       "6064       Mac 2020-12-21 15:38:02  product_page      NaN  \n",
       "6151   Android 2020-12-21 13:17:45  product_cart      NaN  \n",
       "18997   iPhone 2020-12-20 05:31:06         login      NaN  \n",
       "7646       Mac 2020-12-09 23:15:30  product_cart      NaN  \n",
       "4938   Android 2020-12-15 05:11:29      purchase    9.990  \n",
       "1187   Android 2020-12-17 05:17:42         login      NaN  \n",
       "18227       PC 2020-12-29 20:09:54         login      NaN  \n",
       "16074       PC 2020-12-09 15:24:54  product_page      NaN  "
      ]
     },
     "execution_count": 85,
     "metadata": {},
     "output_type": "execute_result"
    }
   ],
   "source": [
    "sort_log = merged1.sort_values(by=['user_id','event_dt'])\n",
    "sort_log.sample(10)"
   ]
  },
  {
   "cell_type": "code",
   "execution_count": 86,
   "metadata": {},
   "outputs": [],
   "source": [
    "def sequence(user):\n",
    "    sorted_user=sort_log[sort_log['user_id']==user].sort_values(by=['user_id','event_dt'])\n",
    "    return sorted_user['event_name'].drop_duplicates().to_list()"
   ]
  },
  {
   "cell_type": "code",
   "execution_count": 87,
   "metadata": {},
   "outputs": [],
   "source": [
    "sequence_empty=[]\n",
    "for i in sort_log.user_id.unique():\n",
    "    sequence_empty.append([i,sequence(i)])"
   ]
  },
  {
   "cell_type": "code",
   "execution_count": 88,
   "metadata": {},
   "outputs": [
    {
     "data": {
      "text/html": [
       "<div>\n",
       "<style scoped>\n",
       "    .dataframe tbody tr th:only-of-type {\n",
       "        vertical-align: middle;\n",
       "    }\n",
       "\n",
       "    .dataframe tbody tr th {\n",
       "        vertical-align: top;\n",
       "    }\n",
       "\n",
       "    .dataframe thead th {\n",
       "        text-align: right;\n",
       "    }\n",
       "</style>\n",
       "<table border=\"1\" class=\"dataframe\">\n",
       "  <thead>\n",
       "    <tr style=\"text-align: right;\">\n",
       "      <th></th>\n",
       "      <th>user</th>\n",
       "      <th>path</th>\n",
       "    </tr>\n",
       "  </thead>\n",
       "  <tbody>\n",
       "    <tr>\n",
       "      <th>0</th>\n",
       "      <td>001064FEAAB631A1</td>\n",
       "      <td>[login, product_page]</td>\n",
       "    </tr>\n",
       "    <tr>\n",
       "      <th>1</th>\n",
       "      <td>0010A1C096941592</td>\n",
       "      <td>[purchase, product_page, login]</td>\n",
       "    </tr>\n",
       "    <tr>\n",
       "      <th>2</th>\n",
       "      <td>00341D8401F0F665</td>\n",
       "      <td>[login]</td>\n",
       "    </tr>\n",
       "    <tr>\n",
       "      <th>3</th>\n",
       "      <td>003DF44D7589BBD4</td>\n",
       "      <td>[product_cart, product_page, login]</td>\n",
       "    </tr>\n",
       "    <tr>\n",
       "      <th>4</th>\n",
       "      <td>00505E15A9D81546</td>\n",
       "      <td>[login]</td>\n",
       "    </tr>\n",
       "    <tr>\n",
       "      <th>...</th>\n",
       "      <td>...</td>\n",
       "      <td>...</td>\n",
       "    </tr>\n",
       "    <tr>\n",
       "      <th>3035</th>\n",
       "      <td>FF5A1CD38F5DD996</td>\n",
       "      <td>[product_page, login]</td>\n",
       "    </tr>\n",
       "    <tr>\n",
       "      <th>3036</th>\n",
       "      <td>FF5B24BCE4387F86</td>\n",
       "      <td>[purchase, login, product_page]</td>\n",
       "    </tr>\n",
       "    <tr>\n",
       "      <th>3037</th>\n",
       "      <td>FF825C1D791989B5</td>\n",
       "      <td>[product_cart, login]</td>\n",
       "    </tr>\n",
       "    <tr>\n",
       "      <th>3038</th>\n",
       "      <td>FF8CF7057415EB29</td>\n",
       "      <td>[product_page, login]</td>\n",
       "    </tr>\n",
       "    <tr>\n",
       "      <th>3039</th>\n",
       "      <td>FFAE9489C76F352B</td>\n",
       "      <td>[login, product_page]</td>\n",
       "    </tr>\n",
       "  </tbody>\n",
       "</table>\n",
       "<p>3040 rows × 2 columns</p>\n",
       "</div>"
      ],
      "text/plain": [
       "                  user                                 path\n",
       "0     001064FEAAB631A1                [login, product_page]\n",
       "1     0010A1C096941592      [purchase, product_page, login]\n",
       "2     00341D8401F0F665                              [login]\n",
       "3     003DF44D7589BBD4  [product_cart, product_page, login]\n",
       "4     00505E15A9D81546                              [login]\n",
       "...                ...                                  ...\n",
       "3035  FF5A1CD38F5DD996                [product_page, login]\n",
       "3036  FF5B24BCE4387F86      [purchase, login, product_page]\n",
       "3037  FF825C1D791989B5                [product_cart, login]\n",
       "3038  FF8CF7057415EB29                [product_page, login]\n",
       "3039  FFAE9489C76F352B                [login, product_page]\n",
       "\n",
       "[3040 rows x 2 columns]"
      ]
     },
     "execution_count": 88,
     "metadata": {},
     "output_type": "execute_result"
    }
   ],
   "source": [
    "path_data=pd.DataFrame(sequence_empty,columns=['user','path'])\n",
    "path_data"
   ]
  },
  {
   "cell_type": "code",
   "execution_count": 89,
   "metadata": {},
   "outputs": [
    {
     "data": {
      "text/plain": [
       "['login']                                                592\n",
       "['login', 'product_page']                                502\n",
       "['product_page', 'login']                                392\n",
       "['purchase', 'login', 'product_page']                    254\n",
       "['purchase', 'login']                                    201\n",
       "['purchase', 'product_page', 'login']                    195\n",
       "['login', 'product_cart']                                131\n",
       "['product_cart', 'login']                                100\n",
       "['login', 'product_cart', 'product_page']                 96\n",
       "['product_cart', 'product_page', 'login']                 91\n",
       "['product_page', 'login', 'product_cart']                 72\n",
       "['product_cart', 'login', 'product_page']                 64\n",
       "['purchase', 'login', 'product_cart']                     61\n",
       "['purchase', 'login', 'product_cart', 'product_page']     56\n",
       "['purchase', 'product_cart', 'product_page', 'login']     51\n",
       "['login', 'product_page', 'product_cart']                 45\n",
       "['purchase', 'product_cart', 'login']                     42\n",
       "['purchase', 'product_page', 'login', 'product_cart']     39\n",
       "['purchase', 'product_cart', 'login', 'product_page']     30\n",
       "['purchase', 'login', 'product_page', 'product_cart']     19\n",
       "['login', 'purchase']                                      3\n",
       "['product_cart', 'login', 'purchase']                      1\n",
       "['login', 'product_page', 'product_cart', 'purchase']      1\n",
       "['purchase']                                               1\n",
       "['login', 'product_cart', 'purchase']                      1\n",
       "Name: path_s, dtype: Int64"
      ]
     },
     "execution_count": 89,
     "metadata": {},
     "output_type": "execute_result"
    }
   ],
   "source": [
    "path_data['path_s'] = path_data['path'].astype(\"string\")\n",
    "path_data['path_s'].value_counts()"
   ]
  },
  {
   "cell_type": "code",
   "execution_count": 90,
   "metadata": {},
   "outputs": [
    {
     "data": {
      "text/html": [
       "<div>\n",
       "<style scoped>\n",
       "    .dataframe tbody tr th:only-of-type {\n",
       "        vertical-align: middle;\n",
       "    }\n",
       "\n",
       "    .dataframe tbody tr th {\n",
       "        vertical-align: top;\n",
       "    }\n",
       "\n",
       "    .dataframe thead th {\n",
       "        text-align: right;\n",
       "    }\n",
       "</style>\n",
       "<table border=\"1\" class=\"dataframe\">\n",
       "  <thead>\n",
       "    <tr style=\"text-align: right;\">\n",
       "      <th></th>\n",
       "      <th>event_name</th>\n",
       "      <th>group</th>\n",
       "      <th>user_id</th>\n",
       "    </tr>\n",
       "  </thead>\n",
       "  <tbody>\n",
       "    <tr>\n",
       "      <th>0</th>\n",
       "      <td>login</td>\n",
       "      <td>B</td>\n",
       "      <td>760</td>\n",
       "    </tr>\n",
       "    <tr>\n",
       "      <th>2</th>\n",
       "      <td>product_page</td>\n",
       "      <td>B</td>\n",
       "      <td>431</td>\n",
       "    </tr>\n",
       "    <tr>\n",
       "      <th>3</th>\n",
       "      <td>purchase</td>\n",
       "      <td>B</td>\n",
       "      <td>221</td>\n",
       "    </tr>\n",
       "    <tr>\n",
       "      <th>1</th>\n",
       "      <td>product_cart</td>\n",
       "      <td>B</td>\n",
       "      <td>214</td>\n",
       "    </tr>\n",
       "  </tbody>\n",
       "</table>\n",
       "</div>"
      ],
      "text/plain": [
       "     event_name group  user_id\n",
       "0         login     B      760\n",
       "2  product_page     B      431\n",
       "3      purchase     B      221\n",
       "1  product_cart     B      214"
      ]
     },
     "metadata": {},
     "output_type": "display_data"
    },
    {
     "data": {
      "text/html": [
       "<div>\n",
       "<style scoped>\n",
       "    .dataframe tbody tr th:only-of-type {\n",
       "        vertical-align: middle;\n",
       "    }\n",
       "\n",
       "    .dataframe tbody tr th {\n",
       "        vertical-align: top;\n",
       "    }\n",
       "\n",
       "    .dataframe thead th {\n",
       "        text-align: right;\n",
       "    }\n",
       "</style>\n",
       "<table border=\"1\" class=\"dataframe\">\n",
       "  <thead>\n",
       "    <tr style=\"text-align: right;\">\n",
       "      <th></th>\n",
       "      <th>event_name</th>\n",
       "      <th>group</th>\n",
       "      <th>user_id</th>\n",
       "    </tr>\n",
       "  </thead>\n",
       "  <tbody>\n",
       "    <tr>\n",
       "      <th>0</th>\n",
       "      <td>login</td>\n",
       "      <td>A</td>\n",
       "      <td>2279</td>\n",
       "    </tr>\n",
       "    <tr>\n",
       "      <th>2</th>\n",
       "      <td>product_page</td>\n",
       "      <td>A</td>\n",
       "      <td>1476</td>\n",
       "    </tr>\n",
       "    <tr>\n",
       "      <th>3</th>\n",
       "      <td>purchase</td>\n",
       "      <td>A</td>\n",
       "      <td>734</td>\n",
       "    </tr>\n",
       "    <tr>\n",
       "      <th>1</th>\n",
       "      <td>product_cart</td>\n",
       "      <td>A</td>\n",
       "      <td>686</td>\n",
       "    </tr>\n",
       "  </tbody>\n",
       "</table>\n",
       "</div>"
      ],
      "text/plain": [
       "     event_name group  user_id\n",
       "0         login     A     2279\n",
       "2  product_page     A     1476\n",
       "3      purchase     A      734\n",
       "1  product_cart     A      686"
      ]
     },
     "metadata": {},
     "output_type": "display_data"
    }
   ],
   "source": [
    "funnel_by_groups=[]\n",
    "for i in sort_log.group.unique():\n",
    "    group=sort_log[sort_log.group==i].groupby(['event_name','group'])['user_id'].nunique().reset_index().sort_values(by='user_id',ascending=False)\n",
    "    display(group)\n",
    "    funnel_by_groups.append(group)\n",
    "    "
   ]
  },
  {
   "cell_type": "code",
   "execution_count": 91,
   "metadata": {},
   "outputs": [
    {
     "data": {
      "text/html": [
       "<div>\n",
       "<style scoped>\n",
       "    .dataframe tbody tr th:only-of-type {\n",
       "        vertical-align: middle;\n",
       "    }\n",
       "\n",
       "    .dataframe tbody tr th {\n",
       "        vertical-align: top;\n",
       "    }\n",
       "\n",
       "    .dataframe thead th {\n",
       "        text-align: right;\n",
       "    }\n",
       "</style>\n",
       "<table border=\"1\" class=\"dataframe\">\n",
       "  <thead>\n",
       "    <tr style=\"text-align: right;\">\n",
       "      <th></th>\n",
       "      <th>event_name</th>\n",
       "      <th>group</th>\n",
       "      <th>user_id</th>\n",
       "    </tr>\n",
       "  </thead>\n",
       "  <tbody>\n",
       "    <tr>\n",
       "      <th>0</th>\n",
       "      <td>login</td>\n",
       "      <td>B</td>\n",
       "      <td>760</td>\n",
       "    </tr>\n",
       "    <tr>\n",
       "      <th>2</th>\n",
       "      <td>product_page</td>\n",
       "      <td>B</td>\n",
       "      <td>431</td>\n",
       "    </tr>\n",
       "    <tr>\n",
       "      <th>3</th>\n",
       "      <td>purchase</td>\n",
       "      <td>B</td>\n",
       "      <td>221</td>\n",
       "    </tr>\n",
       "    <tr>\n",
       "      <th>1</th>\n",
       "      <td>product_cart</td>\n",
       "      <td>B</td>\n",
       "      <td>214</td>\n",
       "    </tr>\n",
       "    <tr>\n",
       "      <th>0</th>\n",
       "      <td>login</td>\n",
       "      <td>A</td>\n",
       "      <td>2279</td>\n",
       "    </tr>\n",
       "    <tr>\n",
       "      <th>2</th>\n",
       "      <td>product_page</td>\n",
       "      <td>A</td>\n",
       "      <td>1476</td>\n",
       "    </tr>\n",
       "    <tr>\n",
       "      <th>3</th>\n",
       "      <td>purchase</td>\n",
       "      <td>A</td>\n",
       "      <td>734</td>\n",
       "    </tr>\n",
       "    <tr>\n",
       "      <th>1</th>\n",
       "      <td>product_cart</td>\n",
       "      <td>A</td>\n",
       "      <td>686</td>\n",
       "    </tr>\n",
       "  </tbody>\n",
       "</table>\n",
       "</div>"
      ],
      "text/plain": [
       "     event_name group  user_id\n",
       "0         login     B      760\n",
       "2  product_page     B      431\n",
       "3      purchase     B      221\n",
       "1  product_cart     B      214\n",
       "0         login     A     2279\n",
       "2  product_page     A     1476\n",
       "3      purchase     A      734\n",
       "1  product_cart     A      686"
      ]
     },
     "execution_count": 91,
     "metadata": {},
     "output_type": "execute_result"
    }
   ],
   "source": [
    "funnel_by_groups=pd.concat(funnel_by_groups)\n",
    "funnel_by_groups"
   ]
  },
  {
   "cell_type": "code",
   "execution_count": 92,
   "metadata": {},
   "outputs": [
    {
     "data": {
      "application/vnd.plotly.v1+json": {
       "config": {
        "plotlyServerURL": "https://plot.ly"
       },
       "data": [
        {
         "hovertemplate": "group=B<br>user_id=%{x}<br>event_name=%{y}<extra></extra>",
         "legendgroup": "B",
         "marker": {
          "color": "#636efa"
         },
         "name": "B",
         "orientation": "h",
         "showlegend": true,
         "type": "funnel",
         "x": [
          760,
          431,
          221,
          214
         ],
         "xaxis": "x",
         "y": [
          "login",
          "product_page",
          "purchase",
          "product_cart"
         ],
         "yaxis": "y"
        },
        {
         "hovertemplate": "group=A<br>user_id=%{x}<br>event_name=%{y}<extra></extra>",
         "legendgroup": "A",
         "marker": {
          "color": "#EF553B"
         },
         "name": "A",
         "orientation": "h",
         "showlegend": true,
         "type": "funnel",
         "x": [
          2279,
          1476,
          734,
          686
         ],
         "xaxis": "x",
         "y": [
          "login",
          "product_page",
          "purchase",
          "product_cart"
         ],
         "yaxis": "y"
        }
       ],
       "layout": {
        "legend": {
         "title": {
          "text": "group"
         },
         "tracegroupgap": 0
        },
        "template": {
         "data": {
          "bar": [
           {
            "error_x": {
             "color": "#2a3f5f"
            },
            "error_y": {
             "color": "#2a3f5f"
            },
            "marker": {
             "line": {
              "color": "#E5ECF6",
              "width": 0.5
             },
             "pattern": {
              "fillmode": "overlay",
              "size": 10,
              "solidity": 0.2
             }
            },
            "type": "bar"
           }
          ],
          "barpolar": [
           {
            "marker": {
             "line": {
              "color": "#E5ECF6",
              "width": 0.5
             },
             "pattern": {
              "fillmode": "overlay",
              "size": 10,
              "solidity": 0.2
             }
            },
            "type": "barpolar"
           }
          ],
          "carpet": [
           {
            "aaxis": {
             "endlinecolor": "#2a3f5f",
             "gridcolor": "white",
             "linecolor": "white",
             "minorgridcolor": "white",
             "startlinecolor": "#2a3f5f"
            },
            "baxis": {
             "endlinecolor": "#2a3f5f",
             "gridcolor": "white",
             "linecolor": "white",
             "minorgridcolor": "white",
             "startlinecolor": "#2a3f5f"
            },
            "type": "carpet"
           }
          ],
          "choropleth": [
           {
            "colorbar": {
             "outlinewidth": 0,
             "ticks": ""
            },
            "type": "choropleth"
           }
          ],
          "contour": [
           {
            "colorbar": {
             "outlinewidth": 0,
             "ticks": ""
            },
            "colorscale": [
             [
              0,
              "#0d0887"
             ],
             [
              0.1111111111111111,
              "#46039f"
             ],
             [
              0.2222222222222222,
              "#7201a8"
             ],
             [
              0.3333333333333333,
              "#9c179e"
             ],
             [
              0.4444444444444444,
              "#bd3786"
             ],
             [
              0.5555555555555556,
              "#d8576b"
             ],
             [
              0.6666666666666666,
              "#ed7953"
             ],
             [
              0.7777777777777778,
              "#fb9f3a"
             ],
             [
              0.8888888888888888,
              "#fdca26"
             ],
             [
              1,
              "#f0f921"
             ]
            ],
            "type": "contour"
           }
          ],
          "contourcarpet": [
           {
            "colorbar": {
             "outlinewidth": 0,
             "ticks": ""
            },
            "type": "contourcarpet"
           }
          ],
          "heatmap": [
           {
            "colorbar": {
             "outlinewidth": 0,
             "ticks": ""
            },
            "colorscale": [
             [
              0,
              "#0d0887"
             ],
             [
              0.1111111111111111,
              "#46039f"
             ],
             [
              0.2222222222222222,
              "#7201a8"
             ],
             [
              0.3333333333333333,
              "#9c179e"
             ],
             [
              0.4444444444444444,
              "#bd3786"
             ],
             [
              0.5555555555555556,
              "#d8576b"
             ],
             [
              0.6666666666666666,
              "#ed7953"
             ],
             [
              0.7777777777777778,
              "#fb9f3a"
             ],
             [
              0.8888888888888888,
              "#fdca26"
             ],
             [
              1,
              "#f0f921"
             ]
            ],
            "type": "heatmap"
           }
          ],
          "heatmapgl": [
           {
            "colorbar": {
             "outlinewidth": 0,
             "ticks": ""
            },
            "colorscale": [
             [
              0,
              "#0d0887"
             ],
             [
              0.1111111111111111,
              "#46039f"
             ],
             [
              0.2222222222222222,
              "#7201a8"
             ],
             [
              0.3333333333333333,
              "#9c179e"
             ],
             [
              0.4444444444444444,
              "#bd3786"
             ],
             [
              0.5555555555555556,
              "#d8576b"
             ],
             [
              0.6666666666666666,
              "#ed7953"
             ],
             [
              0.7777777777777778,
              "#fb9f3a"
             ],
             [
              0.8888888888888888,
              "#fdca26"
             ],
             [
              1,
              "#f0f921"
             ]
            ],
            "type": "heatmapgl"
           }
          ],
          "histogram": [
           {
            "marker": {
             "pattern": {
              "fillmode": "overlay",
              "size": 10,
              "solidity": 0.2
             }
            },
            "type": "histogram"
           }
          ],
          "histogram2d": [
           {
            "colorbar": {
             "outlinewidth": 0,
             "ticks": ""
            },
            "colorscale": [
             [
              0,
              "#0d0887"
             ],
             [
              0.1111111111111111,
              "#46039f"
             ],
             [
              0.2222222222222222,
              "#7201a8"
             ],
             [
              0.3333333333333333,
              "#9c179e"
             ],
             [
              0.4444444444444444,
              "#bd3786"
             ],
             [
              0.5555555555555556,
              "#d8576b"
             ],
             [
              0.6666666666666666,
              "#ed7953"
             ],
             [
              0.7777777777777778,
              "#fb9f3a"
             ],
             [
              0.8888888888888888,
              "#fdca26"
             ],
             [
              1,
              "#f0f921"
             ]
            ],
            "type": "histogram2d"
           }
          ],
          "histogram2dcontour": [
           {
            "colorbar": {
             "outlinewidth": 0,
             "ticks": ""
            },
            "colorscale": [
             [
              0,
              "#0d0887"
             ],
             [
              0.1111111111111111,
              "#46039f"
             ],
             [
              0.2222222222222222,
              "#7201a8"
             ],
             [
              0.3333333333333333,
              "#9c179e"
             ],
             [
              0.4444444444444444,
              "#bd3786"
             ],
             [
              0.5555555555555556,
              "#d8576b"
             ],
             [
              0.6666666666666666,
              "#ed7953"
             ],
             [
              0.7777777777777778,
              "#fb9f3a"
             ],
             [
              0.8888888888888888,
              "#fdca26"
             ],
             [
              1,
              "#f0f921"
             ]
            ],
            "type": "histogram2dcontour"
           }
          ],
          "mesh3d": [
           {
            "colorbar": {
             "outlinewidth": 0,
             "ticks": ""
            },
            "type": "mesh3d"
           }
          ],
          "parcoords": [
           {
            "line": {
             "colorbar": {
              "outlinewidth": 0,
              "ticks": ""
             }
            },
            "type": "parcoords"
           }
          ],
          "pie": [
           {
            "automargin": true,
            "type": "pie"
           }
          ],
          "scatter": [
           {
            "marker": {
             "colorbar": {
              "outlinewidth": 0,
              "ticks": ""
             }
            },
            "type": "scatter"
           }
          ],
          "scatter3d": [
           {
            "line": {
             "colorbar": {
              "outlinewidth": 0,
              "ticks": ""
             }
            },
            "marker": {
             "colorbar": {
              "outlinewidth": 0,
              "ticks": ""
             }
            },
            "type": "scatter3d"
           }
          ],
          "scattercarpet": [
           {
            "marker": {
             "colorbar": {
              "outlinewidth": 0,
              "ticks": ""
             }
            },
            "type": "scattercarpet"
           }
          ],
          "scattergeo": [
           {
            "marker": {
             "colorbar": {
              "outlinewidth": 0,
              "ticks": ""
             }
            },
            "type": "scattergeo"
           }
          ],
          "scattergl": [
           {
            "marker": {
             "colorbar": {
              "outlinewidth": 0,
              "ticks": ""
             }
            },
            "type": "scattergl"
           }
          ],
          "scattermapbox": [
           {
            "marker": {
             "colorbar": {
              "outlinewidth": 0,
              "ticks": ""
             }
            },
            "type": "scattermapbox"
           }
          ],
          "scatterpolar": [
           {
            "marker": {
             "colorbar": {
              "outlinewidth": 0,
              "ticks": ""
             }
            },
            "type": "scatterpolar"
           }
          ],
          "scatterpolargl": [
           {
            "marker": {
             "colorbar": {
              "outlinewidth": 0,
              "ticks": ""
             }
            },
            "type": "scatterpolargl"
           }
          ],
          "scatterternary": [
           {
            "marker": {
             "colorbar": {
              "outlinewidth": 0,
              "ticks": ""
             }
            },
            "type": "scatterternary"
           }
          ],
          "surface": [
           {
            "colorbar": {
             "outlinewidth": 0,
             "ticks": ""
            },
            "colorscale": [
             [
              0,
              "#0d0887"
             ],
             [
              0.1111111111111111,
              "#46039f"
             ],
             [
              0.2222222222222222,
              "#7201a8"
             ],
             [
              0.3333333333333333,
              "#9c179e"
             ],
             [
              0.4444444444444444,
              "#bd3786"
             ],
             [
              0.5555555555555556,
              "#d8576b"
             ],
             [
              0.6666666666666666,
              "#ed7953"
             ],
             [
              0.7777777777777778,
              "#fb9f3a"
             ],
             [
              0.8888888888888888,
              "#fdca26"
             ],
             [
              1,
              "#f0f921"
             ]
            ],
            "type": "surface"
           }
          ],
          "table": [
           {
            "cells": {
             "fill": {
              "color": "#EBF0F8"
             },
             "line": {
              "color": "white"
             }
            },
            "header": {
             "fill": {
              "color": "#C8D4E3"
             },
             "line": {
              "color": "white"
             }
            },
            "type": "table"
           }
          ]
         },
         "layout": {
          "annotationdefaults": {
           "arrowcolor": "#2a3f5f",
           "arrowhead": 0,
           "arrowwidth": 1
          },
          "autotypenumbers": "strict",
          "coloraxis": {
           "colorbar": {
            "outlinewidth": 0,
            "ticks": ""
           }
          },
          "colorscale": {
           "diverging": [
            [
             0,
             "#8e0152"
            ],
            [
             0.1,
             "#c51b7d"
            ],
            [
             0.2,
             "#de77ae"
            ],
            [
             0.3,
             "#f1b6da"
            ],
            [
             0.4,
             "#fde0ef"
            ],
            [
             0.5,
             "#f7f7f7"
            ],
            [
             0.6,
             "#e6f5d0"
            ],
            [
             0.7,
             "#b8e186"
            ],
            [
             0.8,
             "#7fbc41"
            ],
            [
             0.9,
             "#4d9221"
            ],
            [
             1,
             "#276419"
            ]
           ],
           "sequential": [
            [
             0,
             "#0d0887"
            ],
            [
             0.1111111111111111,
             "#46039f"
            ],
            [
             0.2222222222222222,
             "#7201a8"
            ],
            [
             0.3333333333333333,
             "#9c179e"
            ],
            [
             0.4444444444444444,
             "#bd3786"
            ],
            [
             0.5555555555555556,
             "#d8576b"
            ],
            [
             0.6666666666666666,
             "#ed7953"
            ],
            [
             0.7777777777777778,
             "#fb9f3a"
            ],
            [
             0.8888888888888888,
             "#fdca26"
            ],
            [
             1,
             "#f0f921"
            ]
           ],
           "sequentialminus": [
            [
             0,
             "#0d0887"
            ],
            [
             0.1111111111111111,
             "#46039f"
            ],
            [
             0.2222222222222222,
             "#7201a8"
            ],
            [
             0.3333333333333333,
             "#9c179e"
            ],
            [
             0.4444444444444444,
             "#bd3786"
            ],
            [
             0.5555555555555556,
             "#d8576b"
            ],
            [
             0.6666666666666666,
             "#ed7953"
            ],
            [
             0.7777777777777778,
             "#fb9f3a"
            ],
            [
             0.8888888888888888,
             "#fdca26"
            ],
            [
             1,
             "#f0f921"
            ]
           ]
          },
          "colorway": [
           "#636efa",
           "#EF553B",
           "#00cc96",
           "#ab63fa",
           "#FFA15A",
           "#19d3f3",
           "#FF6692",
           "#B6E880",
           "#FF97FF",
           "#FECB52"
          ],
          "font": {
           "color": "#2a3f5f"
          },
          "geo": {
           "bgcolor": "white",
           "lakecolor": "white",
           "landcolor": "#E5ECF6",
           "showlakes": true,
           "showland": true,
           "subunitcolor": "white"
          },
          "hoverlabel": {
           "align": "left"
          },
          "hovermode": "closest",
          "mapbox": {
           "style": "light"
          },
          "paper_bgcolor": "white",
          "plot_bgcolor": "#E5ECF6",
          "polar": {
           "angularaxis": {
            "gridcolor": "white",
            "linecolor": "white",
            "ticks": ""
           },
           "bgcolor": "#E5ECF6",
           "radialaxis": {
            "gridcolor": "white",
            "linecolor": "white",
            "ticks": ""
           }
          },
          "scene": {
           "xaxis": {
            "backgroundcolor": "#E5ECF6",
            "gridcolor": "white",
            "gridwidth": 2,
            "linecolor": "white",
            "showbackground": true,
            "ticks": "",
            "zerolinecolor": "white"
           },
           "yaxis": {
            "backgroundcolor": "#E5ECF6",
            "gridcolor": "white",
            "gridwidth": 2,
            "linecolor": "white",
            "showbackground": true,
            "ticks": "",
            "zerolinecolor": "white"
           },
           "zaxis": {
            "backgroundcolor": "#E5ECF6",
            "gridcolor": "white",
            "gridwidth": 2,
            "linecolor": "white",
            "showbackground": true,
            "ticks": "",
            "zerolinecolor": "white"
           }
          },
          "shapedefaults": {
           "line": {
            "color": "#2a3f5f"
           }
          },
          "ternary": {
           "aaxis": {
            "gridcolor": "white",
            "linecolor": "white",
            "ticks": ""
           },
           "baxis": {
            "gridcolor": "white",
            "linecolor": "white",
            "ticks": ""
           },
           "bgcolor": "#E5ECF6",
           "caxis": {
            "gridcolor": "white",
            "linecolor": "white",
            "ticks": ""
           }
          },
          "title": {
           "x": 0.05
          },
          "xaxis": {
           "automargin": true,
           "gridcolor": "white",
           "linecolor": "white",
           "ticks": "",
           "title": {
            "standoff": 15
           },
           "zerolinecolor": "white",
           "zerolinewidth": 2
          },
          "yaxis": {
           "automargin": true,
           "gridcolor": "white",
           "linecolor": "white",
           "ticks": "",
           "title": {
            "standoff": 15
           },
           "zerolinecolor": "white",
           "zerolinewidth": 2
          }
         }
        },
        "title": {
         "text": "Event funnel by group"
        },
        "xaxis": {
         "anchor": "y",
         "domain": [
          0,
          1
         ],
         "title": {
          "text": "user_id"
         }
        },
        "yaxis": {
         "anchor": "x",
         "domain": [
          0,
          1
         ],
         "title": {
          "text": "event_name"
         }
        }
       }
      },
      "text/html": [
       "<div>                            <div id=\"b06cdbdf-7f60-4db0-a6fe-d53fef37f1c5\" class=\"plotly-graph-div\" style=\"height:525px; width:100%;\"></div>            <script type=\"text/javascript\">                require([\"plotly\"], function(Plotly) {                    window.PLOTLYENV=window.PLOTLYENV || {};                                    if (document.getElementById(\"b06cdbdf-7f60-4db0-a6fe-d53fef37f1c5\")) {                    Plotly.newPlot(                        \"b06cdbdf-7f60-4db0-a6fe-d53fef37f1c5\",                        [{\"hovertemplate\":\"group=B<br>user_id=%{x}<br>event_name=%{y}<extra></extra>\",\"legendgroup\":\"B\",\"marker\":{\"color\":\"#636efa\"},\"name\":\"B\",\"orientation\":\"h\",\"showlegend\":true,\"x\":[760,431,221,214],\"xaxis\":\"x\",\"y\":[\"login\",\"product_page\",\"purchase\",\"product_cart\"],\"yaxis\":\"y\",\"type\":\"funnel\"},{\"hovertemplate\":\"group=A<br>user_id=%{x}<br>event_name=%{y}<extra></extra>\",\"legendgroup\":\"A\",\"marker\":{\"color\":\"#EF553B\"},\"name\":\"A\",\"orientation\":\"h\",\"showlegend\":true,\"x\":[2279,1476,734,686],\"xaxis\":\"x\",\"y\":[\"login\",\"product_page\",\"purchase\",\"product_cart\"],\"yaxis\":\"y\",\"type\":\"funnel\"}],                        {\"template\":{\"data\":{\"bar\":[{\"error_x\":{\"color\":\"#2a3f5f\"},\"error_y\":{\"color\":\"#2a3f5f\"},\"marker\":{\"line\":{\"color\":\"#E5ECF6\",\"width\":0.5},\"pattern\":{\"fillmode\":\"overlay\",\"size\":10,\"solidity\":0.2}},\"type\":\"bar\"}],\"barpolar\":[{\"marker\":{\"line\":{\"color\":\"#E5ECF6\",\"width\":0.5},\"pattern\":{\"fillmode\":\"overlay\",\"size\":10,\"solidity\":0.2}},\"type\":\"barpolar\"}],\"carpet\":[{\"aaxis\":{\"endlinecolor\":\"#2a3f5f\",\"gridcolor\":\"white\",\"linecolor\":\"white\",\"minorgridcolor\":\"white\",\"startlinecolor\":\"#2a3f5f\"},\"baxis\":{\"endlinecolor\":\"#2a3f5f\",\"gridcolor\":\"white\",\"linecolor\":\"white\",\"minorgridcolor\":\"white\",\"startlinecolor\":\"#2a3f5f\"},\"type\":\"carpet\"}],\"choropleth\":[{\"colorbar\":{\"outlinewidth\":0,\"ticks\":\"\"},\"type\":\"choropleth\"}],\"contour\":[{\"colorbar\":{\"outlinewidth\":0,\"ticks\":\"\"},\"colorscale\":[[0.0,\"#0d0887\"],[0.1111111111111111,\"#46039f\"],[0.2222222222222222,\"#7201a8\"],[0.3333333333333333,\"#9c179e\"],[0.4444444444444444,\"#bd3786\"],[0.5555555555555556,\"#d8576b\"],[0.6666666666666666,\"#ed7953\"],[0.7777777777777778,\"#fb9f3a\"],[0.8888888888888888,\"#fdca26\"],[1.0,\"#f0f921\"]],\"type\":\"contour\"}],\"contourcarpet\":[{\"colorbar\":{\"outlinewidth\":0,\"ticks\":\"\"},\"type\":\"contourcarpet\"}],\"heatmap\":[{\"colorbar\":{\"outlinewidth\":0,\"ticks\":\"\"},\"colorscale\":[[0.0,\"#0d0887\"],[0.1111111111111111,\"#46039f\"],[0.2222222222222222,\"#7201a8\"],[0.3333333333333333,\"#9c179e\"],[0.4444444444444444,\"#bd3786\"],[0.5555555555555556,\"#d8576b\"],[0.6666666666666666,\"#ed7953\"],[0.7777777777777778,\"#fb9f3a\"],[0.8888888888888888,\"#fdca26\"],[1.0,\"#f0f921\"]],\"type\":\"heatmap\"}],\"heatmapgl\":[{\"colorbar\":{\"outlinewidth\":0,\"ticks\":\"\"},\"colorscale\":[[0.0,\"#0d0887\"],[0.1111111111111111,\"#46039f\"],[0.2222222222222222,\"#7201a8\"],[0.3333333333333333,\"#9c179e\"],[0.4444444444444444,\"#bd3786\"],[0.5555555555555556,\"#d8576b\"],[0.6666666666666666,\"#ed7953\"],[0.7777777777777778,\"#fb9f3a\"],[0.8888888888888888,\"#fdca26\"],[1.0,\"#f0f921\"]],\"type\":\"heatmapgl\"}],\"histogram\":[{\"marker\":{\"pattern\":{\"fillmode\":\"overlay\",\"size\":10,\"solidity\":0.2}},\"type\":\"histogram\"}],\"histogram2d\":[{\"colorbar\":{\"outlinewidth\":0,\"ticks\":\"\"},\"colorscale\":[[0.0,\"#0d0887\"],[0.1111111111111111,\"#46039f\"],[0.2222222222222222,\"#7201a8\"],[0.3333333333333333,\"#9c179e\"],[0.4444444444444444,\"#bd3786\"],[0.5555555555555556,\"#d8576b\"],[0.6666666666666666,\"#ed7953\"],[0.7777777777777778,\"#fb9f3a\"],[0.8888888888888888,\"#fdca26\"],[1.0,\"#f0f921\"]],\"type\":\"histogram2d\"}],\"histogram2dcontour\":[{\"colorbar\":{\"outlinewidth\":0,\"ticks\":\"\"},\"colorscale\":[[0.0,\"#0d0887\"],[0.1111111111111111,\"#46039f\"],[0.2222222222222222,\"#7201a8\"],[0.3333333333333333,\"#9c179e\"],[0.4444444444444444,\"#bd3786\"],[0.5555555555555556,\"#d8576b\"],[0.6666666666666666,\"#ed7953\"],[0.7777777777777778,\"#fb9f3a\"],[0.8888888888888888,\"#fdca26\"],[1.0,\"#f0f921\"]],\"type\":\"histogram2dcontour\"}],\"mesh3d\":[{\"colorbar\":{\"outlinewidth\":0,\"ticks\":\"\"},\"type\":\"mesh3d\"}],\"parcoords\":[{\"line\":{\"colorbar\":{\"outlinewidth\":0,\"ticks\":\"\"}},\"type\":\"parcoords\"}],\"pie\":[{\"automargin\":true,\"type\":\"pie\"}],\"scatter\":[{\"marker\":{\"colorbar\":{\"outlinewidth\":0,\"ticks\":\"\"}},\"type\":\"scatter\"}],\"scatter3d\":[{\"line\":{\"colorbar\":{\"outlinewidth\":0,\"ticks\":\"\"}},\"marker\":{\"colorbar\":{\"outlinewidth\":0,\"ticks\":\"\"}},\"type\":\"scatter3d\"}],\"scattercarpet\":[{\"marker\":{\"colorbar\":{\"outlinewidth\":0,\"ticks\":\"\"}},\"type\":\"scattercarpet\"}],\"scattergeo\":[{\"marker\":{\"colorbar\":{\"outlinewidth\":0,\"ticks\":\"\"}},\"type\":\"scattergeo\"}],\"scattergl\":[{\"marker\":{\"colorbar\":{\"outlinewidth\":0,\"ticks\":\"\"}},\"type\":\"scattergl\"}],\"scattermapbox\":[{\"marker\":{\"colorbar\":{\"outlinewidth\":0,\"ticks\":\"\"}},\"type\":\"scattermapbox\"}],\"scatterpolar\":[{\"marker\":{\"colorbar\":{\"outlinewidth\":0,\"ticks\":\"\"}},\"type\":\"scatterpolar\"}],\"scatterpolargl\":[{\"marker\":{\"colorbar\":{\"outlinewidth\":0,\"ticks\":\"\"}},\"type\":\"scatterpolargl\"}],\"scatterternary\":[{\"marker\":{\"colorbar\":{\"outlinewidth\":0,\"ticks\":\"\"}},\"type\":\"scatterternary\"}],\"surface\":[{\"colorbar\":{\"outlinewidth\":0,\"ticks\":\"\"},\"colorscale\":[[0.0,\"#0d0887\"],[0.1111111111111111,\"#46039f\"],[0.2222222222222222,\"#7201a8\"],[0.3333333333333333,\"#9c179e\"],[0.4444444444444444,\"#bd3786\"],[0.5555555555555556,\"#d8576b\"],[0.6666666666666666,\"#ed7953\"],[0.7777777777777778,\"#fb9f3a\"],[0.8888888888888888,\"#fdca26\"],[1.0,\"#f0f921\"]],\"type\":\"surface\"}],\"table\":[{\"cells\":{\"fill\":{\"color\":\"#EBF0F8\"},\"line\":{\"color\":\"white\"}},\"header\":{\"fill\":{\"color\":\"#C8D4E3\"},\"line\":{\"color\":\"white\"}},\"type\":\"table\"}]},\"layout\":{\"annotationdefaults\":{\"arrowcolor\":\"#2a3f5f\",\"arrowhead\":0,\"arrowwidth\":1},\"autotypenumbers\":\"strict\",\"coloraxis\":{\"colorbar\":{\"outlinewidth\":0,\"ticks\":\"\"}},\"colorscale\":{\"diverging\":[[0,\"#8e0152\"],[0.1,\"#c51b7d\"],[0.2,\"#de77ae\"],[0.3,\"#f1b6da\"],[0.4,\"#fde0ef\"],[0.5,\"#f7f7f7\"],[0.6,\"#e6f5d0\"],[0.7,\"#b8e186\"],[0.8,\"#7fbc41\"],[0.9,\"#4d9221\"],[1,\"#276419\"]],\"sequential\":[[0.0,\"#0d0887\"],[0.1111111111111111,\"#46039f\"],[0.2222222222222222,\"#7201a8\"],[0.3333333333333333,\"#9c179e\"],[0.4444444444444444,\"#bd3786\"],[0.5555555555555556,\"#d8576b\"],[0.6666666666666666,\"#ed7953\"],[0.7777777777777778,\"#fb9f3a\"],[0.8888888888888888,\"#fdca26\"],[1.0,\"#f0f921\"]],\"sequentialminus\":[[0.0,\"#0d0887\"],[0.1111111111111111,\"#46039f\"],[0.2222222222222222,\"#7201a8\"],[0.3333333333333333,\"#9c179e\"],[0.4444444444444444,\"#bd3786\"],[0.5555555555555556,\"#d8576b\"],[0.6666666666666666,\"#ed7953\"],[0.7777777777777778,\"#fb9f3a\"],[0.8888888888888888,\"#fdca26\"],[1.0,\"#f0f921\"]]},\"colorway\":[\"#636efa\",\"#EF553B\",\"#00cc96\",\"#ab63fa\",\"#FFA15A\",\"#19d3f3\",\"#FF6692\",\"#B6E880\",\"#FF97FF\",\"#FECB52\"],\"font\":{\"color\":\"#2a3f5f\"},\"geo\":{\"bgcolor\":\"white\",\"lakecolor\":\"white\",\"landcolor\":\"#E5ECF6\",\"showlakes\":true,\"showland\":true,\"subunitcolor\":\"white\"},\"hoverlabel\":{\"align\":\"left\"},\"hovermode\":\"closest\",\"mapbox\":{\"style\":\"light\"},\"paper_bgcolor\":\"white\",\"plot_bgcolor\":\"#E5ECF6\",\"polar\":{\"angularaxis\":{\"gridcolor\":\"white\",\"linecolor\":\"white\",\"ticks\":\"\"},\"bgcolor\":\"#E5ECF6\",\"radialaxis\":{\"gridcolor\":\"white\",\"linecolor\":\"white\",\"ticks\":\"\"}},\"scene\":{\"xaxis\":{\"backgroundcolor\":\"#E5ECF6\",\"gridcolor\":\"white\",\"gridwidth\":2,\"linecolor\":\"white\",\"showbackground\":true,\"ticks\":\"\",\"zerolinecolor\":\"white\"},\"yaxis\":{\"backgroundcolor\":\"#E5ECF6\",\"gridcolor\":\"white\",\"gridwidth\":2,\"linecolor\":\"white\",\"showbackground\":true,\"ticks\":\"\",\"zerolinecolor\":\"white\"},\"zaxis\":{\"backgroundcolor\":\"#E5ECF6\",\"gridcolor\":\"white\",\"gridwidth\":2,\"linecolor\":\"white\",\"showbackground\":true,\"ticks\":\"\",\"zerolinecolor\":\"white\"}},\"shapedefaults\":{\"line\":{\"color\":\"#2a3f5f\"}},\"ternary\":{\"aaxis\":{\"gridcolor\":\"white\",\"linecolor\":\"white\",\"ticks\":\"\"},\"baxis\":{\"gridcolor\":\"white\",\"linecolor\":\"white\",\"ticks\":\"\"},\"bgcolor\":\"#E5ECF6\",\"caxis\":{\"gridcolor\":\"white\",\"linecolor\":\"white\",\"ticks\":\"\"}},\"title\":{\"x\":0.05},\"xaxis\":{\"automargin\":true,\"gridcolor\":\"white\",\"linecolor\":\"white\",\"ticks\":\"\",\"title\":{\"standoff\":15},\"zerolinecolor\":\"white\",\"zerolinewidth\":2},\"yaxis\":{\"automargin\":true,\"gridcolor\":\"white\",\"linecolor\":\"white\",\"ticks\":\"\",\"title\":{\"standoff\":15},\"zerolinecolor\":\"white\",\"zerolinewidth\":2}}},\"xaxis\":{\"anchor\":\"y\",\"domain\":[0.0,1.0],\"title\":{\"text\":\"user_id\"}},\"yaxis\":{\"anchor\":\"x\",\"domain\":[0.0,1.0],\"title\":{\"text\":\"event_name\"}},\"legend\":{\"title\":{\"text\":\"group\"},\"tracegroupgap\":0},\"title\":{\"text\":\"Event funnel by group\"}},                        {\"responsive\": true}                    ).then(function(){\n",
       "                            \n",
       "var gd = document.getElementById('b06cdbdf-7f60-4db0-a6fe-d53fef37f1c5');\n",
       "var x = new MutationObserver(function (mutations, observer) {{\n",
       "        var display = window.getComputedStyle(gd).display;\n",
       "        if (!display || display === 'none') {{\n",
       "            console.log([gd, 'removed!']);\n",
       "            Plotly.purge(gd);\n",
       "            observer.disconnect();\n",
       "        }}\n",
       "}});\n",
       "\n",
       "// Listen for the removal of the full notebook cells\n",
       "var notebookContainer = gd.closest('#notebook-container');\n",
       "if (notebookContainer) {{\n",
       "    x.observe(notebookContainer, {childList: true});\n",
       "}}\n",
       "\n",
       "// Listen for the clearing of the current output cell\n",
       "var outputEl = gd.closest('.output');\n",
       "if (outputEl) {{\n",
       "    x.observe(outputEl, {childList: true});\n",
       "}}\n",
       "\n",
       "                        })                };                });            </script>        </div>"
      ]
     },
     "metadata": {},
     "output_type": "display_data"
    }
   ],
   "source": [
    "fig=px.funnel(funnel_by_groups,x='user_id',y='event_name',color='group', title =\"Event funnel by group\")\n",
    "fig.show()"
   ]
  },
  {
   "cell_type": "markdown",
   "metadata": {},
   "source": [
    "Conclusions: \n",
    "\n",
    "- The funnels show logical flow from login page to product page, but as purchase and cart pages are about equal the flow seams strange.\n",
    "\n",
    "- Judging by the path data (path_s), many users start at purchese page (probably by promotional link or other link), which partialy explins the abnormality mentioned before. "
   ]
  },
  {
   "cell_type": "markdown",
   "metadata": {},
   "source": [
    "### Is the number of events per user distributed equally in the samples?"
   ]
  },
  {
   "cell_type": "code",
   "execution_count": 93,
   "metadata": {},
   "outputs": [
    {
     "data": {
      "text/plain": [
       "group\n",
       "A    2279\n",
       "B     761\n",
       "Name: user_id, dtype: int64"
      ]
     },
     "execution_count": 93,
     "metadata": {},
     "output_type": "execute_result"
    }
   ],
   "source": [
    "sort_log.groupby(['group'])['user_id'].nunique()"
   ]
  },
  {
   "cell_type": "markdown",
   "metadata": {},
   "source": [
    "The groups are not disrebuted equaly."
   ]
  },
  {
   "cell_type": "code",
   "execution_count": 94,
   "metadata": {},
   "outputs": [
    {
     "data": {
      "text/plain": [
       "event_name    group\n",
       "login         A        2279\n",
       "product_page  A        1476\n",
       "login         B         760\n",
       "purchase      A         734\n",
       "product_cart  A         686\n",
       "product_page  B         431\n",
       "purchase      B         221\n",
       "product_cart  B         214\n",
       "Name: user_id, dtype: int64"
      ]
     },
     "execution_count": 94,
     "metadata": {},
     "output_type": "execute_result"
    }
   ],
   "source": [
    "sort_log.groupby(['event_name', 'group'])['user_id'].nunique().sort_values(ascending=False)"
   ]
  },
  {
   "cell_type": "markdown",
   "metadata": {},
   "source": [
    "As can be seen in the funnel and the funnel_by_groups, the number of events per user is not distributed equally in the samples. "
   ]
  },
  {
   "cell_type": "code",
   "execution_count": 95,
   "metadata": {},
   "outputs": [
    {
     "data": {
      "text/plain": [
       "event_name\n",
       "login          1.000\n",
       "product_page   0.648\n",
       "purchase       0.322\n",
       "product_cart   0.301\n",
       "Name: user_id, dtype: float64"
      ]
     },
     "execution_count": 95,
     "metadata": {},
     "output_type": "execute_result"
    }
   ],
   "source": [
    "gr_a = sort_log.query('group == \"A\"')\n",
    "gr_b = sort_log.query('group == \"B\"')\n",
    "\n",
    "gr_a.groupby(['event_name'])['user_id'].nunique().sort_values(ascending=False)/gr_a.user_id.nunique()"
   ]
  },
  {
   "cell_type": "code",
   "execution_count": 96,
   "metadata": {},
   "outputs": [
    {
     "data": {
      "text/plain": [
       "event_name\n",
       "login          0.999\n",
       "product_page   0.566\n",
       "purchase       0.290\n",
       "product_cart   0.281\n",
       "Name: user_id, dtype: float64"
      ]
     },
     "execution_count": 96,
     "metadata": {},
     "output_type": "execute_result"
    }
   ],
   "source": [
    "gr_b.groupby(['event_name'])['user_id'].nunique().sort_values(ascending=False)/gr_b.user_id.nunique()"
   ]
  },
  {
   "cell_type": "markdown",
   "metadata": {},
   "source": [
    "The funnel flow in percents shows proportins are unequal. "
   ]
  },
  {
   "cell_type": "markdown",
   "metadata": {},
   "source": [
    "### How is the number of events distributed by days?"
   ]
  },
  {
   "cell_type": "code",
   "execution_count": 97,
   "metadata": {
    "scrolled": true
   },
   "outputs": [
    {
     "data": {
      "text/html": [
       "<div>\n",
       "<style scoped>\n",
       "    .dataframe tbody tr th:only-of-type {\n",
       "        vertical-align: middle;\n",
       "    }\n",
       "\n",
       "    .dataframe tbody tr th {\n",
       "        vertical-align: top;\n",
       "    }\n",
       "\n",
       "    .dataframe thead th {\n",
       "        text-align: right;\n",
       "    }\n",
       "</style>\n",
       "<table border=\"1\" class=\"dataframe\">\n",
       "  <thead>\n",
       "    <tr style=\"text-align: right;\">\n",
       "      <th></th>\n",
       "      <th>user_id</th>\n",
       "      <th>group</th>\n",
       "      <th>ab_test</th>\n",
       "      <th>first_date</th>\n",
       "      <th>region</th>\n",
       "      <th>device</th>\n",
       "      <th>event_dt</th>\n",
       "      <th>event_name</th>\n",
       "      <th>details</th>\n",
       "      <th>date</th>\n",
       "    </tr>\n",
       "  </thead>\n",
       "  <tbody>\n",
       "    <tr>\n",
       "      <th>0</th>\n",
       "      <td>D1ABA3E2887B6A73</td>\n",
       "      <td>A</td>\n",
       "      <td>recommender_system_test</td>\n",
       "      <td>2020-12-07</td>\n",
       "      <td>EU</td>\n",
       "      <td>PC</td>\n",
       "      <td>2020-12-07 14:43:27</td>\n",
       "      <td>purchase</td>\n",
       "      <td>99.990</td>\n",
       "      <td>2020-12-07</td>\n",
       "    </tr>\n",
       "    <tr>\n",
       "      <th>1</th>\n",
       "      <td>D1ABA3E2887B6A73</td>\n",
       "      <td>A</td>\n",
       "      <td>recommender_system_test</td>\n",
       "      <td>2020-12-07</td>\n",
       "      <td>EU</td>\n",
       "      <td>PC</td>\n",
       "      <td>2020-12-07 14:43:29</td>\n",
       "      <td>product_cart</td>\n",
       "      <td>NaN</td>\n",
       "      <td>2020-12-07</td>\n",
       "    </tr>\n",
       "    <tr>\n",
       "      <th>2</th>\n",
       "      <td>D1ABA3E2887B6A73</td>\n",
       "      <td>A</td>\n",
       "      <td>recommender_system_test</td>\n",
       "      <td>2020-12-07</td>\n",
       "      <td>EU</td>\n",
       "      <td>PC</td>\n",
       "      <td>2020-12-07 14:43:27</td>\n",
       "      <td>product_page</td>\n",
       "      <td>NaN</td>\n",
       "      <td>2020-12-07</td>\n",
       "    </tr>\n",
       "    <tr>\n",
       "      <th>3</th>\n",
       "      <td>D1ABA3E2887B6A73</td>\n",
       "      <td>A</td>\n",
       "      <td>recommender_system_test</td>\n",
       "      <td>2020-12-07</td>\n",
       "      <td>EU</td>\n",
       "      <td>PC</td>\n",
       "      <td>2020-12-07 14:43:27</td>\n",
       "      <td>login</td>\n",
       "      <td>NaN</td>\n",
       "      <td>2020-12-07</td>\n",
       "    </tr>\n",
       "    <tr>\n",
       "      <th>4</th>\n",
       "      <td>A7A3664BD6242119</td>\n",
       "      <td>A</td>\n",
       "      <td>recommender_system_test</td>\n",
       "      <td>2020-12-20</td>\n",
       "      <td>EU</td>\n",
       "      <td>iPhone</td>\n",
       "      <td>2020-12-20 15:46:06</td>\n",
       "      <td>product_page</td>\n",
       "      <td>NaN</td>\n",
       "      <td>2020-12-20</td>\n",
       "    </tr>\n",
       "  </tbody>\n",
       "</table>\n",
       "</div>"
      ],
      "text/plain": [
       "            user_id group                  ab_test first_date region  device  \\\n",
       "0  D1ABA3E2887B6A73     A  recommender_system_test 2020-12-07     EU      PC   \n",
       "1  D1ABA3E2887B6A73     A  recommender_system_test 2020-12-07     EU      PC   \n",
       "2  D1ABA3E2887B6A73     A  recommender_system_test 2020-12-07     EU      PC   \n",
       "3  D1ABA3E2887B6A73     A  recommender_system_test 2020-12-07     EU      PC   \n",
       "4  A7A3664BD6242119     A  recommender_system_test 2020-12-20     EU  iPhone   \n",
       "\n",
       "             event_dt    event_name  details        date  \n",
       "0 2020-12-07 14:43:27      purchase   99.990  2020-12-07  \n",
       "1 2020-12-07 14:43:29  product_cart      NaN  2020-12-07  \n",
       "2 2020-12-07 14:43:27  product_page      NaN  2020-12-07  \n",
       "3 2020-12-07 14:43:27         login      NaN  2020-12-07  \n",
       "4 2020-12-20 15:46:06  product_page      NaN  2020-12-20  "
      ]
     },
     "execution_count": 97,
     "metadata": {},
     "output_type": "execute_result"
    }
   ],
   "source": [
    "merged1['date'] = pd.DatetimeIndex(merged1['event_dt']).date\n",
    "merged1.head()"
   ]
  },
  {
   "cell_type": "code",
   "execution_count": 98,
   "metadata": {},
   "outputs": [
    {
     "data": {
      "image/png": "[encoded data removed]",
      "text/plain": [
       "<Figure size 1080x432 with 1 Axes>"
      ]
     },
     "metadata": {
      "needs_background": "light"
     },
     "output_type": "display_data"
    }
   ],
   "source": [
    "plt.rcParams[\"figure.figsize\"] = (15,6)\n",
    "fig, ax = plt.subplots()\n",
    "sns.histplot(\n",
    "            data=merged1, x='date', hue ='event_name', multiple='dodge',\n",
    "            bins=70, ax=ax\n",
    "    )\n",
    "plt.show()"
   ]
  },
  {
   "cell_type": "markdown",
   "metadata": {},
   "source": [
    "Conclusions: \n",
    "\n",
    "- Data after 25-12-2020 is a bit problematic because it was colected during Christmas&New Year Promo (2020-12-25 to 2021-01-03), but it shows no diferance from other data as the date when they stopped taking up new users is 2020-12-21.\n",
    "\n",
    "- Cart and purchase stages are about equal most of the test.  "
   ]
  },
  {
   "cell_type": "markdown",
   "metadata": {},
   "source": [
    "## A/B Test Analysis"
   ]
  },
  {
   "cell_type": "markdown",
   "metadata": {},
   "source": [
    "The groups are not disrebuted equaly, but the proportions_ztest can be used."
   ]
  },
  {
   "cell_type": "markdown",
   "metadata": {},
   "source": [
    "### find out which test method should be applied in this case (or write a function that does that)"
   ]
  },
  {
   "cell_type": "markdown",
   "metadata": {},
   "source": [
    "**specify H0, H1 and significance level**\n",
    " \n",
    " **H0:** π₁ = π₂, There is no significant difference between the proportions of the groups. This means movemant through current step of the event funnel is not significantly different between the groups.\n",
    " \n",
    " **H1:**  π₁ != π₂, There is a significant difference between the proportions of the groups. This means movemant through current step of the event funnel is significantly different between the groups.\n",
    " \n",
    " **significance level:** 0.05, The probability of making a type I error is equal to the significance level, α.\n",
    " A type II error is a false negative result. This means there is difference between the groups, but the test yielded a p-value  greater than α. You can't have an arbitrarily low probability of making a type I error and an arbitrarily low probability of making a type II error; there is a tradeoff between the two in any hypothesis test, by choosing a significance level of 1% or 5%, we can strike a good balance between the two."
   ]
  },
  {
   "cell_type": "code",
   "execution_count": 99,
   "metadata": {},
   "outputs": [],
   "source": [
    "def eve_flow(event):\n",
    "    if event == \"login\":\n",
    "        return \"stage 1\"\n",
    "    if event == \"product_page\":\n",
    "        return \"stage 2\"    \n",
    "    if event == \"product_cart\":\n",
    "        return \"stage 3\"   \n",
    "    if event == \"purchase\":\n",
    "        return \"stage 4\"       "
   ]
  },
  {
   "cell_type": "code",
   "execution_count": 100,
   "metadata": {},
   "outputs": [
    {
     "data": {
      "text/html": [
       "<div>\n",
       "<style scoped>\n",
       "    .dataframe tbody tr th:only-of-type {\n",
       "        vertical-align: middle;\n",
       "    }\n",
       "\n",
       "    .dataframe tbody tr th {\n",
       "        vertical-align: top;\n",
       "    }\n",
       "\n",
       "    .dataframe thead th {\n",
       "        text-align: right;\n",
       "    }\n",
       "</style>\n",
       "<table border=\"1\" class=\"dataframe\">\n",
       "  <thead>\n",
       "    <tr style=\"text-align: right;\">\n",
       "      <th></th>\n",
       "      <th>user_id</th>\n",
       "      <th>group</th>\n",
       "      <th>ab_test</th>\n",
       "      <th>first_date</th>\n",
       "      <th>region</th>\n",
       "      <th>device</th>\n",
       "      <th>event_dt</th>\n",
       "      <th>event_name</th>\n",
       "      <th>details</th>\n",
       "      <th>eve_n</th>\n",
       "    </tr>\n",
       "  </thead>\n",
       "  <tbody>\n",
       "    <tr>\n",
       "      <th>668</th>\n",
       "      <td>001064FEAAB631A1</td>\n",
       "      <td>B</td>\n",
       "      <td>recommender_system_test</td>\n",
       "      <td>2020-12-20</td>\n",
       "      <td>EU</td>\n",
       "      <td>Android</td>\n",
       "      <td>2020-12-20 14:43:27</td>\n",
       "      <td>login</td>\n",
       "      <td>NaN</td>\n",
       "      <td>stage 1</td>\n",
       "    </tr>\n",
       "    <tr>\n",
       "      <th>665</th>\n",
       "      <td>001064FEAAB631A1</td>\n",
       "      <td>B</td>\n",
       "      <td>recommender_system_test</td>\n",
       "      <td>2020-12-20</td>\n",
       "      <td>EU</td>\n",
       "      <td>Android</td>\n",
       "      <td>2020-12-20 14:43:28</td>\n",
       "      <td>product_page</td>\n",
       "      <td>NaN</td>\n",
       "      <td>stage 2</td>\n",
       "    </tr>\n",
       "    <tr>\n",
       "      <th>669</th>\n",
       "      <td>001064FEAAB631A1</td>\n",
       "      <td>B</td>\n",
       "      <td>recommender_system_test</td>\n",
       "      <td>2020-12-20</td>\n",
       "      <td>EU</td>\n",
       "      <td>Android</td>\n",
       "      <td>2020-12-21 03:19:15</td>\n",
       "      <td>login</td>\n",
       "      <td>NaN</td>\n",
       "      <td>stage 1</td>\n",
       "    </tr>\n",
       "    <tr>\n",
       "      <th>666</th>\n",
       "      <td>001064FEAAB631A1</td>\n",
       "      <td>B</td>\n",
       "      <td>recommender_system_test</td>\n",
       "      <td>2020-12-20</td>\n",
       "      <td>EU</td>\n",
       "      <td>Android</td>\n",
       "      <td>2020-12-21 03:19:17</td>\n",
       "      <td>product_page</td>\n",
       "      <td>NaN</td>\n",
       "      <td>stage 2</td>\n",
       "    </tr>\n",
       "    <tr>\n",
       "      <th>670</th>\n",
       "      <td>001064FEAAB631A1</td>\n",
       "      <td>B</td>\n",
       "      <td>recommender_system_test</td>\n",
       "      <td>2020-12-20</td>\n",
       "      <td>EU</td>\n",
       "      <td>Android</td>\n",
       "      <td>2020-12-26 15:55:17</td>\n",
       "      <td>login</td>\n",
       "      <td>NaN</td>\n",
       "      <td>stage 1</td>\n",
       "    </tr>\n",
       "  </tbody>\n",
       "</table>\n",
       "</div>"
      ],
      "text/plain": [
       "              user_id group                  ab_test first_date region  \\\n",
       "668  001064FEAAB631A1     B  recommender_system_test 2020-12-20     EU   \n",
       "665  001064FEAAB631A1     B  recommender_system_test 2020-12-20     EU   \n",
       "669  001064FEAAB631A1     B  recommender_system_test 2020-12-20     EU   \n",
       "666  001064FEAAB631A1     B  recommender_system_test 2020-12-20     EU   \n",
       "670  001064FEAAB631A1     B  recommender_system_test 2020-12-20     EU   \n",
       "\n",
       "      device            event_dt    event_name  details    eve_n  \n",
       "668  Android 2020-12-20 14:43:27         login      NaN  stage 1  \n",
       "665  Android 2020-12-20 14:43:28  product_page      NaN  stage 2  \n",
       "669  Android 2020-12-21 03:19:15         login      NaN  stage 1  \n",
       "666  Android 2020-12-21 03:19:17  product_page      NaN  stage 2  \n",
       "670  Android 2020-12-26 15:55:17         login      NaN  stage 1  "
      ]
     },
     "execution_count": 100,
     "metadata": {},
     "output_type": "execute_result"
    }
   ],
   "source": [
    "sort_log['eve_n'] = sort_log['event_name'].apply(\n",
    "    eve_flow\n",
    ")\n",
    "sort_log.head()"
   ]
  },
  {
   "cell_type": "code",
   "execution_count": 101,
   "metadata": {},
   "outputs": [
    {
     "data": {
      "text/html": [
       "<div>\n",
       "<style scoped>\n",
       "    .dataframe tbody tr th:only-of-type {\n",
       "        vertical-align: middle;\n",
       "    }\n",
       "\n",
       "    .dataframe tbody tr th {\n",
       "        vertical-align: top;\n",
       "    }\n",
       "\n",
       "    .dataframe thead th {\n",
       "        text-align: right;\n",
       "    }\n",
       "</style>\n",
       "<table border=\"1\" class=\"dataframe\">\n",
       "  <thead>\n",
       "    <tr style=\"text-align: right;\">\n",
       "      <th></th>\n",
       "      <th>user_id</th>\n",
       "      <th>group</th>\n",
       "      <th>ab_test</th>\n",
       "      <th>first_date</th>\n",
       "      <th>region</th>\n",
       "      <th>device</th>\n",
       "      <th>event_dt</th>\n",
       "      <th>event_name</th>\n",
       "      <th>details</th>\n",
       "      <th>eve_n</th>\n",
       "    </tr>\n",
       "  </thead>\n",
       "  <tbody>\n",
       "    <tr>\n",
       "      <th>668</th>\n",
       "      <td>001064FEAAB631A1</td>\n",
       "      <td>B</td>\n",
       "      <td>recommender_system_test</td>\n",
       "      <td>2020-12-20</td>\n",
       "      <td>EU</td>\n",
       "      <td>Android</td>\n",
       "      <td>2020-12-20 14:43:27</td>\n",
       "      <td>login</td>\n",
       "      <td>NaN</td>\n",
       "      <td>stage 1</td>\n",
       "    </tr>\n",
       "    <tr>\n",
       "      <th>12074</th>\n",
       "      <td>B8EF6F0325A9979F</td>\n",
       "      <td>A</td>\n",
       "      <td>recommender_system_test</td>\n",
       "      <td>2020-12-20</td>\n",
       "      <td>EU</td>\n",
       "      <td>PC</td>\n",
       "      <td>2020-12-23 21:16:04</td>\n",
       "      <td>login</td>\n",
       "      <td>NaN</td>\n",
       "      <td>stage 1</td>\n",
       "    </tr>\n",
       "    <tr>\n",
       "      <th>7309</th>\n",
       "      <td>5CB4D86F5B780C81</td>\n",
       "      <td>A</td>\n",
       "      <td>recommender_system_test</td>\n",
       "      <td>2020-12-21</td>\n",
       "      <td>EU</td>\n",
       "      <td>Android</td>\n",
       "      <td>2020-12-21 08:49:13</td>\n",
       "      <td>login</td>\n",
       "      <td>NaN</td>\n",
       "      <td>stage 1</td>\n",
       "    </tr>\n",
       "    <tr>\n",
       "      <th>12073</th>\n",
       "      <td>B8EF6F0325A9979F</td>\n",
       "      <td>A</td>\n",
       "      <td>recommender_system_test</td>\n",
       "      <td>2020-12-20</td>\n",
       "      <td>EU</td>\n",
       "      <td>PC</td>\n",
       "      <td>2020-12-21 16:22:23</td>\n",
       "      <td>login</td>\n",
       "      <td>NaN</td>\n",
       "      <td>stage 1</td>\n",
       "    </tr>\n",
       "    <tr>\n",
       "      <th>7310</th>\n",
       "      <td>5CB4D86F5B780C81</td>\n",
       "      <td>A</td>\n",
       "      <td>recommender_system_test</td>\n",
       "      <td>2020-12-21</td>\n",
       "      <td>EU</td>\n",
       "      <td>Android</td>\n",
       "      <td>2020-12-22 16:55:20</td>\n",
       "      <td>login</td>\n",
       "      <td>NaN</td>\n",
       "      <td>stage 1</td>\n",
       "    </tr>\n",
       "  </tbody>\n",
       "</table>\n",
       "</div>"
      ],
      "text/plain": [
       "                user_id group                  ab_test first_date region  \\\n",
       "668    001064FEAAB631A1     B  recommender_system_test 2020-12-20     EU   \n",
       "12074  B8EF6F0325A9979F     A  recommender_system_test 2020-12-20     EU   \n",
       "7309   5CB4D86F5B780C81     A  recommender_system_test 2020-12-21     EU   \n",
       "12073  B8EF6F0325A9979F     A  recommender_system_test 2020-12-20     EU   \n",
       "7310   5CB4D86F5B780C81     A  recommender_system_test 2020-12-21     EU   \n",
       "\n",
       "        device            event_dt event_name  details    eve_n  \n",
       "668    Android 2020-12-20 14:43:27      login      NaN  stage 1  \n",
       "12074       PC 2020-12-23 21:16:04      login      NaN  stage 1  \n",
       "7309   Android 2020-12-21 08:49:13      login      NaN  stage 1  \n",
       "12073       PC 2020-12-21 16:22:23      login      NaN  stage 1  \n",
       "7310   Android 2020-12-22 16:55:20      login      NaN  stage 1  "
      ]
     },
     "execution_count": 101,
     "metadata": {},
     "output_type": "execute_result"
    }
   ],
   "source": [
    "sort_log1 = sort_log.sort_values(by='eve_n')\n",
    "sort_log1.head()"
   ]
  },
  {
   "cell_type": "code",
   "execution_count": 102,
   "metadata": {},
   "outputs": [
    {
     "data": {
      "text/html": [
       "<div>\n",
       "<style scoped>\n",
       "    .dataframe tbody tr th:only-of-type {\n",
       "        vertical-align: middle;\n",
       "    }\n",
       "\n",
       "    .dataframe tbody tr th {\n",
       "        vertical-align: top;\n",
       "    }\n",
       "\n",
       "    .dataframe thead th {\n",
       "        text-align: right;\n",
       "    }\n",
       "</style>\n",
       "<table border=\"1\" class=\"dataframe\">\n",
       "  <thead>\n",
       "    <tr style=\"text-align: right;\">\n",
       "      <th>group</th>\n",
       "      <th>eve_n</th>\n",
       "      <th>A</th>\n",
       "      <th>B</th>\n",
       "    </tr>\n",
       "  </thead>\n",
       "  <tbody>\n",
       "    <tr>\n",
       "      <th>0</th>\n",
       "      <td>stage 1</td>\n",
       "      <td>2279</td>\n",
       "      <td>760</td>\n",
       "    </tr>\n",
       "    <tr>\n",
       "      <th>1</th>\n",
       "      <td>stage 2</td>\n",
       "      <td>1476</td>\n",
       "      <td>431</td>\n",
       "    </tr>\n",
       "    <tr>\n",
       "      <th>2</th>\n",
       "      <td>stage 3</td>\n",
       "      <td>686</td>\n",
       "      <td>214</td>\n",
       "    </tr>\n",
       "    <tr>\n",
       "      <th>3</th>\n",
       "      <td>stage 4</td>\n",
       "      <td>734</td>\n",
       "      <td>221</td>\n",
       "    </tr>\n",
       "  </tbody>\n",
       "</table>\n",
       "</div>"
      ],
      "text/plain": [
       "group    eve_n     A    B\n",
       "0      stage 1  2279  760\n",
       "1      stage 2  1476  431\n",
       "2      stage 3   686  214\n",
       "3      stage 4   734  221"
      ]
     },
     "execution_count": 102,
     "metadata": {},
     "output_type": "execute_result"
    }
   ],
   "source": [
    "pivot=sort_log1.pivot_table(index='eve_n', columns='group',values='user_id',aggfunc='nunique').reset_index()\n",
    "pivot"
   ]
  },
  {
   "cell_type": "code",
   "execution_count": 103,
   "metadata": {},
   "outputs": [],
   "source": [
    "def check_hypothesis(group1,group2,event,alpha=0.05):\n",
    "    success1=pivot[pivot.eve_n==event][group1].iloc[0]\n",
    "    success2=pivot[pivot.eve_n==event][group2].iloc[0]\n",
    "    \n",
    "    trials1=sort_log[sort_log.group==group1]['user_id'].nunique()\n",
    "    trials2=sort_log[sort_log.group==group2]['user_id'].nunique()    \n",
    "    \n",
    "\n",
    "    stat, p_value = proportions_ztest([success1, success2], [trials1, trials2])\n",
    "    print('z_stat: %0.3f, p_value: %0.3f' % (stat, p_value))\n",
    "\n",
    "    if (p_value < alpha):\n",
    "        print(\"Rejecting the null hypothesis for\", event,\"and groups\", group1,group2)\n",
    "    else:\n",
    "        print(\"Failed to reject the null hypothesis for\",event,\"and groups\", group1,group2)"
   ]
  },
  {
   "cell_type": "code",
   "execution_count": 104,
   "metadata": {},
   "outputs": [],
   "source": [
    "def testing_average(sample1,sample2,alpha=0.05):\n",
    "    #checking normality\n",
    "    sample1=sample1.dropna()\n",
    "    sample2=sample2.dropna()\n",
    "    stat1, p1_norm=st.shapiro(sample1)\n",
    "    stat2, p2_norm=st.shapiro(sample2)\n",
    "    if p1_norm > alpha and p2_norm>alpha:\n",
    "        #then both normal, perform t-test.\n",
    "        #for t-test also should check the equality of variances\n",
    "        statslev,p_levene=st.levene(sample1, sample2)\n",
    "        if p_levene<alpha:\n",
    "           #variances are not equal\n",
    "            statist,p_value=st.ttest_ind(sample1, sample2,equal_var=False)\n",
    "            u_test = \"t-test var not equal\"\n",
    "        else:\n",
    "            statist,p_value=st.ttest_ind(sample1, sample2,equal_var=True) \n",
    "            u_test = \"t-test var equal\"\n",
    "    else:\n",
    "        statist,p_value=st.mannwhitneyu(sample1, sample2)\n",
    "        u_test = \"Mann–Whitney U\"\n",
    "    print(p_value)\n",
    "    if p_value<alpha:\n",
    "        print('Reject H0')\n",
    "    else:\n",
    "        print('Fail to Reject H0')\n",
    "    print(u_test)"
   ]
  },
  {
   "cell_type": "markdown",
   "metadata": {},
   "source": [
    "### Apply A/B test "
   ]
  },
  {
   "cell_type": "code",
   "execution_count": 105,
   "metadata": {},
   "outputs": [
    {
     "name": "stdout",
     "output_type": "stream",
     "text": [
      "z_stat: 1.731, p_value: 0.083\n",
      "Failed to reject the null hypothesis for stage 1 and groups A B\n",
      "z_stat: 4.016, p_value: 0.000\n",
      "Rejecting the null hypothesis for stage 2 and groups A B\n",
      "z_stat: 1.036, p_value: 0.300\n",
      "Failed to reject the null hypothesis for stage 3 and groups A B\n",
      "z_stat: 1.629, p_value: 0.103\n",
      "Failed to reject the null hypothesis for stage 4 and groups A B\n"
     ]
    }
   ],
   "source": [
    "for i in pivot.eve_n.unique():\n",
    "    check_hypothesis(\"A\", \"B\", i, alpha=0.05)\n"
   ]
  },
  {
   "cell_type": "markdown",
   "metadata": {},
   "source": [
    "### Make conclusions based on A/B test and statistical difference between the proportions"
   ]
  },
  {
   "cell_type": "markdown",
   "metadata": {},
   "source": [
    "Conclusions: \n",
    "\n",
    "- The A/B test showed no differance in the conversion rate in most funnel stages (Failed to reject the null hypothesis).\n",
    "\n",
    "- The exeption is stage 2 (product_page entry), so users view prodacts at a diferrant rate but buy at about the same rate.\n",
    "\n",
    "-  The expected 10% increase in conversion rate at each of the funnel stages, did not happen. "
   ]
  },
  {
   "cell_type": "markdown",
   "metadata": {},
   "source": [
    "## Project conclusions"
   ]
  },
  {
   "cell_type": "markdown",
   "metadata": {},
   "source": [
    "### Overall conclusions (based on EDA stage, matrics and the A/B test results)"
   ]
  },
  {
   "cell_type": "markdown",
   "metadata": {},
   "source": [
    "- The rows with missing details column are of the events other than purchase, thus having no purchase details or purchase sum, which makes sense.\n",
    "\n",
    "- All data types match the contents of the columns, and no duplicates were found.\n",
    "\n",
    "- Users assigned to multiple groups were 3% of users, and they were dropped. \n",
    "\n",
    "- Data belonging to the test (recommender_system_test), was only a small percent of the test data provided. The data also needed to be filtered by region.\n",
    "\n",
    "- All users entered via login page, 62.7% of them used the product page, 29.6% of them used the product cart, 31.4% of them made a purchase.\n",
    "\n",
    "- Judging by the path data (path_s), many users start at purchase page (probably by promotional link or promo-code) , which possibly explains the strange ratio between purchase and cart pages.\n",
    "\n",
    "- The number of events per user is not distributed equally in the samples.\n",
    "\n",
    "- Data after 25-12-2020 might be a bit problematic because it was collected during Christmas&New Year Promo (2020-12-25 to 2021-01-03), but it shows no difference from other data, possibly because the date when they stopped taking up new users is 2020-12-21.\n",
    "\n",
    "- The A/B test showed no difference in the conversion rate in most funnel stages (Failed to reject the null hypothesis). With the exception of stage 2 (product_page entry), users view products at a different rate but buy at the about same rate.\n",
    "\n",
    "-  The expected 10% increase in conversion rate at each of the funnel stages, did not happen.\n"
   ]
  },
  {
   "cell_type": "markdown",
   "metadata": {},
   "source": [
    "### Basic recommendations (based on conclusions)"
   ]
  },
  {
   "cell_type": "markdown",
   "metadata": {},
   "source": [
    "- Providing more accurate and specific data can posibly lead to clearer results.\n",
    "\n",
    "- Conducting the test not during promo events can possibly lead to better results.\n",
    "\n",
    "- While the expected 10% increase in conversion rate at each of the funnel stages, did not happen a change in the entry to product page did and judgging by 3.3 a change for the worse. The old recommendation system should probably stay as is.    "
   ]
  },
  {
   "cell_type": "code",
   "execution_count": null,
   "metadata": {},
   "outputs": [],
   "source": []
  }
 ],
 "metadata": {
  "ExecuteTimeLog": [
   {
    "duration": 26526,
    "start_time": "2022-06-12T13:38:24.329Z"
   },
   {
    "duration": 1189,
    "start_time": "2022-06-12T13:39:15.906Z"
   },
   {
    "duration": 95,
    "start_time": "2022-06-12T13:42:06.298Z"
   },
   {
    "duration": 9,
    "start_time": "2022-06-12T13:42:18.116Z"
   },
   {
    "duration": 280,
    "start_time": "2022-06-12T13:44:33.047Z"
   },
   {
    "duration": 16,
    "start_time": "2022-06-12T13:44:44.760Z"
   },
   {
    "duration": 87,
    "start_time": "2022-06-12T13:56:29.714Z"
   },
   {
    "duration": 1209,
    "start_time": "2022-06-12T13:56:32.287Z"
   },
   {
    "duration": 49,
    "start_time": "2022-06-12T13:56:35.723Z"
   },
   {
    "duration": 8,
    "start_time": "2022-06-12T14:00:29.890Z"
   },
   {
    "duration": 165,
    "start_time": "2022-06-12T14:00:32.618Z"
   },
   {
    "duration": 10,
    "start_time": "2022-06-12T14:00:33.506Z"
   },
   {
    "duration": 75,
    "start_time": "2022-06-12T14:04:00.005Z"
   },
   {
    "duration": 22,
    "start_time": "2022-06-12T14:04:01.220Z"
   },
   {
    "duration": 87,
    "start_time": "2022-06-12T14:04:02.436Z"
   },
   {
    "duration": 13,
    "start_time": "2022-06-12T14:04:04.848Z"
   },
   {
    "duration": 29,
    "start_time": "2022-06-12T14:05:08.841Z"
   },
   {
    "duration": 4,
    "start_time": "2022-06-12T14:11:00.711Z"
   },
   {
    "duration": 53,
    "start_time": "2022-06-12T14:11:10.805Z"
   },
   {
    "duration": 65,
    "start_time": "2022-06-12T14:11:40.205Z"
   },
   {
    "duration": 8,
    "start_time": "2022-06-12T14:17:17.028Z"
   },
   {
    "duration": 48,
    "start_time": "2022-06-12T14:18:54.313Z"
   },
   {
    "duration": 10,
    "start_time": "2022-06-12T14:18:57.181Z"
   },
   {
    "duration": 90,
    "start_time": "2022-06-12T14:19:38.517Z"
   },
   {
    "duration": 15,
    "start_time": "2022-06-12T14:19:46.417Z"
   },
   {
    "duration": 482,
    "start_time": "2022-06-12T14:20:39.325Z"
   },
   {
    "duration": 40,
    "start_time": "2022-06-12T14:20:42.697Z"
   },
   {
    "duration": 59,
    "start_time": "2022-06-12T14:20:51.834Z"
   },
   {
    "duration": 10,
    "start_time": "2022-06-12T14:20:52.102Z"
   },
   {
    "duration": 8,
    "start_time": "2022-06-12T14:21:47.363Z"
   },
   {
    "duration": 15,
    "start_time": "2022-06-12T14:22:04.233Z"
   },
   {
    "duration": 36,
    "start_time": "2022-06-12T14:22:30.365Z"
   },
   {
    "duration": 12,
    "start_time": "2022-06-12T14:22:48.954Z"
   },
   {
    "duration": 5,
    "start_time": "2022-06-12T14:25:57.544Z"
   },
   {
    "duration": 24,
    "start_time": "2022-06-12T14:25:58.074Z"
   },
   {
    "duration": 151,
    "start_time": "2022-06-12T14:25:58.581Z"
   },
   {
    "duration": 8,
    "start_time": "2022-06-12T14:25:58.901Z"
   },
   {
    "duration": 4,
    "start_time": "2022-06-12T14:31:12.205Z"
   },
   {
    "duration": 15,
    "start_time": "2022-06-12T14:31:34.742Z"
   },
   {
    "duration": 11,
    "start_time": "2022-06-12T14:32:03.153Z"
   },
   {
    "duration": 13,
    "start_time": "2022-06-12T14:32:29.119Z"
   },
   {
    "duration": 5,
    "start_time": "2022-06-12T14:33:03.381Z"
   },
   {
    "duration": 5,
    "start_time": "2022-06-12T14:33:28.683Z"
   },
   {
    "duration": 14,
    "start_time": "2022-06-12T14:36:17.567Z"
   },
   {
    "duration": 20,
    "start_time": "2022-06-12T14:36:47.649Z"
   },
   {
    "duration": 13,
    "start_time": "2022-06-12T14:37:08.411Z"
   },
   {
    "duration": 48,
    "start_time": "2022-06-13T18:42:04.405Z"
   },
   {
    "duration": 1395,
    "start_time": "2022-06-13T18:42:19.392Z"
   },
   {
    "duration": 39176,
    "start_time": "2022-06-13T18:42:29.080Z"
   },
   {
    "duration": 98,
    "start_time": "2022-06-13T18:43:08.259Z"
   },
   {
    "duration": 75,
    "start_time": "2022-06-13T18:43:08.358Z"
   },
   {
    "duration": 12,
    "start_time": "2022-06-13T18:43:08.435Z"
   },
   {
    "duration": 133,
    "start_time": "2022-06-13T18:43:08.448Z"
   },
   {
    "duration": 16,
    "start_time": "2022-06-13T18:43:08.583Z"
   },
   {
    "duration": 1104,
    "start_time": "2022-06-13T18:43:08.601Z"
   },
   {
    "duration": 72,
    "start_time": "2022-06-13T18:43:09.707Z"
   },
   {
    "duration": 77,
    "start_time": "2022-06-13T18:43:09.781Z"
   },
   {
    "duration": 16,
    "start_time": "2022-06-13T18:43:09.861Z"
   },
   {
    "duration": 53,
    "start_time": "2022-06-13T18:43:09.879Z"
   },
   {
    "duration": 24,
    "start_time": "2022-06-13T18:43:09.934Z"
   },
   {
    "duration": 94,
    "start_time": "2022-06-13T18:43:09.960Z"
   },
   {
    "duration": 69,
    "start_time": "2022-06-13T18:43:10.056Z"
   },
   {
    "duration": 15,
    "start_time": "2022-06-13T18:43:10.127Z"
   },
   {
    "duration": 10,
    "start_time": "2022-06-13T18:43:10.144Z"
   },
   {
    "duration": 38,
    "start_time": "2022-06-13T18:43:10.156Z"
   },
   {
    "duration": 45,
    "start_time": "2022-06-13T18:43:10.196Z"
   },
   {
    "duration": 12,
    "start_time": "2022-06-13T18:43:10.242Z"
   },
   {
    "duration": 7,
    "start_time": "2022-06-13T18:43:10.256Z"
   },
   {
    "duration": 53,
    "start_time": "2022-06-13T18:43:10.265Z"
   },
   {
    "duration": 182,
    "start_time": "2022-06-13T18:43:10.320Z"
   },
   {
    "duration": 10,
    "start_time": "2022-06-13T18:43:10.504Z"
   },
   {
    "duration": 5,
    "start_time": "2022-06-13T18:43:10.516Z"
   },
   {
    "duration": 18,
    "start_time": "2022-06-13T18:43:10.522Z"
   },
   {
    "duration": 5,
    "start_time": "2022-06-13T18:43:10.543Z"
   },
   {
    "duration": 44,
    "start_time": "2022-06-13T18:43:10.550Z"
   },
   {
    "duration": 7,
    "start_time": "2022-06-13T18:43:10.599Z"
   },
   {
    "duration": 21,
    "start_time": "2022-06-13T18:45:45.373Z"
   },
   {
    "duration": 51,
    "start_time": "2022-06-14T15:10:54.475Z"
   },
   {
    "duration": 38974,
    "start_time": "2022-06-14T15:11:03.657Z"
   },
   {
    "duration": 1309,
    "start_time": "2022-06-14T15:11:42.633Z"
   },
   {
    "duration": 73,
    "start_time": "2022-06-14T15:11:43.944Z"
   },
   {
    "duration": 11,
    "start_time": "2022-06-14T15:11:44.019Z"
   },
   {
    "duration": 166,
    "start_time": "2022-06-14T15:11:44.031Z"
   },
   {
    "duration": 19,
    "start_time": "2022-06-14T15:11:44.198Z"
   },
   {
    "duration": 1037,
    "start_time": "2022-06-14T15:11:44.218Z"
   },
   {
    "duration": 47,
    "start_time": "2022-06-14T15:11:45.257Z"
   },
   {
    "duration": 75,
    "start_time": "2022-06-14T15:11:45.306Z"
   },
   {
    "duration": 12,
    "start_time": "2022-06-14T15:11:45.384Z"
   },
   {
    "duration": 49,
    "start_time": "2022-06-14T15:11:45.398Z"
   },
   {
    "duration": 25,
    "start_time": "2022-06-14T15:11:45.449Z"
   },
   {
    "duration": 95,
    "start_time": "2022-06-14T15:11:45.476Z"
   },
   {
    "duration": 65,
    "start_time": "2022-06-14T15:11:45.573Z"
   },
   {
    "duration": 15,
    "start_time": "2022-06-14T15:11:45.640Z"
   },
   {
    "duration": 12,
    "start_time": "2022-06-14T15:11:45.657Z"
   },
   {
    "duration": 37,
    "start_time": "2022-06-14T15:11:45.671Z"
   },
   {
    "duration": 44,
    "start_time": "2022-06-14T15:11:45.710Z"
   },
   {
    "duration": 10,
    "start_time": "2022-06-14T15:11:45.756Z"
   },
   {
    "duration": 29,
    "start_time": "2022-06-14T15:11:45.768Z"
   },
   {
    "duration": 27,
    "start_time": "2022-06-14T15:11:45.798Z"
   },
   {
    "duration": 175,
    "start_time": "2022-06-14T15:11:45.827Z"
   },
   {
    "duration": 10,
    "start_time": "2022-06-14T15:11:46.003Z"
   },
   {
    "duration": 5,
    "start_time": "2022-06-14T15:11:46.014Z"
   },
   {
    "duration": 16,
    "start_time": "2022-06-14T15:11:46.020Z"
   },
   {
    "duration": 5,
    "start_time": "2022-06-14T15:11:46.038Z"
   },
   {
    "duration": 20,
    "start_time": "2022-06-14T15:11:46.044Z"
   },
   {
    "duration": 23,
    "start_time": "2022-06-14T15:11:46.094Z"
   },
   {
    "duration": 169,
    "start_time": "2022-06-14T15:11:46.120Z"
   },
   {
    "duration": 18,
    "start_time": "2022-06-14T15:15:00.713Z"
   },
   {
    "duration": 33,
    "start_time": "2022-06-14T15:20:07.688Z"
   },
   {
    "duration": 64,
    "start_time": "2022-06-14T15:25:59.726Z"
   },
   {
    "duration": 4,
    "start_time": "2022-06-14T15:27:01.672Z"
   },
   {
    "duration": 116,
    "start_time": "2022-06-14T15:27:01.991Z"
   },
   {
    "duration": 10,
    "start_time": "2022-06-14T15:27:02.272Z"
   },
   {
    "duration": 3,
    "start_time": "2022-06-14T15:27:22.707Z"
   },
   {
    "duration": 30,
    "start_time": "2022-06-14T15:27:23.534Z"
   },
   {
    "duration": 3,
    "start_time": "2022-06-14T15:27:42.255Z"
   },
   {
    "duration": 122664,
    "start_time": "2022-06-14T15:27:43.752Z"
   },
   {
    "duration": 20,
    "start_time": "2022-06-14T15:29:46.418Z"
   },
   {
    "duration": 26,
    "start_time": "2022-06-14T15:29:46.440Z"
   },
   {
    "duration": 14,
    "start_time": "2022-06-14T15:32:33.164Z"
   },
   {
    "duration": 22,
    "start_time": "2022-06-14T15:32:47.380Z"
   },
   {
    "duration": 72,
    "start_time": "2022-06-14T15:32:58.736Z"
   },
   {
    "duration": 10,
    "start_time": "2022-06-14T15:33:56.495Z"
   },
   {
    "duration": 31,
    "start_time": "2022-06-14T15:34:38.214Z"
   },
   {
    "duration": 589,
    "start_time": "2022-06-14T15:34:55.870Z"
   },
   {
    "duration": 48,
    "start_time": "2022-06-14T15:42:03.685Z"
   },
   {
    "duration": 48,
    "start_time": "2022-06-14T15:43:18.233Z"
   },
   {
    "duration": 34,
    "start_time": "2022-06-14T15:43:50.639Z"
   },
   {
    "duration": 61,
    "start_time": "2022-06-14T15:46:18.817Z"
   },
   {
    "duration": 20,
    "start_time": "2022-06-14T15:46:28.771Z"
   },
   {
    "duration": 287,
    "start_time": "2022-06-14T15:50:16.019Z"
   },
   {
    "duration": 41,
    "start_time": "2022-06-14T18:16:11.391Z"
   },
   {
    "duration": 61,
    "start_time": "2022-06-14T18:16:23.262Z"
   },
   {
    "duration": 5,
    "start_time": "2022-06-14T18:17:21.924Z"
   },
   {
    "duration": 11,
    "start_time": "2022-06-14T18:17:48.844Z"
   },
   {
    "duration": 19,
    "start_time": "2022-06-14T18:18:04.056Z"
   },
   {
    "duration": 7,
    "start_time": "2022-06-14T18:18:46.492Z"
   },
   {
    "duration": 144,
    "start_time": "2022-06-14T18:18:47.571Z"
   },
   {
    "duration": 161,
    "start_time": "2022-06-14T18:19:43.964Z"
   },
   {
    "duration": 23,
    "start_time": "2022-06-14T18:50:49.710Z"
   },
   {
    "duration": 19,
    "start_time": "2022-06-14T18:51:00.721Z"
   },
   {
    "duration": 45,
    "start_time": "2022-06-14T18:51:26.501Z"
   },
   {
    "duration": 37,
    "start_time": "2022-06-14T18:51:35.939Z"
   },
   {
    "duration": 55,
    "start_time": "2022-06-15T18:02:10.141Z"
   },
   {
    "duration": 8,
    "start_time": "2022-06-15T18:02:22.233Z"
   },
   {
    "duration": 34221,
    "start_time": "2022-06-15T18:02:29.171Z"
   },
   {
    "duration": 1544,
    "start_time": "2022-06-15T18:03:03.396Z"
   },
   {
    "duration": 82,
    "start_time": "2022-06-15T18:03:04.942Z"
   },
   {
    "duration": 11,
    "start_time": "2022-06-15T18:03:05.027Z"
   },
   {
    "duration": 311,
    "start_time": "2022-06-15T18:03:05.041Z"
   },
   {
    "duration": 23,
    "start_time": "2022-06-15T18:03:05.354Z"
   },
   {
    "duration": 1519,
    "start_time": "2022-06-15T18:03:05.379Z"
   },
   {
    "duration": 51,
    "start_time": "2022-06-15T18:03:06.900Z"
   },
   {
    "duration": 161,
    "start_time": "2022-06-15T18:03:06.953Z"
   },
   {
    "duration": 13,
    "start_time": "2022-06-15T18:03:07.117Z"
   },
   {
    "duration": 51,
    "start_time": "2022-06-15T18:03:07.132Z"
   },
   {
    "duration": 22,
    "start_time": "2022-06-15T18:03:07.186Z"
   },
   {
    "duration": 76,
    "start_time": "2022-06-15T18:03:07.210Z"
   },
   {
    "duration": 61,
    "start_time": "2022-06-15T18:03:07.287Z"
   },
   {
    "duration": 16,
    "start_time": "2022-06-15T18:03:07.349Z"
   },
   {
    "duration": 12,
    "start_time": "2022-06-15T18:03:07.367Z"
   },
   {
    "duration": 14,
    "start_time": "2022-06-15T18:03:07.381Z"
   },
   {
    "duration": 87,
    "start_time": "2022-06-15T18:03:07.396Z"
   },
   {
    "duration": 10,
    "start_time": "2022-06-15T18:03:07.485Z"
   },
   {
    "duration": 7,
    "start_time": "2022-06-15T18:03:07.497Z"
   },
   {
    "duration": 51,
    "start_time": "2022-06-15T18:03:07.506Z"
   },
   {
    "duration": 154,
    "start_time": "2022-06-15T18:03:07.559Z"
   },
   {
    "duration": 19,
    "start_time": "2022-06-15T18:03:07.716Z"
   },
   {
    "duration": 7,
    "start_time": "2022-06-15T18:03:07.737Z"
   },
   {
    "duration": 19,
    "start_time": "2022-06-15T18:03:07.746Z"
   },
   {
    "duration": 6,
    "start_time": "2022-06-15T18:03:07.767Z"
   },
   {
    "duration": 18,
    "start_time": "2022-06-15T18:03:07.775Z"
   },
   {
    "duration": 41,
    "start_time": "2022-06-15T18:03:07.797Z"
   },
   {
    "duration": 183,
    "start_time": "2022-06-15T18:03:07.840Z"
   },
   {
    "duration": 20,
    "start_time": "2022-06-15T18:03:08.027Z"
   },
   {
    "duration": 45,
    "start_time": "2022-06-15T18:03:08.049Z"
   },
   {
    "duration": 109,
    "start_time": "2022-06-15T18:03:08.096Z"
   },
   {
    "duration": 4,
    "start_time": "2022-06-15T18:03:08.207Z"
   },
   {
    "duration": 107035,
    "start_time": "2022-06-15T18:03:08.213Z"
   },
   {
    "duration": 17,
    "start_time": "2022-06-15T18:04:55.251Z"
   },
   {
    "duration": 27,
    "start_time": "2022-06-15T18:04:55.270Z"
   },
   {
    "duration": 96,
    "start_time": "2022-06-15T18:04:55.298Z"
   },
   {
    "duration": 9,
    "start_time": "2022-06-15T18:04:55.396Z"
   },
   {
    "duration": 470,
    "start_time": "2022-06-15T18:04:55.407Z"
   },
   {
    "duration": 49,
    "start_time": "2022-06-15T18:04:55.879Z"
   },
   {
    "duration": 96,
    "start_time": "2022-06-15T18:04:55.930Z"
   },
   {
    "duration": 54,
    "start_time": "2022-06-15T18:04:56.028Z"
   },
   {
    "duration": 748,
    "start_time": "2022-06-15T18:05:57.314Z"
   },
   {
    "duration": 49,
    "start_time": "2022-06-16T15:31:02.796Z"
   },
   {
    "duration": 23386,
    "start_time": "2022-06-16T15:31:12.197Z"
   },
   {
    "duration": 1375,
    "start_time": "2022-06-16T15:31:35.586Z"
   },
   {
    "duration": 72,
    "start_time": "2022-06-16T15:31:36.963Z"
   },
   {
    "duration": 10,
    "start_time": "2022-06-16T15:31:37.037Z"
   },
   {
    "duration": 131,
    "start_time": "2022-06-16T15:31:37.048Z"
   },
   {
    "duration": 17,
    "start_time": "2022-06-16T15:31:37.181Z"
   },
   {
    "duration": 1061,
    "start_time": "2022-06-16T15:31:37.199Z"
   },
   {
    "duration": 41,
    "start_time": "2022-06-16T15:31:38.261Z"
   },
   {
    "duration": 73,
    "start_time": "2022-06-16T15:31:38.304Z"
   },
   {
    "duration": 10,
    "start_time": "2022-06-16T15:31:38.380Z"
   },
   {
    "duration": 68,
    "start_time": "2022-06-16T15:31:38.392Z"
   },
   {
    "duration": 22,
    "start_time": "2022-06-16T15:31:38.462Z"
   },
   {
    "duration": 81,
    "start_time": "2022-06-16T15:31:38.486Z"
   },
   {
    "duration": 59,
    "start_time": "2022-06-16T15:31:38.569Z"
   },
   {
    "duration": 14,
    "start_time": "2022-06-16T15:31:38.630Z"
   },
   {
    "duration": 15,
    "start_time": "2022-06-16T15:31:38.646Z"
   },
   {
    "duration": 31,
    "start_time": "2022-06-16T15:31:38.663Z"
   },
   {
    "duration": 53,
    "start_time": "2022-06-16T15:31:38.696Z"
   },
   {
    "duration": 10,
    "start_time": "2022-06-16T15:31:38.751Z"
   },
   {
    "duration": 25,
    "start_time": "2022-06-16T15:31:38.762Z"
   },
   {
    "duration": 38,
    "start_time": "2022-06-16T15:31:38.789Z"
   },
   {
    "duration": 219,
    "start_time": "2022-06-16T15:31:38.829Z"
   },
   {
    "duration": 12,
    "start_time": "2022-06-16T15:31:39.051Z"
   },
   {
    "duration": 17,
    "start_time": "2022-06-16T15:31:39.065Z"
   },
   {
    "duration": 34,
    "start_time": "2022-06-16T15:31:39.084Z"
   },
   {
    "duration": 21,
    "start_time": "2022-06-16T15:31:39.120Z"
   },
   {
    "duration": 30,
    "start_time": "2022-06-16T15:31:39.143Z"
   },
   {
    "duration": 34,
    "start_time": "2022-06-16T15:31:39.176Z"
   },
   {
    "duration": 135,
    "start_time": "2022-06-16T15:31:39.212Z"
   },
   {
    "duration": 15,
    "start_time": "2022-06-16T15:31:39.349Z"
   },
   {
    "duration": 47,
    "start_time": "2022-06-16T15:31:39.365Z"
   },
   {
    "duration": 63,
    "start_time": "2022-06-16T15:31:39.414Z"
   },
   {
    "duration": 15,
    "start_time": "2022-06-16T15:31:39.479Z"
   },
   {
    "duration": 94867,
    "start_time": "2022-06-16T15:31:39.495Z"
   },
   {
    "duration": 14,
    "start_time": "2022-06-16T15:33:14.364Z"
   },
   {
    "duration": 32,
    "start_time": "2022-06-16T15:33:14.379Z"
   },
   {
    "duration": 74,
    "start_time": "2022-06-16T15:33:14.413Z"
   },
   {
    "duration": 10,
    "start_time": "2022-06-16T15:33:14.488Z"
   },
   {
    "duration": 438,
    "start_time": "2022-06-16T15:33:14.500Z"
   },
   {
    "duration": 22,
    "start_time": "2022-06-16T15:33:14.940Z"
   },
   {
    "duration": 34,
    "start_time": "2022-06-16T15:33:14.993Z"
   },
   {
    "duration": 88,
    "start_time": "2022-06-16T15:33:15.029Z"
   },
   {
    "duration": 678,
    "start_time": "2022-06-16T15:33:15.118Z"
   },
   {
    "duration": 545,
    "start_time": "2022-06-16T15:33:15.797Z"
   },
   {
    "duration": 0,
    "start_time": "2022-06-16T15:33:16.344Z"
   },
   {
    "duration": 0,
    "start_time": "2022-06-16T15:33:16.345Z"
   },
   {
    "duration": 0,
    "start_time": "2022-06-16T15:33:16.346Z"
   },
   {
    "duration": 327,
    "start_time": "2022-06-16T15:37:35.759Z"
   },
   {
    "duration": 90,
    "start_time": "2022-06-16T15:38:53.447Z"
   },
   {
    "duration": 609,
    "start_time": "2022-06-16T15:39:06.130Z"
   },
   {
    "duration": 586,
    "start_time": "2022-06-16T15:41:11.257Z"
   },
   {
    "duration": 52,
    "start_time": "2022-06-16T15:45:17.824Z"
   },
   {
    "duration": 5,
    "start_time": "2022-06-16T15:45:18.080Z"
   },
   {
    "duration": 6,
    "start_time": "2022-06-16T15:45:27.244Z"
   },
   {
    "duration": 118,
    "start_time": "2022-06-16T15:45:41.793Z"
   },
   {
    "duration": 16,
    "start_time": "2022-06-16T15:46:15.457Z"
   },
   {
    "duration": 40,
    "start_time": "2022-06-16T16:02:42.395Z"
   },
   {
    "duration": 22,
    "start_time": "2022-06-16T16:03:02.877Z"
   },
   {
    "duration": 26,
    "start_time": "2022-06-16T16:26:18.366Z"
   },
   {
    "duration": 20,
    "start_time": "2022-06-16T16:26:25.246Z"
   },
   {
    "duration": 25,
    "start_time": "2022-06-16T16:26:52.000Z"
   },
   {
    "duration": 448,
    "start_time": "2022-06-16T16:27:20.982Z"
   },
   {
    "duration": 19,
    "start_time": "2022-06-16T16:27:28.096Z"
   },
   {
    "duration": 22,
    "start_time": "2022-06-16T16:27:34.393Z"
   },
   {
    "duration": 4,
    "start_time": "2022-06-16T16:34:53.942Z"
   },
   {
    "duration": 18,
    "start_time": "2022-06-16T16:36:35.630Z"
   },
   {
    "duration": 26,
    "start_time": "2022-06-16T16:36:49.913Z"
   },
   {
    "duration": 68,
    "start_time": "2022-06-16T16:39:09.506Z"
   },
   {
    "duration": 56,
    "start_time": "2022-06-16T16:39:44.086Z"
   },
   {
    "duration": 49,
    "start_time": "2022-06-16T16:39:55.822Z"
   },
   {
    "duration": 5,
    "start_time": "2022-06-16T16:40:05.214Z"
   },
   {
    "duration": 5,
    "start_time": "2022-06-16T16:40:05.615Z"
   },
   {
    "duration": 12,
    "start_time": "2022-06-16T16:40:12.414Z"
   },
   {
    "duration": 16,
    "start_time": "2022-06-16T16:40:27.338Z"
   },
   {
    "duration": 5,
    "start_time": "2022-06-16T16:40:56.766Z"
   },
   {
    "duration": 5,
    "start_time": "2022-06-16T16:40:57.258Z"
   },
   {
    "duration": 118,
    "start_time": "2022-06-16T16:40:58.299Z"
   },
   {
    "duration": 12,
    "start_time": "2022-06-17T15:14:34.016Z"
   },
   {
    "duration": 16,
    "start_time": "2022-06-17T15:18:22.171Z"
   },
   {
    "duration": 25,
    "start_time": "2022-06-17T15:22:37.224Z"
   },
   {
    "duration": 125,
    "start_time": "2022-06-17T15:22:52.176Z"
   },
   {
    "duration": 8,
    "start_time": "2022-06-17T15:22:56.320Z"
   },
   {
    "duration": 13,
    "start_time": "2022-06-17T15:23:04.428Z"
   },
   {
    "duration": 107,
    "start_time": "2022-06-17T15:23:41.360Z"
   },
   {
    "duration": 12,
    "start_time": "2022-06-17T15:23:42.766Z"
   },
   {
    "duration": 14,
    "start_time": "2022-06-17T15:23:44.033Z"
   },
   {
    "duration": 25,
    "start_time": "2022-06-17T15:24:14.438Z"
   },
   {
    "duration": 3,
    "start_time": "2022-06-17T15:24:14.812Z"
   },
   {
    "duration": 8752,
    "start_time": "2022-06-17T15:24:15.111Z"
   },
   {
    "duration": 13,
    "start_time": "2022-06-17T15:24:23.865Z"
   },
   {
    "duration": 19,
    "start_time": "2022-06-17T15:24:23.879Z"
   },
   {
    "duration": 30,
    "start_time": "2022-06-17T15:24:23.900Z"
   },
   {
    "duration": 7,
    "start_time": "2022-06-17T15:24:23.932Z"
   },
   {
    "duration": 67,
    "start_time": "2022-06-17T15:24:23.941Z"
   },
   {
    "duration": 12,
    "start_time": "2022-06-17T15:24:49.773Z"
   },
   {
    "duration": 12,
    "start_time": "2022-06-17T15:24:59.955Z"
   },
   {
    "duration": 19,
    "start_time": "2022-06-17T15:25:04.677Z"
   },
   {
    "duration": 10,
    "start_time": "2022-06-17T15:25:05.020Z"
   },
   {
    "duration": 19,
    "start_time": "2022-06-17T15:25:56.132Z"
   },
   {
    "duration": 421,
    "start_time": "2022-06-17T15:25:56.428Z"
   },
   {
    "duration": 3,
    "start_time": "2022-06-17T15:26:09.180Z"
   },
   {
    "duration": 17,
    "start_time": "2022-06-17T15:26:10.365Z"
   },
   {
    "duration": 23,
    "start_time": "2022-06-17T15:26:11.033Z"
   },
   {
    "duration": 24,
    "start_time": "2022-06-17T15:26:11.940Z"
   },
   {
    "duration": 4,
    "start_time": "2022-06-17T15:26:12.620Z"
   },
   {
    "duration": 5,
    "start_time": "2022-06-17T15:26:13.180Z"
   },
   {
    "duration": 49,
    "start_time": "2022-06-17T15:26:14.224Z"
   }
  ],
  "kernelspec": {
   "display_name": "Python 3 (ipykernel)",
   "language": "python",
   "name": "python3"
  },
  "language_info": {
   "codemirror_mode": {
    "name": "ipython",
    "version": 3
   },
   "file_extension": ".py",
   "mimetype": "text/x-python",
   "name": "python",
   "nbconvert_exporter": "python",
   "pygments_lexer": "ipython3",
   "version": "3.9.5"
  },
  "toc": {
   "base_numbering": 1,
   "nav_menu": {},
   "number_sections": true,
   "sideBar": true,
   "skip_h1_title": true,
   "title_cell": "Table of Contents",
   "title_sidebar": "Contents",
   "toc_cell": false,
   "toc_position": {},
   "toc_section_display": true,
   "toc_window_display": false
  }
 },
 "nbformat": 4,
 "nbformat_minor": 2
}
